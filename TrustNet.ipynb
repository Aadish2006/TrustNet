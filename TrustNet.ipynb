{
  "nbformat": 4,
  "nbformat_minor": 0,
  "metadata": {
    "colab": {
      "provenance": []
    },
    "kernelspec": {
      "name": "python3",
      "display_name": "Python 3"
    },
    "language_info": {
      "name": "python"
    }
  },
  "cells": [
    {
      "cell_type": "markdown",
      "metadata": {
        "id": "ae56ab14"
      },
      "source": [
        "# Download and Load Datasets"
      ]
    },
    {
      "cell_type": "code",
      "source": [
        "import pandas as pd\n",
        "\n",
        "spam_user = pd.read_csv('spam_user.csv')\n",
        "spam_user.head()"
      ],
      "metadata": {
        "colab": {
          "base_uri": "https://localhost:8080/",
          "height": 429
        },
        "id": "gNIwp24vsDEo",
        "outputId": "19ac1e0e-ccd9-47f7-9984-07a90f60f141"
      },
      "execution_count": null,
      "outputs": [
        {
          "output_type": "execute_result",
          "data": {
            "text/plain": [
              "         id                name     screen_name  statuses_count  \\\n",
              "0  24858289      Davide Bertoli       davideb66            1299   \n",
              "1  33212890      Elisa D'Ospina    ElisaDospina           18665   \n",
              "2  39773427     Donato Vincenzo      Vladimir65           22987   \n",
              "3  57007623  Rafiela Morales L.  RafielaMorales            7975   \n",
              "4  63258466        § h a † u r♄     FabrizioC_c           20218   \n",
              "\n",
              "   followers_count  friends_count  favourites_count  listed_count  \\\n",
              "0               22             40                 1             0   \n",
              "1            12561           3442             16358           110   \n",
              "2              600            755                14             6   \n",
              "3              398            350                11             2   \n",
              "4              413            405               162             8   \n",
              "\n",
              "                      url lang  ... verified notifications  \\\n",
              "0                     NaN   it  ...      NaN           NaN   \n",
              "1  http://t.co/ceK8TovxwI   it  ...      NaN           NaN   \n",
              "2                     NaN   it  ...      NaN           NaN   \n",
              "3                     NaN   en  ...      NaN           NaN   \n",
              "4  http://t.co/PK5F0JDKcy   it  ...      NaN           NaN   \n",
              "\n",
              "                                         description  contributors_enabled  \\\n",
              "0                                                NaN                   NaN   \n",
              "1  Autrice del libro #unavitatuttacurve dal 9 apr...                   NaN   \n",
              "2                            [Live Long and Prosper]                   NaN   \n",
              "3  Cuasi Odontologa*♥,#Bipolar, #Sarcastica & Som...                   NaN   \n",
              "4  I shall rise from my own death, to avenge hers...                   NaN   \n",
              "\n",
              "   following                      created_at            timestamp  \\\n",
              "0        NaN  Tue Mar 17 08:51:12 +0000 2009  2009-03-17 09:51:12   \n",
              "1        NaN  Sun Apr 19 14:38:04 +0000 2009  2009-04-19 16:38:04   \n",
              "2        NaN  Wed May 13 15:34:41 +0000 2009  2009-05-13 17:34:41   \n",
              "3        NaN  Wed Jul 15 12:55:03 +0000 2009  2009-07-15 14:55:03   \n",
              "4        NaN  Wed Aug 05 21:12:49 +0000 2009  2009-08-05 23:12:49   \n",
              "\n",
              "            crawled_at              updated test_set_1  \n",
              "0  2014-04-19 14:46:19  2016-03-15 14:12:22          1  \n",
              "1  2014-05-18 23:20:58  2016-03-15 14:17:13          1  \n",
              "2  2014-05-13 23:21:54  2016-03-15 14:16:44          1  \n",
              "3  2014-05-19 23:24:18  2016-03-15 14:18:54          1  \n",
              "4  2014-05-11 23:22:23  2016-03-15 14:17:05          1  \n",
              "\n",
              "[5 rows x 41 columns]"
            ],
            "text/html": [
              "\n",
              "  <div id=\"df-7007656a-f59f-4a6a-b0ae-be3e6501df3c\" class=\"colab-df-container\">\n",
              "    <div>\n",
              "<style scoped>\n",
              "    .dataframe tbody tr th:only-of-type {\n",
              "        vertical-align: middle;\n",
              "    }\n",
              "\n",
              "    .dataframe tbody tr th {\n",
              "        vertical-align: top;\n",
              "    }\n",
              "\n",
              "    .dataframe thead th {\n",
              "        text-align: right;\n",
              "    }\n",
              "</style>\n",
              "<table border=\"1\" class=\"dataframe\">\n",
              "  <thead>\n",
              "    <tr style=\"text-align: right;\">\n",
              "      <th></th>\n",
              "      <th>id</th>\n",
              "      <th>name</th>\n",
              "      <th>screen_name</th>\n",
              "      <th>statuses_count</th>\n",
              "      <th>followers_count</th>\n",
              "      <th>friends_count</th>\n",
              "      <th>favourites_count</th>\n",
              "      <th>listed_count</th>\n",
              "      <th>url</th>\n",
              "      <th>lang</th>\n",
              "      <th>...</th>\n",
              "      <th>verified</th>\n",
              "      <th>notifications</th>\n",
              "      <th>description</th>\n",
              "      <th>contributors_enabled</th>\n",
              "      <th>following</th>\n",
              "      <th>created_at</th>\n",
              "      <th>timestamp</th>\n",
              "      <th>crawled_at</th>\n",
              "      <th>updated</th>\n",
              "      <th>test_set_1</th>\n",
              "    </tr>\n",
              "  </thead>\n",
              "  <tbody>\n",
              "    <tr>\n",
              "      <th>0</th>\n",
              "      <td>24858289</td>\n",
              "      <td>Davide Bertoli</td>\n",
              "      <td>davideb66</td>\n",
              "      <td>1299</td>\n",
              "      <td>22</td>\n",
              "      <td>40</td>\n",
              "      <td>1</td>\n",
              "      <td>0</td>\n",
              "      <td>NaN</td>\n",
              "      <td>it</td>\n",
              "      <td>...</td>\n",
              "      <td>NaN</td>\n",
              "      <td>NaN</td>\n",
              "      <td>NaN</td>\n",
              "      <td>NaN</td>\n",
              "      <td>NaN</td>\n",
              "      <td>Tue Mar 17 08:51:12 +0000 2009</td>\n",
              "      <td>2009-03-17 09:51:12</td>\n",
              "      <td>2014-04-19 14:46:19</td>\n",
              "      <td>2016-03-15 14:12:22</td>\n",
              "      <td>1</td>\n",
              "    </tr>\n",
              "    <tr>\n",
              "      <th>1</th>\n",
              "      <td>33212890</td>\n",
              "      <td>Elisa D'Ospina</td>\n",
              "      <td>ElisaDospina</td>\n",
              "      <td>18665</td>\n",
              "      <td>12561</td>\n",
              "      <td>3442</td>\n",
              "      <td>16358</td>\n",
              "      <td>110</td>\n",
              "      <td>http://t.co/ceK8TovxwI</td>\n",
              "      <td>it</td>\n",
              "      <td>...</td>\n",
              "      <td>NaN</td>\n",
              "      <td>NaN</td>\n",
              "      <td>Autrice del libro #unavitatuttacurve dal 9 apr...</td>\n",
              "      <td>NaN</td>\n",
              "      <td>NaN</td>\n",
              "      <td>Sun Apr 19 14:38:04 +0000 2009</td>\n",
              "      <td>2009-04-19 16:38:04</td>\n",
              "      <td>2014-05-18 23:20:58</td>\n",
              "      <td>2016-03-15 14:17:13</td>\n",
              "      <td>1</td>\n",
              "    </tr>\n",
              "    <tr>\n",
              "      <th>2</th>\n",
              "      <td>39773427</td>\n",
              "      <td>Donato Vincenzo</td>\n",
              "      <td>Vladimir65</td>\n",
              "      <td>22987</td>\n",
              "      <td>600</td>\n",
              "      <td>755</td>\n",
              "      <td>14</td>\n",
              "      <td>6</td>\n",
              "      <td>NaN</td>\n",
              "      <td>it</td>\n",
              "      <td>...</td>\n",
              "      <td>NaN</td>\n",
              "      <td>NaN</td>\n",
              "      <td>[Live Long and Prosper]</td>\n",
              "      <td>NaN</td>\n",
              "      <td>NaN</td>\n",
              "      <td>Wed May 13 15:34:41 +0000 2009</td>\n",
              "      <td>2009-05-13 17:34:41</td>\n",
              "      <td>2014-05-13 23:21:54</td>\n",
              "      <td>2016-03-15 14:16:44</td>\n",
              "      <td>1</td>\n",
              "    </tr>\n",
              "    <tr>\n",
              "      <th>3</th>\n",
              "      <td>57007623</td>\n",
              "      <td>Rafiela Morales L.</td>\n",
              "      <td>RafielaMorales</td>\n",
              "      <td>7975</td>\n",
              "      <td>398</td>\n",
              "      <td>350</td>\n",
              "      <td>11</td>\n",
              "      <td>2</td>\n",
              "      <td>NaN</td>\n",
              "      <td>en</td>\n",
              "      <td>...</td>\n",
              "      <td>NaN</td>\n",
              "      <td>NaN</td>\n",
              "      <td>Cuasi Odontologa*♥,#Bipolar, #Sarcastica &amp; Som...</td>\n",
              "      <td>NaN</td>\n",
              "      <td>NaN</td>\n",
              "      <td>Wed Jul 15 12:55:03 +0000 2009</td>\n",
              "      <td>2009-07-15 14:55:03</td>\n",
              "      <td>2014-05-19 23:24:18</td>\n",
              "      <td>2016-03-15 14:18:54</td>\n",
              "      <td>1</td>\n",
              "    </tr>\n",
              "    <tr>\n",
              "      <th>4</th>\n",
              "      <td>63258466</td>\n",
              "      <td>§ h a † u r♄</td>\n",
              "      <td>FabrizioC_c</td>\n",
              "      <td>20218</td>\n",
              "      <td>413</td>\n",
              "      <td>405</td>\n",
              "      <td>162</td>\n",
              "      <td>8</td>\n",
              "      <td>http://t.co/PK5F0JDKcy</td>\n",
              "      <td>it</td>\n",
              "      <td>...</td>\n",
              "      <td>NaN</td>\n",
              "      <td>NaN</td>\n",
              "      <td>I shall rise from my own death, to avenge hers...</td>\n",
              "      <td>NaN</td>\n",
              "      <td>NaN</td>\n",
              "      <td>Wed Aug 05 21:12:49 +0000 2009</td>\n",
              "      <td>2009-08-05 23:12:49</td>\n",
              "      <td>2014-05-11 23:22:23</td>\n",
              "      <td>2016-03-15 14:17:05</td>\n",
              "      <td>1</td>\n",
              "    </tr>\n",
              "  </tbody>\n",
              "</table>\n",
              "<p>5 rows × 41 columns</p>\n",
              "</div>\n",
              "    <div class=\"colab-df-buttons\">\n",
              "\n",
              "  <div class=\"colab-df-container\">\n",
              "    <button class=\"colab-df-convert\" onclick=\"convertToInteractive('df-7007656a-f59f-4a6a-b0ae-be3e6501df3c')\"\n",
              "            title=\"Convert this dataframe to an interactive table.\"\n",
              "            style=\"display:none;\">\n",
              "\n",
              "  <svg xmlns=\"http://www.w3.org/2000/svg\" height=\"24px\" viewBox=\"0 -960 960 960\">\n",
              "    <path d=\"M120-120v-720h720v720H120Zm60-500h600v-160H180v160Zm220 220h160v-160H400v160Zm0 220h160v-160H400v160ZM180-400h160v-160H180v160Zm440 0h160v-160H620v160ZM180-180h160v-160H180v160Zm440 0h160v-160H620v160Z\"/>\n",
              "  </svg>\n",
              "    </button>\n",
              "\n",
              "  <style>\n",
              "    .colab-df-container {\n",
              "      display:flex;\n",
              "      gap: 12px;\n",
              "    }\n",
              "\n",
              "    .colab-df-convert {\n",
              "      background-color: #E8F0FE;\n",
              "      border: none;\n",
              "      border-radius: 50%;\n",
              "      cursor: pointer;\n",
              "      display: none;\n",
              "      fill: #1967D2;\n",
              "      height: 32px;\n",
              "      padding: 0 0 0 0;\n",
              "      width: 32px;\n",
              "    }\n",
              "\n",
              "    .colab-df-convert:hover {\n",
              "      background-color: #E2EBFA;\n",
              "      box-shadow: 0px 1px 2px rgba(60, 64, 67, 0.3), 0px 1px 3px 1px rgba(60, 64, 67, 0.15);\n",
              "      fill: #174EA6;\n",
              "    }\n",
              "\n",
              "    .colab-df-buttons div {\n",
              "      margin-bottom: 4px;\n",
              "    }\n",
              "\n",
              "    [theme=dark] .colab-df-convert {\n",
              "      background-color: #3B4455;\n",
              "      fill: #D2E3FC;\n",
              "    }\n",
              "\n",
              "    [theme=dark] .colab-df-convert:hover {\n",
              "      background-color: #434B5C;\n",
              "      box-shadow: 0px 1px 3px 1px rgba(0, 0, 0, 0.15);\n",
              "      filter: drop-shadow(0px 1px 2px rgba(0, 0, 0, 0.3));\n",
              "      fill: #FFFFFF;\n",
              "    }\n",
              "  </style>\n",
              "\n",
              "    <script>\n",
              "      const buttonEl =\n",
              "        document.querySelector('#df-7007656a-f59f-4a6a-b0ae-be3e6501df3c button.colab-df-convert');\n",
              "      buttonEl.style.display =\n",
              "        google.colab.kernel.accessAllowed ? 'block' : 'none';\n",
              "\n",
              "      async function convertToInteractive(key) {\n",
              "        const element = document.querySelector('#df-7007656a-f59f-4a6a-b0ae-be3e6501df3c');\n",
              "        const dataTable =\n",
              "          await google.colab.kernel.invokeFunction('convertToInteractive',\n",
              "                                                    [key], {});\n",
              "        if (!dataTable) return;\n",
              "\n",
              "        const docLinkHtml = 'Like what you see? Visit the ' +\n",
              "          '<a target=\"_blank\" href=https://colab.research.google.com/notebooks/data_table.ipynb>data table notebook</a>'\n",
              "          + ' to learn more about interactive tables.';\n",
              "        element.innerHTML = '';\n",
              "        dataTable['output_type'] = 'display_data';\n",
              "        await google.colab.output.renderOutput(dataTable, element);\n",
              "        const docLink = document.createElement('div');\n",
              "        docLink.innerHTML = docLinkHtml;\n",
              "        element.appendChild(docLink);\n",
              "      }\n",
              "    </script>\n",
              "  </div>\n",
              "\n",
              "\n",
              "    <div id=\"df-0a11320a-8459-44ba-83ce-20ff003bfbec\">\n",
              "      <button class=\"colab-df-quickchart\" onclick=\"quickchart('df-0a11320a-8459-44ba-83ce-20ff003bfbec')\"\n",
              "                title=\"Suggest charts\"\n",
              "                style=\"display:none;\">\n",
              "\n",
              "<svg xmlns=\"http://www.w3.org/2000/svg\" height=\"24px\"viewBox=\"0 0 24 24\"\n",
              "     width=\"24px\">\n",
              "    <g>\n",
              "        <path d=\"M19 3H5c-1.1 0-2 .9-2 2v14c0 1.1.9 2 2 2h14c1.1 0 2-.9 2-2V5c0-1.1-.9-2-2-2zM9 17H7v-7h2v7zm4 0h-2V7h2v10zm4 0h-2v-4h2v4z\"/>\n",
              "    </g>\n",
              "</svg>\n",
              "      </button>\n",
              "\n",
              "<style>\n",
              "  .colab-df-quickchart {\n",
              "      --bg-color: #E8F0FE;\n",
              "      --fill-color: #1967D2;\n",
              "      --hover-bg-color: #E2EBFA;\n",
              "      --hover-fill-color: #174EA6;\n",
              "      --disabled-fill-color: #AAA;\n",
              "      --disabled-bg-color: #DDD;\n",
              "  }\n",
              "\n",
              "  [theme=dark] .colab-df-quickchart {\n",
              "      --bg-color: #3B4455;\n",
              "      --fill-color: #D2E3FC;\n",
              "      --hover-bg-color: #434B5C;\n",
              "      --hover-fill-color: #FFFFFF;\n",
              "      --disabled-bg-color: #3B4455;\n",
              "      --disabled-fill-color: #666;\n",
              "  }\n",
              "\n",
              "  .colab-df-quickchart {\n",
              "    background-color: var(--bg-color);\n",
              "    border: none;\n",
              "    border-radius: 50%;\n",
              "    cursor: pointer;\n",
              "    display: none;\n",
              "    fill: var(--fill-color);\n",
              "    height: 32px;\n",
              "    padding: 0;\n",
              "    width: 32px;\n",
              "  }\n",
              "\n",
              "  .colab-df-quickchart:hover {\n",
              "    background-color: var(--hover-bg-color);\n",
              "    box-shadow: 0 1px 2px rgba(60, 64, 67, 0.3), 0 1px 3px 1px rgba(60, 64, 67, 0.15);\n",
              "    fill: var(--button-hover-fill-color);\n",
              "  }\n",
              "\n",
              "  .colab-df-quickchart-complete:disabled,\n",
              "  .colab-df-quickchart-complete:disabled:hover {\n",
              "    background-color: var(--disabled-bg-color);\n",
              "    fill: var(--disabled-fill-color);\n",
              "    box-shadow: none;\n",
              "  }\n",
              "\n",
              "  .colab-df-spinner {\n",
              "    border: 2px solid var(--fill-color);\n",
              "    border-color: transparent;\n",
              "    border-bottom-color: var(--fill-color);\n",
              "    animation:\n",
              "      spin 1s steps(1) infinite;\n",
              "  }\n",
              "\n",
              "  @keyframes spin {\n",
              "    0% {\n",
              "      border-color: transparent;\n",
              "      border-bottom-color: var(--fill-color);\n",
              "      border-left-color: var(--fill-color);\n",
              "    }\n",
              "    20% {\n",
              "      border-color: transparent;\n",
              "      border-left-color: var(--fill-color);\n",
              "      border-top-color: var(--fill-color);\n",
              "    }\n",
              "    30% {\n",
              "      border-color: transparent;\n",
              "      border-left-color: var(--fill-color);\n",
              "      border-top-color: var(--fill-color);\n",
              "      border-right-color: var(--fill-color);\n",
              "    }\n",
              "    40% {\n",
              "      border-color: transparent;\n",
              "      border-right-color: var(--fill-color);\n",
              "      border-top-color: var(--fill-color);\n",
              "    }\n",
              "    60% {\n",
              "      border-color: transparent;\n",
              "      border-right-color: var(--fill-color);\n",
              "    }\n",
              "    80% {\n",
              "      border-color: transparent;\n",
              "      border-right-color: var(--fill-color);\n",
              "      border-bottom-color: var(--fill-color);\n",
              "    }\n",
              "    90% {\n",
              "      border-color: transparent;\n",
              "      border-bottom-color: var(--fill-color);\n",
              "    }\n",
              "  }\n",
              "</style>\n",
              "\n",
              "      <script>\n",
              "        async function quickchart(key) {\n",
              "          const quickchartButtonEl =\n",
              "            document.querySelector('#' + key + ' button');\n",
              "          quickchartButtonEl.disabled = true;  // To prevent multiple clicks.\n",
              "          quickchartButtonEl.classList.add('colab-df-spinner');\n",
              "          try {\n",
              "            const charts = await google.colab.kernel.invokeFunction(\n",
              "                'suggestCharts', [key], {});\n",
              "          } catch (error) {\n",
              "            console.error('Error during call to suggestCharts:', error);\n",
              "          }\n",
              "          quickchartButtonEl.classList.remove('colab-df-spinner');\n",
              "          quickchartButtonEl.classList.add('colab-df-quickchart-complete');\n",
              "        }\n",
              "        (() => {\n",
              "          let quickchartButtonEl =\n",
              "            document.querySelector('#df-0a11320a-8459-44ba-83ce-20ff003bfbec button');\n",
              "          quickchartButtonEl.style.display =\n",
              "            google.colab.kernel.accessAllowed ? 'block' : 'none';\n",
              "        })();\n",
              "      </script>\n",
              "    </div>\n",
              "\n",
              "    </div>\n",
              "  </div>\n"
            ],
            "application/vnd.google.colaboratory.intrinsic+json": {
              "type": "dataframe",
              "variable_name": "spam_user"
            }
          },
          "metadata": {},
          "execution_count": 579
        }
      ]
    },
    {
      "cell_type": "code",
      "source": [
        "genuine_user = pd.read_csv('genuine_users.csv')\n",
        "genuine_user.head()"
      ],
      "metadata": {
        "colab": {
          "base_uri": "https://localhost:8080/",
          "height": 533
        },
        "id": "n1J5pfCKpbQy",
        "outputId": "6dbf3c68-8dd2-47f9-b2c0-2cf231c85a42"
      },
      "execution_count": null,
      "outputs": [
        {
          "output_type": "execute_result",
          "data": {
            "text/plain": [
              "           id               name      screen_name  statuses_count  \\\n",
              "0  1502026416    TASUKU HAYAKAWA         0918Bask            2177   \n",
              "1  2492782375              ro_or         1120Roll            2660   \n",
              "2   293212315           bearclaw        14KBBrown            1254   \n",
              "3   191839658  pocahontas farida      wadespeters          202968   \n",
              "4  3020965143           Ms Kathy  191a5bd05da04dc              82   \n",
              "\n",
              "   followers_count  friends_count  favourites_count  listed_count  \\\n",
              "0              208            332               265             1   \n",
              "1              330            485              3972             5   \n",
              "2              166            177              1185             0   \n",
              "3             2248            981             60304           101   \n",
              "4               21             79                 5             0   \n",
              "\n",
              "                      url lang  ... notifications  \\\n",
              "0                     NaN   ja  ...           NaN   \n",
              "1                     NaN   ja  ...           NaN   \n",
              "2                     NaN   en  ...           NaN   \n",
              "3  http://t.co/rGV0HIJGsu   en  ...           NaN   \n",
              "4                     NaN   en  ...           NaN   \n",
              "\n",
              "                                         description  contributors_enabled  \\\n",
              "0                              15years ago X.Lines24                   NaN   \n",
              "1   保守見習い地元大好き人間。 経済学、電工、仏教を勉強中、ちなDeではいかんのか？ (*^◯^*)                   NaN   \n",
              "2                 Let me see what your best move is!                   NaN   \n",
              "3  20. menna: #farida #nyc and the 80s actually y...                   NaN   \n",
              "4                                      Cosmetologist                   NaN   \n",
              "\n",
              "   following                      created_at            timestamp  \\\n",
              "0        NaN  Tue Jun 11 11:20:35 +0000 2013  2013-06-11 13:20:35   \n",
              "1        NaN  Tue May 13 10:37:57 +0000 2014  2014-05-13 12:37:57   \n",
              "2        NaN  Wed May 04 23:30:37 +0000 2011  2011-05-05 01:30:37   \n",
              "3        NaN  Fri Sep 17 14:02:10 +0000 2010  2010-09-17 16:02:10   \n",
              "4        NaN  Fri Feb 06 04:10:49 +0000 2015  2015-02-06 05:10:49   \n",
              "\n",
              "            crawled_at              updated test_set_1 test_set_2  \n",
              "0  2015-05-02 06:41:46  2016-03-15 15:53:47          0          0  \n",
              "1  2015-05-01 17:20:27  2016-03-15 15:53:48          0          0  \n",
              "2  2015-05-01 18:48:28  2016-03-15 15:53:48          0          0  \n",
              "3  2015-05-01 13:55:16  2016-03-15 15:53:48          0          0  \n",
              "4  2015-05-02 01:17:32  2016-03-15 15:53:48          0          0  \n",
              "\n",
              "[5 rows x 42 columns]"
            ],
            "text/html": [
              "\n",
              "  <div id=\"df-e151f25f-713d-4482-83df-b8d9685bba6d\" class=\"colab-df-container\">\n",
              "    <div>\n",
              "<style scoped>\n",
              "    .dataframe tbody tr th:only-of-type {\n",
              "        vertical-align: middle;\n",
              "    }\n",
              "\n",
              "    .dataframe tbody tr th {\n",
              "        vertical-align: top;\n",
              "    }\n",
              "\n",
              "    .dataframe thead th {\n",
              "        text-align: right;\n",
              "    }\n",
              "</style>\n",
              "<table border=\"1\" class=\"dataframe\">\n",
              "  <thead>\n",
              "    <tr style=\"text-align: right;\">\n",
              "      <th></th>\n",
              "      <th>id</th>\n",
              "      <th>name</th>\n",
              "      <th>screen_name</th>\n",
              "      <th>statuses_count</th>\n",
              "      <th>followers_count</th>\n",
              "      <th>friends_count</th>\n",
              "      <th>favourites_count</th>\n",
              "      <th>listed_count</th>\n",
              "      <th>url</th>\n",
              "      <th>lang</th>\n",
              "      <th>...</th>\n",
              "      <th>notifications</th>\n",
              "      <th>description</th>\n",
              "      <th>contributors_enabled</th>\n",
              "      <th>following</th>\n",
              "      <th>created_at</th>\n",
              "      <th>timestamp</th>\n",
              "      <th>crawled_at</th>\n",
              "      <th>updated</th>\n",
              "      <th>test_set_1</th>\n",
              "      <th>test_set_2</th>\n",
              "    </tr>\n",
              "  </thead>\n",
              "  <tbody>\n",
              "    <tr>\n",
              "      <th>0</th>\n",
              "      <td>1502026416</td>\n",
              "      <td>TASUKU HAYAKAWA</td>\n",
              "      <td>0918Bask</td>\n",
              "      <td>2177</td>\n",
              "      <td>208</td>\n",
              "      <td>332</td>\n",
              "      <td>265</td>\n",
              "      <td>1</td>\n",
              "      <td>NaN</td>\n",
              "      <td>ja</td>\n",
              "      <td>...</td>\n",
              "      <td>NaN</td>\n",
              "      <td>15years ago X.Lines24</td>\n",
              "      <td>NaN</td>\n",
              "      <td>NaN</td>\n",
              "      <td>Tue Jun 11 11:20:35 +0000 2013</td>\n",
              "      <td>2013-06-11 13:20:35</td>\n",
              "      <td>2015-05-02 06:41:46</td>\n",
              "      <td>2016-03-15 15:53:47</td>\n",
              "      <td>0</td>\n",
              "      <td>0</td>\n",
              "    </tr>\n",
              "    <tr>\n",
              "      <th>1</th>\n",
              "      <td>2492782375</td>\n",
              "      <td>ro_or</td>\n",
              "      <td>1120Roll</td>\n",
              "      <td>2660</td>\n",
              "      <td>330</td>\n",
              "      <td>485</td>\n",
              "      <td>3972</td>\n",
              "      <td>5</td>\n",
              "      <td>NaN</td>\n",
              "      <td>ja</td>\n",
              "      <td>...</td>\n",
              "      <td>NaN</td>\n",
              "      <td>保守見習い地元大好き人間。 経済学、電工、仏教を勉強中、ちなDeではいかんのか？ (*^◯^*)</td>\n",
              "      <td>NaN</td>\n",
              "      <td>NaN</td>\n",
              "      <td>Tue May 13 10:37:57 +0000 2014</td>\n",
              "      <td>2014-05-13 12:37:57</td>\n",
              "      <td>2015-05-01 17:20:27</td>\n",
              "      <td>2016-03-15 15:53:48</td>\n",
              "      <td>0</td>\n",
              "      <td>0</td>\n",
              "    </tr>\n",
              "    <tr>\n",
              "      <th>2</th>\n",
              "      <td>293212315</td>\n",
              "      <td>bearclaw</td>\n",
              "      <td>14KBBrown</td>\n",
              "      <td>1254</td>\n",
              "      <td>166</td>\n",
              "      <td>177</td>\n",
              "      <td>1185</td>\n",
              "      <td>0</td>\n",
              "      <td>NaN</td>\n",
              "      <td>en</td>\n",
              "      <td>...</td>\n",
              "      <td>NaN</td>\n",
              "      <td>Let me see what your best move is!</td>\n",
              "      <td>NaN</td>\n",
              "      <td>NaN</td>\n",
              "      <td>Wed May 04 23:30:37 +0000 2011</td>\n",
              "      <td>2011-05-05 01:30:37</td>\n",
              "      <td>2015-05-01 18:48:28</td>\n",
              "      <td>2016-03-15 15:53:48</td>\n",
              "      <td>0</td>\n",
              "      <td>0</td>\n",
              "    </tr>\n",
              "    <tr>\n",
              "      <th>3</th>\n",
              "      <td>191839658</td>\n",
              "      <td>pocahontas farida</td>\n",
              "      <td>wadespeters</td>\n",
              "      <td>202968</td>\n",
              "      <td>2248</td>\n",
              "      <td>981</td>\n",
              "      <td>60304</td>\n",
              "      <td>101</td>\n",
              "      <td>http://t.co/rGV0HIJGsu</td>\n",
              "      <td>en</td>\n",
              "      <td>...</td>\n",
              "      <td>NaN</td>\n",
              "      <td>20. menna: #farida #nyc and the 80s actually y...</td>\n",
              "      <td>NaN</td>\n",
              "      <td>NaN</td>\n",
              "      <td>Fri Sep 17 14:02:10 +0000 2010</td>\n",
              "      <td>2010-09-17 16:02:10</td>\n",
              "      <td>2015-05-01 13:55:16</td>\n",
              "      <td>2016-03-15 15:53:48</td>\n",
              "      <td>0</td>\n",
              "      <td>0</td>\n",
              "    </tr>\n",
              "    <tr>\n",
              "      <th>4</th>\n",
              "      <td>3020965143</td>\n",
              "      <td>Ms Kathy</td>\n",
              "      <td>191a5bd05da04dc</td>\n",
              "      <td>82</td>\n",
              "      <td>21</td>\n",
              "      <td>79</td>\n",
              "      <td>5</td>\n",
              "      <td>0</td>\n",
              "      <td>NaN</td>\n",
              "      <td>en</td>\n",
              "      <td>...</td>\n",
              "      <td>NaN</td>\n",
              "      <td>Cosmetologist</td>\n",
              "      <td>NaN</td>\n",
              "      <td>NaN</td>\n",
              "      <td>Fri Feb 06 04:10:49 +0000 2015</td>\n",
              "      <td>2015-02-06 05:10:49</td>\n",
              "      <td>2015-05-02 01:17:32</td>\n",
              "      <td>2016-03-15 15:53:48</td>\n",
              "      <td>0</td>\n",
              "      <td>0</td>\n",
              "    </tr>\n",
              "  </tbody>\n",
              "</table>\n",
              "<p>5 rows × 42 columns</p>\n",
              "</div>\n",
              "    <div class=\"colab-df-buttons\">\n",
              "\n",
              "  <div class=\"colab-df-container\">\n",
              "    <button class=\"colab-df-convert\" onclick=\"convertToInteractive('df-e151f25f-713d-4482-83df-b8d9685bba6d')\"\n",
              "            title=\"Convert this dataframe to an interactive table.\"\n",
              "            style=\"display:none;\">\n",
              "\n",
              "  <svg xmlns=\"http://www.w3.org/2000/svg\" height=\"24px\" viewBox=\"0 -960 960 960\">\n",
              "    <path d=\"M120-120v-720h720v720H120Zm60-500h600v-160H180v160Zm220 220h160v-160H400v160Zm0 220h160v-160H400v160ZM180-400h160v-160H180v160Zm440 0h160v-160H620v160ZM180-180h160v-160H180v160Zm440 0h160v-160H620v160Z\"/>\n",
              "  </svg>\n",
              "    </button>\n",
              "\n",
              "  <style>\n",
              "    .colab-df-container {\n",
              "      display:flex;\n",
              "      gap: 12px;\n",
              "    }\n",
              "\n",
              "    .colab-df-convert {\n",
              "      background-color: #E8F0FE;\n",
              "      border: none;\n",
              "      border-radius: 50%;\n",
              "      cursor: pointer;\n",
              "      display: none;\n",
              "      fill: #1967D2;\n",
              "      height: 32px;\n",
              "      padding: 0 0 0 0;\n",
              "      width: 32px;\n",
              "    }\n",
              "\n",
              "    .colab-df-convert:hover {\n",
              "      background-color: #E2EBFA;\n",
              "      box-shadow: 0px 1px 2px rgba(60, 64, 67, 0.3), 0px 1px 3px 1px rgba(60, 64, 67, 0.15);\n",
              "      fill: #174EA6;\n",
              "    }\n",
              "\n",
              "    .colab-df-buttons div {\n",
              "      margin-bottom: 4px;\n",
              "    }\n",
              "\n",
              "    [theme=dark] .colab-df-convert {\n",
              "      background-color: #3B4455;\n",
              "      fill: #D2E3FC;\n",
              "    }\n",
              "\n",
              "    [theme=dark] .colab-df-convert:hover {\n",
              "      background-color: #434B5C;\n",
              "      box-shadow: 0px 1px 3px 1px rgba(0, 0, 0, 0.15);\n",
              "      filter: drop-shadow(0px 1px 2px rgba(0, 0, 0, 0.3));\n",
              "      fill: #FFFFFF;\n",
              "    }\n",
              "  </style>\n",
              "\n",
              "    <script>\n",
              "      const buttonEl =\n",
              "        document.querySelector('#df-e151f25f-713d-4482-83df-b8d9685bba6d button.colab-df-convert');\n",
              "      buttonEl.style.display =\n",
              "        google.colab.kernel.accessAllowed ? 'block' : 'none';\n",
              "\n",
              "      async function convertToInteractive(key) {\n",
              "        const element = document.querySelector('#df-e151f25f-713d-4482-83df-b8d9685bba6d');\n",
              "        const dataTable =\n",
              "          await google.colab.kernel.invokeFunction('convertToInteractive',\n",
              "                                                    [key], {});\n",
              "        if (!dataTable) return;\n",
              "\n",
              "        const docLinkHtml = 'Like what you see? Visit the ' +\n",
              "          '<a target=\"_blank\" href=https://colab.research.google.com/notebooks/data_table.ipynb>data table notebook</a>'\n",
              "          + ' to learn more about interactive tables.';\n",
              "        element.innerHTML = '';\n",
              "        dataTable['output_type'] = 'display_data';\n",
              "        await google.colab.output.renderOutput(dataTable, element);\n",
              "        const docLink = document.createElement('div');\n",
              "        docLink.innerHTML = docLinkHtml;\n",
              "        element.appendChild(docLink);\n",
              "      }\n",
              "    </script>\n",
              "  </div>\n",
              "\n",
              "\n",
              "    <div id=\"df-0ed83623-74d7-4f4b-a904-4fe070d46712\">\n",
              "      <button class=\"colab-df-quickchart\" onclick=\"quickchart('df-0ed83623-74d7-4f4b-a904-4fe070d46712')\"\n",
              "                title=\"Suggest charts\"\n",
              "                style=\"display:none;\">\n",
              "\n",
              "<svg xmlns=\"http://www.w3.org/2000/svg\" height=\"24px\"viewBox=\"0 0 24 24\"\n",
              "     width=\"24px\">\n",
              "    <g>\n",
              "        <path d=\"M19 3H5c-1.1 0-2 .9-2 2v14c0 1.1.9 2 2 2h14c1.1 0 2-.9 2-2V5c0-1.1-.9-2-2-2zM9 17H7v-7h2v7zm4 0h-2V7h2v10zm4 0h-2v-4h2v4z\"/>\n",
              "    </g>\n",
              "</svg>\n",
              "      </button>\n",
              "\n",
              "<style>\n",
              "  .colab-df-quickchart {\n",
              "      --bg-color: #E8F0FE;\n",
              "      --fill-color: #1967D2;\n",
              "      --hover-bg-color: #E2EBFA;\n",
              "      --hover-fill-color: #174EA6;\n",
              "      --disabled-fill-color: #AAA;\n",
              "      --disabled-bg-color: #DDD;\n",
              "  }\n",
              "\n",
              "  [theme=dark] .colab-df-quickchart {\n",
              "      --bg-color: #3B4455;\n",
              "      --fill-color: #D2E3FC;\n",
              "      --hover-bg-color: #434B5C;\n",
              "      --hover-fill-color: #FFFFFF;\n",
              "      --disabled-bg-color: #3B4455;\n",
              "      --disabled-fill-color: #666;\n",
              "  }\n",
              "\n",
              "  .colab-df-quickchart {\n",
              "    background-color: var(--bg-color);\n",
              "    border: none;\n",
              "    border-radius: 50%;\n",
              "    cursor: pointer;\n",
              "    display: none;\n",
              "    fill: var(--fill-color);\n",
              "    height: 32px;\n",
              "    padding: 0;\n",
              "    width: 32px;\n",
              "  }\n",
              "\n",
              "  .colab-df-quickchart:hover {\n",
              "    background-color: var(--hover-bg-color);\n",
              "    box-shadow: 0 1px 2px rgba(60, 64, 67, 0.3), 0 1px 3px 1px rgba(60, 64, 67, 0.15);\n",
              "    fill: var(--button-hover-fill-color);\n",
              "  }\n",
              "\n",
              "  .colab-df-quickchart-complete:disabled,\n",
              "  .colab-df-quickchart-complete:disabled:hover {\n",
              "    background-color: var(--disabled-bg-color);\n",
              "    fill: var(--disabled-fill-color);\n",
              "    box-shadow: none;\n",
              "  }\n",
              "\n",
              "  .colab-df-spinner {\n",
              "    border: 2px solid var(--fill-color);\n",
              "    border-color: transparent;\n",
              "    border-bottom-color: var(--fill-color);\n",
              "    animation:\n",
              "      spin 1s steps(1) infinite;\n",
              "  }\n",
              "\n",
              "  @keyframes spin {\n",
              "    0% {\n",
              "      border-color: transparent;\n",
              "      border-bottom-color: var(--fill-color);\n",
              "      border-left-color: var(--fill-color);\n",
              "    }\n",
              "    20% {\n",
              "      border-color: transparent;\n",
              "      border-left-color: var(--fill-color);\n",
              "      border-top-color: var(--fill-color);\n",
              "    }\n",
              "    30% {\n",
              "      border-color: transparent;\n",
              "      border-left-color: var(--fill-color);\n",
              "      border-top-color: var(--fill-color);\n",
              "      border-right-color: var(--fill-color);\n",
              "    }\n",
              "    40% {\n",
              "      border-color: transparent;\n",
              "      border-right-color: var(--fill-color);\n",
              "      border-top-color: var(--fill-color);\n",
              "    }\n",
              "    60% {\n",
              "      border-color: transparent;\n",
              "      border-right-color: var(--fill-color);\n",
              "    }\n",
              "    80% {\n",
              "      border-color: transparent;\n",
              "      border-right-color: var(--fill-color);\n",
              "      border-bottom-color: var(--fill-color);\n",
              "    }\n",
              "    90% {\n",
              "      border-color: transparent;\n",
              "      border-bottom-color: var(--fill-color);\n",
              "    }\n",
              "  }\n",
              "</style>\n",
              "\n",
              "      <script>\n",
              "        async function quickchart(key) {\n",
              "          const quickchartButtonEl =\n",
              "            document.querySelector('#' + key + ' button');\n",
              "          quickchartButtonEl.disabled = true;  // To prevent multiple clicks.\n",
              "          quickchartButtonEl.classList.add('colab-df-spinner');\n",
              "          try {\n",
              "            const charts = await google.colab.kernel.invokeFunction(\n",
              "                'suggestCharts', [key], {});\n",
              "          } catch (error) {\n",
              "            console.error('Error during call to suggestCharts:', error);\n",
              "          }\n",
              "          quickchartButtonEl.classList.remove('colab-df-spinner');\n",
              "          quickchartButtonEl.classList.add('colab-df-quickchart-complete');\n",
              "        }\n",
              "        (() => {\n",
              "          let quickchartButtonEl =\n",
              "            document.querySelector('#df-0ed83623-74d7-4f4b-a904-4fe070d46712 button');\n",
              "          quickchartButtonEl.style.display =\n",
              "            google.colab.kernel.accessAllowed ? 'block' : 'none';\n",
              "        })();\n",
              "      </script>\n",
              "    </div>\n",
              "\n",
              "    </div>\n",
              "  </div>\n"
            ],
            "application/vnd.google.colaboratory.intrinsic+json": {
              "type": "dataframe",
              "variable_name": "genuine_user"
            }
          },
          "metadata": {},
          "execution_count": 580
        }
      ]
    },
    {
      "cell_type": "markdown",
      "source": [
        "## Reading information about our dataset"
      ],
      "metadata": {
        "id": "bBq2NRGIwBrH"
      }
    },
    {
      "cell_type": "code",
      "source": [
        "spam_user.info()"
      ],
      "metadata": {
        "colab": {
          "base_uri": "https://localhost:8080/"
        },
        "id": "IUtN4h16vmye",
        "outputId": "f8d38238-34da-4b54-c50f-04bc474871bb"
      },
      "execution_count": null,
      "outputs": [
        {
          "output_type": "stream",
          "name": "stdout",
          "text": [
            "<class 'pandas.core.frame.DataFrame'>\n",
            "RangeIndex: 991 entries, 0 to 990\n",
            "Data columns (total 41 columns):\n",
            " #   Column                              Non-Null Count  Dtype  \n",
            "---  ------                              --------------  -----  \n",
            " 0   id                                  991 non-null    int64  \n",
            " 1   name                                991 non-null    object \n",
            " 2   screen_name                         991 non-null    object \n",
            " 3   statuses_count                      991 non-null    int64  \n",
            " 4   followers_count                     991 non-null    int64  \n",
            " 5   friends_count                       991 non-null    int64  \n",
            " 6   favourites_count                    991 non-null    int64  \n",
            " 7   listed_count                        991 non-null    int64  \n",
            " 8   url                                 22 non-null     object \n",
            " 9   lang                                991 non-null    object \n",
            " 10  time_zone                           903 non-null    object \n",
            " 11  location                            745 non-null    object \n",
            " 12  default_profile                     145 non-null    float64\n",
            " 13  default_profile_image               1 non-null      float64\n",
            " 14  geo_enabled                         18 non-null     float64\n",
            " 15  profile_image_url                   991 non-null    object \n",
            " 16  profile_banner_url                  77 non-null     object \n",
            " 17  profile_use_background_image        988 non-null    float64\n",
            " 18  profile_background_image_url_https  991 non-null    object \n",
            " 19  profile_text_color                  991 non-null    object \n",
            " 20  profile_image_url_https             991 non-null    object \n",
            " 21  profile_sidebar_border_color        991 non-null    object \n",
            " 22  profile_background_tile             266 non-null    float64\n",
            " 23  profile_sidebar_fill_color          991 non-null    object \n",
            " 24  profile_background_image_url        991 non-null    object \n",
            " 25  profile_background_color            991 non-null    object \n",
            " 26  profile_link_color                  991 non-null    object \n",
            " 27  utc_offset                          903 non-null    float64\n",
            " 28  is_translator                       0 non-null      float64\n",
            " 29  follow_request_sent                 0 non-null      float64\n",
            " 30  protected                           0 non-null      float64\n",
            " 31  verified                            0 non-null      float64\n",
            " 32  notifications                       0 non-null      float64\n",
            " 33  description                         943 non-null    object \n",
            " 34  contributors_enabled                0 non-null      float64\n",
            " 35  following                           0 non-null      float64\n",
            " 36  created_at                          991 non-null    object \n",
            " 37  timestamp                           991 non-null    object \n",
            " 38  crawled_at                          991 non-null    object \n",
            " 39  updated                             991 non-null    object \n",
            " 40  test_set_1                          991 non-null    int64  \n",
            "dtypes: float64(13), int64(7), object(21)\n",
            "memory usage: 317.6+ KB\n"
          ]
        }
      ]
    },
    {
      "cell_type": "code",
      "source": [
        "genuine_user.info()"
      ],
      "metadata": {
        "colab": {
          "base_uri": "https://localhost:8080/"
        },
        "id": "B-91YCdvwHaS",
        "outputId": "90f1e9cf-8b5e-4867-c7b9-f954921803f6"
      },
      "execution_count": null,
      "outputs": [
        {
          "output_type": "stream",
          "name": "stdout",
          "text": [
            "<class 'pandas.core.frame.DataFrame'>\n",
            "RangeIndex: 3474 entries, 0 to 3473\n",
            "Data columns (total 42 columns):\n",
            " #   Column                              Non-Null Count  Dtype  \n",
            "---  ------                              --------------  -----  \n",
            " 0   id                                  3474 non-null   int64  \n",
            " 1   name                                3473 non-null   object \n",
            " 2   screen_name                         3474 non-null   object \n",
            " 3   statuses_count                      3474 non-null   int64  \n",
            " 4   followers_count                     3474 non-null   int64  \n",
            " 5   friends_count                       3474 non-null   int64  \n",
            " 6   favourites_count                    3474 non-null   int64  \n",
            " 7   listed_count                        3474 non-null   int64  \n",
            " 8   url                                 1266 non-null   object \n",
            " 9   lang                                3474 non-null   object \n",
            " 10  time_zone                           2475 non-null   object \n",
            " 11  location                            2365 non-null   object \n",
            " 12  default_profile                     1032 non-null   float64\n",
            " 13  default_profile_image               13 non-null     float64\n",
            " 14  geo_enabled                         2155 non-null   float64\n",
            " 15  profile_image_url                   3474 non-null   object \n",
            " 16  profile_banner_url                  3165 non-null   object \n",
            " 17  profile_use_background_image        3084 non-null   float64\n",
            " 18  profile_background_image_url_https  3474 non-null   object \n",
            " 19  profile_text_color                  3474 non-null   object \n",
            " 20  profile_image_url_https             3474 non-null   object \n",
            " 21  profile_sidebar_border_color        3474 non-null   object \n",
            " 22  profile_background_tile             1307 non-null   float64\n",
            " 23  profile_sidebar_fill_color          3474 non-null   object \n",
            " 24  profile_background_image_url        3474 non-null   object \n",
            " 25  profile_background_color            3474 non-null   object \n",
            " 26  profile_link_color                  3474 non-null   object \n",
            " 27  utc_offset                          2475 non-null   float64\n",
            " 28  is_translator                       1 non-null      float64\n",
            " 29  follow_request_sent                 0 non-null      float64\n",
            " 30  protected                           78 non-null     float64\n",
            " 31  verified                            11 non-null     float64\n",
            " 32  notifications                       0 non-null      float64\n",
            " 33  description                         3095 non-null   object \n",
            " 34  contributors_enabled                0 non-null      float64\n",
            " 35  following                           0 non-null      float64\n",
            " 36  created_at                          3474 non-null   object \n",
            " 37  timestamp                           3474 non-null   object \n",
            " 38  crawled_at                          3474 non-null   object \n",
            " 39  updated                             3474 non-null   object \n",
            " 40  test_set_1                          3474 non-null   int64  \n",
            " 41  test_set_2                          3474 non-null   int64  \n",
            "dtypes: float64(13), int64(8), object(21)\n",
            "memory usage: 1.1+ MB\n"
          ]
        }
      ]
    },
    {
      "cell_type": "markdown",
      "source": [
        "## Merging genuine user and spam user dataset into one"
      ],
      "metadata": {
        "id": "kgFA7r_yyD-f"
      }
    },
    {
      "cell_type": "code",
      "source": [
        "#  Merging the dataset by creating label to know difference between bot and user\n",
        "genuine_user['label'] = 0\n",
        "spam_user['label'] = 1\n",
        "\n",
        "# Make columns same (drop extra if needed)\n",
        "common_cols = list(set(spam_user.columns) & set(genuine_user.columns))\n",
        "bot_user = spam_user[common_cols]\n",
        "genuine_user = genuine_user[common_cols]\n",
        "# Merge both datasets\n",
        "df = pd.concat([bot_user, genuine_user], ignore_index=True)"
      ],
      "metadata": {
        "id": "GqbL95bxwMDW"
      },
      "execution_count": null,
      "outputs": []
    },
    {
      "cell_type": "code",
      "source": [
        "df.info()"
      ],
      "metadata": {
        "colab": {
          "base_uri": "https://localhost:8080/"
        },
        "id": "V2cKdwks2_dL",
        "outputId": "02652ab4-d69b-4774-82d2-7bfe0da9cd9f"
      },
      "execution_count": null,
      "outputs": [
        {
          "output_type": "stream",
          "name": "stdout",
          "text": [
            "<class 'pandas.core.frame.DataFrame'>\n",
            "RangeIndex: 4465 entries, 0 to 4464\n",
            "Data columns (total 42 columns):\n",
            " #   Column                              Non-Null Count  Dtype  \n",
            "---  ------                              --------------  -----  \n",
            " 0   statuses_count                      4465 non-null   int64  \n",
            " 1   profile_sidebar_border_color        4465 non-null   object \n",
            " 2   profile_banner_url                  3242 non-null   object \n",
            " 3   url                                 1288 non-null   object \n",
            " 4   name                                4464 non-null   object \n",
            " 5   followers_count                     4465 non-null   int64  \n",
            " 6   location                            3110 non-null   object \n",
            " 7   listed_count                        4465 non-null   int64  \n",
            " 8   id                                  4465 non-null   int64  \n",
            " 9   created_at                          4465 non-null   object \n",
            " 10  updated                             4465 non-null   object \n",
            " 11  test_set_1                          4465 non-null   int64  \n",
            " 12  crawled_at                          4465 non-null   object \n",
            " 13  lang                                4465 non-null   object \n",
            " 14  friends_count                       4465 non-null   int64  \n",
            " 15  follow_request_sent                 0 non-null      float64\n",
            " 16  following                           0 non-null      float64\n",
            " 17  time_zone                           3378 non-null   object \n",
            " 18  profile_background_tile             1573 non-null   float64\n",
            " 19  profile_image_url_https             4465 non-null   object \n",
            " 20  contributors_enabled                0 non-null      float64\n",
            " 21  verified                            11 non-null     float64\n",
            " 22  profile_sidebar_fill_color          4465 non-null   object \n",
            " 23  is_translator                       1 non-null      float64\n",
            " 24  timestamp                           4465 non-null   object \n",
            " 25  utc_offset                          3378 non-null   float64\n",
            " 26  profile_use_background_image        4072 non-null   float64\n",
            " 27  default_profile_image               14 non-null     float64\n",
            " 28  profile_background_image_url_https  4465 non-null   object \n",
            " 29  profile_image_url                   4465 non-null   object \n",
            " 30  profile_link_color                  4465 non-null   object \n",
            " 31  profile_text_color                  4465 non-null   object \n",
            " 32  label                               4465 non-null   int64  \n",
            " 33  profile_background_image_url        4465 non-null   object \n",
            " 34  favourites_count                    4465 non-null   int64  \n",
            " 35  notifications                       0 non-null      float64\n",
            " 36  description                         4038 non-null   object \n",
            " 37  screen_name                         4465 non-null   object \n",
            " 38  protected                           78 non-null     float64\n",
            " 39  default_profile                     1177 non-null   float64\n",
            " 40  profile_background_color            4465 non-null   object \n",
            " 41  geo_enabled                         2173 non-null   float64\n",
            "dtypes: float64(13), int64(8), object(21)\n",
            "memory usage: 1.4+ MB\n"
          ]
        }
      ]
    },
    {
      "cell_type": "code",
      "source": [
        "df.head()"
      ],
      "metadata": {
        "colab": {
          "base_uri": "https://localhost:8080/"
        },
        "id": "szL2lHN0wiy1",
        "outputId": "ed274d3a-9b45-4813-942f-f8fcdd49e39a"
      },
      "execution_count": null,
      "outputs": [
        {
          "output_type": "execute_result",
          "data": {
            "text/plain": [
              "   statuses_count profile_sidebar_border_color  \\\n",
              "0            1299                       C0DEED   \n",
              "1           18665                       FFFFFF   \n",
              "2           22987                       FFFFFF   \n",
              "3            7975                       829D5E   \n",
              "4           20218                       16471D   \n",
              "\n",
              "                                  profile_banner_url                     url  \\\n",
              "0                                                NaN                     NaN   \n",
              "1  https://pbs.twimg.com/profile_banners/33212890...  http://t.co/ceK8TovxwI   \n",
              "2  https://pbs.twimg.com/profile_banners/39773427...                     NaN   \n",
              "3  https://pbs.twimg.com/profile_banners/57007623...                     NaN   \n",
              "4  https://pbs.twimg.com/profile_banners/63258466...  http://t.co/PK5F0JDKcy   \n",
              "\n",
              "                 name  followers_count                    location  \\\n",
              "0      Davide Bertoli               22                         NaN   \n",
              "1      Elisa D'Ospina            12561                       Italy   \n",
              "2     Donato Vincenzo              600  iPhone: 45.471680,9.192429   \n",
              "3  Rafiela Morales L.              398  ÜT: 18.4698712,-69.9327525   \n",
              "4        § h a † u r♄              413                     Firenze   \n",
              "\n",
              "   listed_count        id                      created_at  ... label  \\\n",
              "0             0  24858289  Tue Mar 17 08:51:12 +0000 2009  ...     1   \n",
              "1           110  33212890  Sun Apr 19 14:38:04 +0000 2009  ...     1   \n",
              "2             6  39773427  Wed May 13 15:34:41 +0000 2009  ...     1   \n",
              "3             2  57007623  Wed Jul 15 12:55:03 +0000 2009  ...     1   \n",
              "4             8  63258466  Wed Aug 05 21:12:49 +0000 2009  ...     1   \n",
              "\n",
              "                        profile_background_image_url favourites_count  \\\n",
              "0   http://abs.twimg.com/images/themes/theme1/bg.png                1   \n",
              "1  http://pbs.twimg.com/profile_background_images...            16358   \n",
              "2  http://pbs.twimg.com/profile_background_images...               14   \n",
              "3  http://pbs.twimg.com/profile_background_images...               11   \n",
              "4  http://pbs.twimg.com/profile_background_images...              162   \n",
              "\n",
              "  notifications                                        description  \\\n",
              "0           NaN                                                NaN   \n",
              "1           NaN  Autrice del libro #unavitatuttacurve dal 9 apr...   \n",
              "2           NaN                            [Live Long and Prosper]   \n",
              "3           NaN  Cuasi Odontologa*♥,#Bipolar, #Sarcastica & Som...   \n",
              "4           NaN  I shall rise from my own death, to avenge hers...   \n",
              "\n",
              "      screen_name  protected default_profile  profile_background_color  \\\n",
              "0       davideb66        NaN             1.0                    C0DEED   \n",
              "1    ElisaDospina        NaN             NaN                    EBEBEB   \n",
              "2      Vladimir65        NaN             NaN                    131516   \n",
              "3  RafielaMorales        NaN             NaN                    E60584   \n",
              "4     FabrizioC_c        NaN             NaN                    EBEBEB   \n",
              "\n",
              "  geo_enabled  \n",
              "0         1.0  \n",
              "1         1.0  \n",
              "2         NaN  \n",
              "3         NaN  \n",
              "4         1.0  \n",
              "\n",
              "[5 rows x 42 columns]"
            ],
            "text/html": [
              "\n",
              "  <div id=\"df-4ad24963-6429-47f8-9433-75e9cd0f5749\" class=\"colab-df-container\">\n",
              "    <div>\n",
              "<style scoped>\n",
              "    .dataframe tbody tr th:only-of-type {\n",
              "        vertical-align: middle;\n",
              "    }\n",
              "\n",
              "    .dataframe tbody tr th {\n",
              "        vertical-align: top;\n",
              "    }\n",
              "\n",
              "    .dataframe thead th {\n",
              "        text-align: right;\n",
              "    }\n",
              "</style>\n",
              "<table border=\"1\" class=\"dataframe\">\n",
              "  <thead>\n",
              "    <tr style=\"text-align: right;\">\n",
              "      <th></th>\n",
              "      <th>statuses_count</th>\n",
              "      <th>profile_sidebar_border_color</th>\n",
              "      <th>profile_banner_url</th>\n",
              "      <th>url</th>\n",
              "      <th>name</th>\n",
              "      <th>followers_count</th>\n",
              "      <th>location</th>\n",
              "      <th>listed_count</th>\n",
              "      <th>id</th>\n",
              "      <th>created_at</th>\n",
              "      <th>...</th>\n",
              "      <th>label</th>\n",
              "      <th>profile_background_image_url</th>\n",
              "      <th>favourites_count</th>\n",
              "      <th>notifications</th>\n",
              "      <th>description</th>\n",
              "      <th>screen_name</th>\n",
              "      <th>protected</th>\n",
              "      <th>default_profile</th>\n",
              "      <th>profile_background_color</th>\n",
              "      <th>geo_enabled</th>\n",
              "    </tr>\n",
              "  </thead>\n",
              "  <tbody>\n",
              "    <tr>\n",
              "      <th>0</th>\n",
              "      <td>1299</td>\n",
              "      <td>C0DEED</td>\n",
              "      <td>NaN</td>\n",
              "      <td>NaN</td>\n",
              "      <td>Davide Bertoli</td>\n",
              "      <td>22</td>\n",
              "      <td>NaN</td>\n",
              "      <td>0</td>\n",
              "      <td>24858289</td>\n",
              "      <td>Tue Mar 17 08:51:12 +0000 2009</td>\n",
              "      <td>...</td>\n",
              "      <td>1</td>\n",
              "      <td>http://abs.twimg.com/images/themes/theme1/bg.png</td>\n",
              "      <td>1</td>\n",
              "      <td>NaN</td>\n",
              "      <td>NaN</td>\n",
              "      <td>davideb66</td>\n",
              "      <td>NaN</td>\n",
              "      <td>1.0</td>\n",
              "      <td>C0DEED</td>\n",
              "      <td>1.0</td>\n",
              "    </tr>\n",
              "    <tr>\n",
              "      <th>1</th>\n",
              "      <td>18665</td>\n",
              "      <td>FFFFFF</td>\n",
              "      <td>https://pbs.twimg.com/profile_banners/33212890...</td>\n",
              "      <td>http://t.co/ceK8TovxwI</td>\n",
              "      <td>Elisa D'Ospina</td>\n",
              "      <td>12561</td>\n",
              "      <td>Italy</td>\n",
              "      <td>110</td>\n",
              "      <td>33212890</td>\n",
              "      <td>Sun Apr 19 14:38:04 +0000 2009</td>\n",
              "      <td>...</td>\n",
              "      <td>1</td>\n",
              "      <td>http://pbs.twimg.com/profile_background_images...</td>\n",
              "      <td>16358</td>\n",
              "      <td>NaN</td>\n",
              "      <td>Autrice del libro #unavitatuttacurve dal 9 apr...</td>\n",
              "      <td>ElisaDospina</td>\n",
              "      <td>NaN</td>\n",
              "      <td>NaN</td>\n",
              "      <td>EBEBEB</td>\n",
              "      <td>1.0</td>\n",
              "    </tr>\n",
              "    <tr>\n",
              "      <th>2</th>\n",
              "      <td>22987</td>\n",
              "      <td>FFFFFF</td>\n",
              "      <td>https://pbs.twimg.com/profile_banners/39773427...</td>\n",
              "      <td>NaN</td>\n",
              "      <td>Donato Vincenzo</td>\n",
              "      <td>600</td>\n",
              "      <td>iPhone: 45.471680,9.192429</td>\n",
              "      <td>6</td>\n",
              "      <td>39773427</td>\n",
              "      <td>Wed May 13 15:34:41 +0000 2009</td>\n",
              "      <td>...</td>\n",
              "      <td>1</td>\n",
              "      <td>http://pbs.twimg.com/profile_background_images...</td>\n",
              "      <td>14</td>\n",
              "      <td>NaN</td>\n",
              "      <td>[Live Long and Prosper]</td>\n",
              "      <td>Vladimir65</td>\n",
              "      <td>NaN</td>\n",
              "      <td>NaN</td>\n",
              "      <td>131516</td>\n",
              "      <td>NaN</td>\n",
              "    </tr>\n",
              "    <tr>\n",
              "      <th>3</th>\n",
              "      <td>7975</td>\n",
              "      <td>829D5E</td>\n",
              "      <td>https://pbs.twimg.com/profile_banners/57007623...</td>\n",
              "      <td>NaN</td>\n",
              "      <td>Rafiela Morales L.</td>\n",
              "      <td>398</td>\n",
              "      <td>ÜT: 18.4698712,-69.9327525</td>\n",
              "      <td>2</td>\n",
              "      <td>57007623</td>\n",
              "      <td>Wed Jul 15 12:55:03 +0000 2009</td>\n",
              "      <td>...</td>\n",
              "      <td>1</td>\n",
              "      <td>http://pbs.twimg.com/profile_background_images...</td>\n",
              "      <td>11</td>\n",
              "      <td>NaN</td>\n",
              "      <td>Cuasi Odontologa*♥,#Bipolar, #Sarcastica &amp; Som...</td>\n",
              "      <td>RafielaMorales</td>\n",
              "      <td>NaN</td>\n",
              "      <td>NaN</td>\n",
              "      <td>E60584</td>\n",
              "      <td>NaN</td>\n",
              "    </tr>\n",
              "    <tr>\n",
              "      <th>4</th>\n",
              "      <td>20218</td>\n",
              "      <td>16471D</td>\n",
              "      <td>https://pbs.twimg.com/profile_banners/63258466...</td>\n",
              "      <td>http://t.co/PK5F0JDKcy</td>\n",
              "      <td>§ h a † u r♄</td>\n",
              "      <td>413</td>\n",
              "      <td>Firenze</td>\n",
              "      <td>8</td>\n",
              "      <td>63258466</td>\n",
              "      <td>Wed Aug 05 21:12:49 +0000 2009</td>\n",
              "      <td>...</td>\n",
              "      <td>1</td>\n",
              "      <td>http://pbs.twimg.com/profile_background_images...</td>\n",
              "      <td>162</td>\n",
              "      <td>NaN</td>\n",
              "      <td>I shall rise from my own death, to avenge hers...</td>\n",
              "      <td>FabrizioC_c</td>\n",
              "      <td>NaN</td>\n",
              "      <td>NaN</td>\n",
              "      <td>EBEBEB</td>\n",
              "      <td>1.0</td>\n",
              "    </tr>\n",
              "  </tbody>\n",
              "</table>\n",
              "<p>5 rows × 42 columns</p>\n",
              "</div>\n",
              "    <div class=\"colab-df-buttons\">\n",
              "\n",
              "  <div class=\"colab-df-container\">\n",
              "    <button class=\"colab-df-convert\" onclick=\"convertToInteractive('df-4ad24963-6429-47f8-9433-75e9cd0f5749')\"\n",
              "            title=\"Convert this dataframe to an interactive table.\"\n",
              "            style=\"display:none;\">\n",
              "\n",
              "  <svg xmlns=\"http://www.w3.org/2000/svg\" height=\"24px\" viewBox=\"0 -960 960 960\">\n",
              "    <path d=\"M120-120v-720h720v720H120Zm60-500h600v-160H180v160Zm220 220h160v-160H400v160Zm0 220h160v-160H400v160ZM180-400h160v-160H180v160Zm440 0h160v-160H620v160ZM180-180h160v-160H180v160Zm440 0h160v-160H620v160Z\"/>\n",
              "  </svg>\n",
              "    </button>\n",
              "\n",
              "  <style>\n",
              "    .colab-df-container {\n",
              "      display:flex;\n",
              "      gap: 12px;\n",
              "    }\n",
              "\n",
              "    .colab-df-convert {\n",
              "      background-color: #E8F0FE;\n",
              "      border: none;\n",
              "      border-radius: 50%;\n",
              "      cursor: pointer;\n",
              "      display: none;\n",
              "      fill: #1967D2;\n",
              "      height: 32px;\n",
              "      padding: 0 0 0 0;\n",
              "      width: 32px;\n",
              "    }\n",
              "\n",
              "    .colab-df-convert:hover {\n",
              "      background-color: #E2EBFA;\n",
              "      box-shadow: 0px 1px 2px rgba(60, 64, 67, 0.3), 0px 1px 3px 1px rgba(60, 64, 67, 0.15);\n",
              "      fill: #174EA6;\n",
              "    }\n",
              "\n",
              "    .colab-df-buttons div {\n",
              "      margin-bottom: 4px;\n",
              "    }\n",
              "\n",
              "    [theme=dark] .colab-df-convert {\n",
              "      background-color: #3B4455;\n",
              "      fill: #D2E3FC;\n",
              "    }\n",
              "\n",
              "    [theme=dark] .colab-df-convert:hover {\n",
              "      background-color: #434B5C;\n",
              "      box-shadow: 0px 1px 3px 1px rgba(0, 0, 0, 0.15);\n",
              "      filter: drop-shadow(0px 1px 2px rgba(0, 0, 0, 0.3));\n",
              "      fill: #FFFFFF;\n",
              "    }\n",
              "  </style>\n",
              "\n",
              "    <script>\n",
              "      const buttonEl =\n",
              "        document.querySelector('#df-4ad24963-6429-47f8-9433-75e9cd0f5749 button.colab-df-convert');\n",
              "      buttonEl.style.display =\n",
              "        google.colab.kernel.accessAllowed ? 'block' : 'none';\n",
              "\n",
              "      async function convertToInteractive(key) {\n",
              "        const element = document.querySelector('#df-4ad24963-6429-47f8-9433-75e9cd0f5749');\n",
              "        const dataTable =\n",
              "          await google.colab.kernel.invokeFunction('convertToInteractive',\n",
              "                                                    [key], {});\n",
              "        if (!dataTable) return;\n",
              "\n",
              "        const docLinkHtml = 'Like what you see? Visit the ' +\n",
              "          '<a target=\"_blank\" href=https://colab.research.google.com/notebooks/data_table.ipynb>data table notebook</a>'\n",
              "          + ' to learn more about interactive tables.';\n",
              "        element.innerHTML = '';\n",
              "        dataTable['output_type'] = 'display_data';\n",
              "        await google.colab.output.renderOutput(dataTable, element);\n",
              "        const docLink = document.createElement('div');\n",
              "        docLink.innerHTML = docLinkHtml;\n",
              "        element.appendChild(docLink);\n",
              "      }\n",
              "    </script>\n",
              "  </div>\n",
              "\n",
              "\n",
              "    <div id=\"df-b9af6441-3eb3-40b7-90fd-1d4f15073035\">\n",
              "      <button class=\"colab-df-quickchart\" onclick=\"quickchart('df-b9af6441-3eb3-40b7-90fd-1d4f15073035')\"\n",
              "                title=\"Suggest charts\"\n",
              "                style=\"display:none;\">\n",
              "\n",
              "<svg xmlns=\"http://www.w3.org/2000/svg\" height=\"24px\"viewBox=\"0 0 24 24\"\n",
              "     width=\"24px\">\n",
              "    <g>\n",
              "        <path d=\"M19 3H5c-1.1 0-2 .9-2 2v14c0 1.1.9 2 2 2h14c1.1 0 2-.9 2-2V5c0-1.1-.9-2-2-2zM9 17H7v-7h2v7zm4 0h-2V7h2v10zm4 0h-2v-4h2v4z\"/>\n",
              "    </g>\n",
              "</svg>\n",
              "      </button>\n",
              "\n",
              "<style>\n",
              "  .colab-df-quickchart {\n",
              "      --bg-color: #E8F0FE;\n",
              "      --fill-color: #1967D2;\n",
              "      --hover-bg-color: #E2EBFA;\n",
              "      --hover-fill-color: #174EA6;\n",
              "      --disabled-fill-color: #AAA;\n",
              "      --disabled-bg-color: #DDD;\n",
              "  }\n",
              "\n",
              "  [theme=dark] .colab-df-quickchart {\n",
              "      --bg-color: #3B4455;\n",
              "      --fill-color: #D2E3FC;\n",
              "      --hover-bg-color: #434B5C;\n",
              "      --hover-fill-color: #FFFFFF;\n",
              "      --disabled-bg-color: #3B4455;\n",
              "      --disabled-fill-color: #666;\n",
              "  }\n",
              "\n",
              "  .colab-df-quickchart {\n",
              "    background-color: var(--bg-color);\n",
              "    border: none;\n",
              "    border-radius: 50%;\n",
              "    cursor: pointer;\n",
              "    display: none;\n",
              "    fill: var(--fill-color);\n",
              "    height: 32px;\n",
              "    padding: 0;\n",
              "    width: 32px;\n",
              "  }\n",
              "\n",
              "  .colab-df-quickchart:hover {\n",
              "    background-color: var(--hover-bg-color);\n",
              "    box-shadow: 0 1px 2px rgba(60, 64, 67, 0.3), 0 1px 3px 1px rgba(60, 64, 67, 0.15);\n",
              "    fill: var(--button-hover-fill-color);\n",
              "  }\n",
              "\n",
              "  .colab-df-quickchart-complete:disabled,\n",
              "  .colab-df-quickchart-complete:disabled:hover {\n",
              "    background-color: var(--disabled-bg-color);\n",
              "    fill: var(--disabled-fill-color);\n",
              "    box-shadow: none;\n",
              "  }\n",
              "\n",
              "  .colab-df-spinner {\n",
              "    border: 2px solid var(--fill-color);\n",
              "    border-color: transparent;\n",
              "    border-bottom-color: var(--fill-color);\n",
              "    animation:\n",
              "      spin 1s steps(1) infinite;\n",
              "  }\n",
              "\n",
              "  @keyframes spin {\n",
              "    0% {\n",
              "      border-color: transparent;\n",
              "      border-bottom-color: var(--fill-color);\n",
              "      border-left-color: var(--fill-color);\n",
              "    }\n",
              "    20% {\n",
              "      border-color: transparent;\n",
              "      border-left-color: var(--fill-color);\n",
              "      border-top-color: var(--fill-color);\n",
              "    }\n",
              "    30% {\n",
              "      border-color: transparent;\n",
              "      border-left-color: var(--fill-color);\n",
              "      border-top-color: var(--fill-color);\n",
              "      border-right-color: var(--fill-color);\n",
              "    }\n",
              "    40% {\n",
              "      border-color: transparent;\n",
              "      border-right-color: var(--fill-color);\n",
              "      border-top-color: var(--fill-color);\n",
              "    }\n",
              "    60% {\n",
              "      border-color: transparent;\n",
              "      border-right-color: var(--fill-color);\n",
              "    }\n",
              "    80% {\n",
              "      border-color: transparent;\n",
              "      border-right-color: var(--fill-color);\n",
              "      border-bottom-color: var(--fill-color);\n",
              "    }\n",
              "    90% {\n",
              "      border-color: transparent;\n",
              "      border-bottom-color: var(--fill-color);\n",
              "    }\n",
              "  }\n",
              "</style>\n",
              "\n",
              "      <script>\n",
              "        async function quickchart(key) {\n",
              "          const quickchartButtonEl =\n",
              "            document.querySelector('#' + key + ' button');\n",
              "          quickchartButtonEl.disabled = true;  // To prevent multiple clicks.\n",
              "          quickchartButtonEl.classList.add('colab-df-spinner');\n",
              "          try {\n",
              "            const charts = await google.colab.kernel.invokeFunction(\n",
              "                'suggestCharts', [key], {});\n",
              "          } catch (error) {\n",
              "            console.error('Error during call to suggestCharts:', error);\n",
              "          }\n",
              "          quickchartButtonEl.classList.remove('colab-df-spinner');\n",
              "          quickchartButtonEl.classList.add('colab-df-quickchart-complete');\n",
              "        }\n",
              "        (() => {\n",
              "          let quickchartButtonEl =\n",
              "            document.querySelector('#df-b9af6441-3eb3-40b7-90fd-1d4f15073035 button');\n",
              "          quickchartButtonEl.style.display =\n",
              "            google.colab.kernel.accessAllowed ? 'block' : 'none';\n",
              "        })();\n",
              "      </script>\n",
              "    </div>\n",
              "\n",
              "    </div>\n",
              "  </div>\n"
            ],
            "application/vnd.google.colaboratory.intrinsic+json": {
              "type": "dataframe",
              "variable_name": "df"
            }
          },
          "metadata": {},
          "execution_count": 585
        }
      ]
    },
    {
      "cell_type": "markdown",
      "source": [
        "## Data cleaning"
      ],
      "metadata": {
        "id": "N_sXNGRUySSa"
      }
    },
    {
      "cell_type": "code",
      "source": [
        "df.info()"
      ],
      "metadata": {
        "colab": {
          "base_uri": "https://localhost:8080/"
        },
        "id": "xbWGPZb47XWW",
        "outputId": "7fc9de75-b9ae-4789-cfaa-3c7c5c7194a9"
      },
      "execution_count": null,
      "outputs": [
        {
          "output_type": "stream",
          "name": "stdout",
          "text": [
            "<class 'pandas.core.frame.DataFrame'>\n",
            "RangeIndex: 4465 entries, 0 to 4464\n",
            "Data columns (total 42 columns):\n",
            " #   Column                              Non-Null Count  Dtype  \n",
            "---  ------                              --------------  -----  \n",
            " 0   statuses_count                      4465 non-null   int64  \n",
            " 1   profile_sidebar_border_color        4465 non-null   object \n",
            " 2   profile_banner_url                  3242 non-null   object \n",
            " 3   url                                 1288 non-null   object \n",
            " 4   name                                4464 non-null   object \n",
            " 5   followers_count                     4465 non-null   int64  \n",
            " 6   location                            3110 non-null   object \n",
            " 7   listed_count                        4465 non-null   int64  \n",
            " 8   id                                  4465 non-null   int64  \n",
            " 9   created_at                          4465 non-null   object \n",
            " 10  updated                             4465 non-null   object \n",
            " 11  test_set_1                          4465 non-null   int64  \n",
            " 12  crawled_at                          4465 non-null   object \n",
            " 13  lang                                4465 non-null   object \n",
            " 14  friends_count                       4465 non-null   int64  \n",
            " 15  follow_request_sent                 0 non-null      float64\n",
            " 16  following                           0 non-null      float64\n",
            " 17  time_zone                           3378 non-null   object \n",
            " 18  profile_background_tile             1573 non-null   float64\n",
            " 19  profile_image_url_https             4465 non-null   object \n",
            " 20  contributors_enabled                0 non-null      float64\n",
            " 21  verified                            11 non-null     float64\n",
            " 22  profile_sidebar_fill_color          4465 non-null   object \n",
            " 23  is_translator                       1 non-null      float64\n",
            " 24  timestamp                           4465 non-null   object \n",
            " 25  utc_offset                          3378 non-null   float64\n",
            " 26  profile_use_background_image        4072 non-null   float64\n",
            " 27  default_profile_image               14 non-null     float64\n",
            " 28  profile_background_image_url_https  4465 non-null   object \n",
            " 29  profile_image_url                   4465 non-null   object \n",
            " 30  profile_link_color                  4465 non-null   object \n",
            " 31  profile_text_color                  4465 non-null   object \n",
            " 32  label                               4465 non-null   int64  \n",
            " 33  profile_background_image_url        4465 non-null   object \n",
            " 34  favourites_count                    4465 non-null   int64  \n",
            " 35  notifications                       0 non-null      float64\n",
            " 36  description                         4038 non-null   object \n",
            " 37  screen_name                         4465 non-null   object \n",
            " 38  protected                           78 non-null     float64\n",
            " 39  default_profile                     1177 non-null   float64\n",
            " 40  profile_background_color            4465 non-null   object \n",
            " 41  geo_enabled                         2173 non-null   float64\n",
            "dtypes: float64(13), int64(8), object(21)\n",
            "memory usage: 1.4+ MB\n"
          ]
        }
      ]
    },
    {
      "cell_type": "code",
      "source": [
        "# Droping useless identifier/URL columns and potential data leakage columns\n",
        "cols = [\n",
        "    \"id\", \"name\", \"screen_name\",\n",
        "    \"profile_banner_url\", \"profile_image_url\", \"profile_image_url_https\",\n",
        "    \"profile_background_image_url\", \"profile_background_image_url_https\",\n",
        "    \"url\", \"updated\", \"timestamp\", \"description\", \"profile_link_color\", \"profile_text_color\",\n",
        "    \"profile_sidebar_fill_color\", \"profile_sidebar_border_color\",\"follow_request_sent\",\"following\",\n",
        "    \"profile_background_color\", \"notifications\",\"is_translator\",\"contributors_enabled\",\"time_zone\",\n",
        "    \"test_set_1\",\"utc_offset\"\n",
        "]\n",
        "\n",
        "df.drop(cols,inplace=True,axis=1)\n",
        "\n",
        "\n",
        "print(\"Remaining columns:\", df.columns.tolist())\n",
        "print(\"Shape after cleaning:\", df.shape)"
      ],
      "metadata": {
        "colab": {
          "base_uri": "https://localhost:8080/"
        },
        "id": "tDOpqPSW0GoX",
        "outputId": "3183ea73-3ee8-43a1-cf9c-6c2f919b56d8"
      },
      "execution_count": null,
      "outputs": [
        {
          "output_type": "stream",
          "name": "stdout",
          "text": [
            "Remaining columns: ['statuses_count', 'followers_count', 'location', 'listed_count', 'created_at', 'crawled_at', 'lang', 'friends_count', 'profile_background_tile', 'verified', 'profile_use_background_image', 'default_profile_image', 'label', 'favourites_count', 'protected', 'default_profile', 'geo_enabled']\n",
            "Shape after cleaning: (4465, 17)\n"
          ]
        }
      ]
    },
    {
      "cell_type": "code",
      "source": [
        "df['created_at'] = pd.to_datetime(df['created_at'])\n",
        "df['crawled_at'] = pd.to_datetime(df['crawled_at'])\n",
        "\n",
        "# Remove timezone information from 'created_at' to make it timezone-naive\n",
        "df['created_at'] = df['created_at'].dt.tz_convert(None)\n",
        "\n",
        "df['account_age_days'] = (df['crawled_at'] - df['created_at']).dt.days\n",
        "\n",
        "cols = ['created_at', 'crawled_at']\n",
        "df.drop(columns=cols,inplace=True)"
      ],
      "metadata": {
        "colab": {
          "base_uri": "https://localhost:8080/"
        },
        "id": "xKvOwtbs0rC2",
        "outputId": "b915ddb1-8725-4376-a776-1b658b89fde6"
      },
      "execution_count": null,
      "outputs": [
        {
          "output_type": "stream",
          "name": "stderr",
          "text": [
            "/tmp/ipython-input-3083583624.py:1: UserWarning: Could not infer format, so each element will be parsed individually, falling back to `dateutil`. To ensure parsing is consistent and as-expected, please specify a format.\n",
            "  df['created_at'] = pd.to_datetime(df['created_at'])\n"
          ]
        }
      ]
    },
    {
      "cell_type": "code",
      "source": [
        "df.head()"
      ],
      "metadata": {
        "colab": {
          "base_uri": "https://localhost:8080/"
        },
        "id": "z28ZX168zTZy",
        "outputId": "93e8a554-62aa-48b8-f2be-db449f0ebda6"
      },
      "execution_count": null,
      "outputs": [
        {
          "output_type": "execute_result",
          "data": {
            "text/plain": [
              "   statuses_count  followers_count                    location  listed_count  \\\n",
              "0            1299               22                         NaN             0   \n",
              "1           18665            12561                       Italy           110   \n",
              "2           22987              600  iPhone: 45.471680,9.192429             6   \n",
              "3            7975              398  ÜT: 18.4698712,-69.9327525             2   \n",
              "4           20218              413                     Firenze             8   \n",
              "\n",
              "  lang  friends_count  profile_background_tile  verified  \\\n",
              "0   it             40                      NaN       NaN   \n",
              "1   it           3442                      1.0       NaN   \n",
              "2   it            755                      1.0       NaN   \n",
              "3   en            350                      1.0       NaN   \n",
              "4   it            405                      NaN       NaN   \n",
              "\n",
              "   profile_use_background_image  default_profile_image  label  \\\n",
              "0                           1.0                    1.0      1   \n",
              "1                           1.0                    NaN      1   \n",
              "2                           1.0                    NaN      1   \n",
              "3                           1.0                    NaN      1   \n",
              "4                           1.0                    NaN      1   \n",
              "\n",
              "   favourites_count  protected  default_profile  geo_enabled  account_age_days  \n",
              "0                 1        NaN              1.0          1.0              1859  \n",
              "1             16358        NaN              NaN          1.0              1855  \n",
              "2                14        NaN              NaN          NaN              1826  \n",
              "3                11        NaN              NaN          NaN              1769  \n",
              "4               162        NaN              NaN          1.0              1740  "
            ],
            "text/html": [
              "\n",
              "  <div id=\"df-3c83d17c-76ff-4a55-82b1-b3b2c8ab8553\" class=\"colab-df-container\">\n",
              "    <div>\n",
              "<style scoped>\n",
              "    .dataframe tbody tr th:only-of-type {\n",
              "        vertical-align: middle;\n",
              "    }\n",
              "\n",
              "    .dataframe tbody tr th {\n",
              "        vertical-align: top;\n",
              "    }\n",
              "\n",
              "    .dataframe thead th {\n",
              "        text-align: right;\n",
              "    }\n",
              "</style>\n",
              "<table border=\"1\" class=\"dataframe\">\n",
              "  <thead>\n",
              "    <tr style=\"text-align: right;\">\n",
              "      <th></th>\n",
              "      <th>statuses_count</th>\n",
              "      <th>followers_count</th>\n",
              "      <th>location</th>\n",
              "      <th>listed_count</th>\n",
              "      <th>lang</th>\n",
              "      <th>friends_count</th>\n",
              "      <th>profile_background_tile</th>\n",
              "      <th>verified</th>\n",
              "      <th>profile_use_background_image</th>\n",
              "      <th>default_profile_image</th>\n",
              "      <th>label</th>\n",
              "      <th>favourites_count</th>\n",
              "      <th>protected</th>\n",
              "      <th>default_profile</th>\n",
              "      <th>geo_enabled</th>\n",
              "      <th>account_age_days</th>\n",
              "    </tr>\n",
              "  </thead>\n",
              "  <tbody>\n",
              "    <tr>\n",
              "      <th>0</th>\n",
              "      <td>1299</td>\n",
              "      <td>22</td>\n",
              "      <td>NaN</td>\n",
              "      <td>0</td>\n",
              "      <td>it</td>\n",
              "      <td>40</td>\n",
              "      <td>NaN</td>\n",
              "      <td>NaN</td>\n",
              "      <td>1.0</td>\n",
              "      <td>1.0</td>\n",
              "      <td>1</td>\n",
              "      <td>1</td>\n",
              "      <td>NaN</td>\n",
              "      <td>1.0</td>\n",
              "      <td>1.0</td>\n",
              "      <td>1859</td>\n",
              "    </tr>\n",
              "    <tr>\n",
              "      <th>1</th>\n",
              "      <td>18665</td>\n",
              "      <td>12561</td>\n",
              "      <td>Italy</td>\n",
              "      <td>110</td>\n",
              "      <td>it</td>\n",
              "      <td>3442</td>\n",
              "      <td>1.0</td>\n",
              "      <td>NaN</td>\n",
              "      <td>1.0</td>\n",
              "      <td>NaN</td>\n",
              "      <td>1</td>\n",
              "      <td>16358</td>\n",
              "      <td>NaN</td>\n",
              "      <td>NaN</td>\n",
              "      <td>1.0</td>\n",
              "      <td>1855</td>\n",
              "    </tr>\n",
              "    <tr>\n",
              "      <th>2</th>\n",
              "      <td>22987</td>\n",
              "      <td>600</td>\n",
              "      <td>iPhone: 45.471680,9.192429</td>\n",
              "      <td>6</td>\n",
              "      <td>it</td>\n",
              "      <td>755</td>\n",
              "      <td>1.0</td>\n",
              "      <td>NaN</td>\n",
              "      <td>1.0</td>\n",
              "      <td>NaN</td>\n",
              "      <td>1</td>\n",
              "      <td>14</td>\n",
              "      <td>NaN</td>\n",
              "      <td>NaN</td>\n",
              "      <td>NaN</td>\n",
              "      <td>1826</td>\n",
              "    </tr>\n",
              "    <tr>\n",
              "      <th>3</th>\n",
              "      <td>7975</td>\n",
              "      <td>398</td>\n",
              "      <td>ÜT: 18.4698712,-69.9327525</td>\n",
              "      <td>2</td>\n",
              "      <td>en</td>\n",
              "      <td>350</td>\n",
              "      <td>1.0</td>\n",
              "      <td>NaN</td>\n",
              "      <td>1.0</td>\n",
              "      <td>NaN</td>\n",
              "      <td>1</td>\n",
              "      <td>11</td>\n",
              "      <td>NaN</td>\n",
              "      <td>NaN</td>\n",
              "      <td>NaN</td>\n",
              "      <td>1769</td>\n",
              "    </tr>\n",
              "    <tr>\n",
              "      <th>4</th>\n",
              "      <td>20218</td>\n",
              "      <td>413</td>\n",
              "      <td>Firenze</td>\n",
              "      <td>8</td>\n",
              "      <td>it</td>\n",
              "      <td>405</td>\n",
              "      <td>NaN</td>\n",
              "      <td>NaN</td>\n",
              "      <td>1.0</td>\n",
              "      <td>NaN</td>\n",
              "      <td>1</td>\n",
              "      <td>162</td>\n",
              "      <td>NaN</td>\n",
              "      <td>NaN</td>\n",
              "      <td>1.0</td>\n",
              "      <td>1740</td>\n",
              "    </tr>\n",
              "  </tbody>\n",
              "</table>\n",
              "</div>\n",
              "    <div class=\"colab-df-buttons\">\n",
              "\n",
              "  <div class=\"colab-df-container\">\n",
              "    <button class=\"colab-df-convert\" onclick=\"convertToInteractive('df-3c83d17c-76ff-4a55-82b1-b3b2c8ab8553')\"\n",
              "            title=\"Convert this dataframe to an interactive table.\"\n",
              "            style=\"display:none;\">\n",
              "\n",
              "  <svg xmlns=\"http://www.w3.org/2000/svg\" height=\"24px\" viewBox=\"0 -960 960 960\">\n",
              "    <path d=\"M120-120v-720h720v720H120Zm60-500h600v-160H180v160Zm220 220h160v-160H400v160Zm0 220h160v-160H400v160ZM180-400h160v-160H180v160Zm440 0h160v-160H620v160ZM180-180h160v-160H180v160Zm440 0h160v-160H620v160Z\"/>\n",
              "  </svg>\n",
              "    </button>\n",
              "\n",
              "  <style>\n",
              "    .colab-df-container {\n",
              "      display:flex;\n",
              "      gap: 12px;\n",
              "    }\n",
              "\n",
              "    .colab-df-convert {\n",
              "      background-color: #E8F0FE;\n",
              "      border: none;\n",
              "      border-radius: 50%;\n",
              "      cursor: pointer;\n",
              "      display: none;\n",
              "      fill: #1967D2;\n",
              "      height: 32px;\n",
              "      padding: 0 0 0 0;\n",
              "      width: 32px;\n",
              "    }\n",
              "\n",
              "    .colab-df-convert:hover {\n",
              "      background-color: #E2EBFA;\n",
              "      box-shadow: 0px 1px 2px rgba(60, 64, 67, 0.3), 0px 1px 3px 1px rgba(60, 64, 67, 0.15);\n",
              "      fill: #174EA6;\n",
              "    }\n",
              "\n",
              "    .colab-df-buttons div {\n",
              "      margin-bottom: 4px;\n",
              "    }\n",
              "\n",
              "    [theme=dark] .colab-df-convert {\n",
              "      background-color: #3B4455;\n",
              "      fill: #D2E3FC;\n",
              "    }\n",
              "\n",
              "    [theme=dark] .colab-df-convert:hover {\n",
              "      background-color: #434B5C;\n",
              "      box-shadow: 0px 1px 3px 1px rgba(0, 0, 0, 0.15);\n",
              "      filter: drop-shadow(0px 1px 2px rgba(0, 0, 0, 0.3));\n",
              "      fill: #FFFFFF;\n",
              "    }\n",
              "  </style>\n",
              "\n",
              "    <script>\n",
              "      const buttonEl =\n",
              "        document.querySelector('#df-3c83d17c-76ff-4a55-82b1-b3b2c8ab8553 button.colab-df-convert');\n",
              "      buttonEl.style.display =\n",
              "        google.colab.kernel.accessAllowed ? 'block' : 'none';\n",
              "\n",
              "      async function convertToInteractive(key) {\n",
              "        const element = document.querySelector('#df-3c83d17c-76ff-4a55-82b1-b3b2c8ab8553');\n",
              "        const dataTable =\n",
              "          await google.colab.kernel.invokeFunction('convertToInteractive',\n",
              "                                                    [key], {});\n",
              "        if (!dataTable) return;\n",
              "\n",
              "        const docLinkHtml = 'Like what you see? Visit the ' +\n",
              "          '<a target=\"_blank\" href=https://colab.research.google.com/notebooks/data_table.ipynb>data table notebook</a>'\n",
              "          + ' to learn more about interactive tables.';\n",
              "        element.innerHTML = '';\n",
              "        dataTable['output_type'] = 'display_data';\n",
              "        await google.colab.output.renderOutput(dataTable, element);\n",
              "        const docLink = document.createElement('div');\n",
              "        docLink.innerHTML = docLinkHtml;\n",
              "        element.appendChild(docLink);\n",
              "      }\n",
              "    </script>\n",
              "  </div>\n",
              "\n",
              "\n",
              "    <div id=\"df-9cfa7505-7cf4-4c6b-8064-87961b375ba8\">\n",
              "      <button class=\"colab-df-quickchart\" onclick=\"quickchart('df-9cfa7505-7cf4-4c6b-8064-87961b375ba8')\"\n",
              "                title=\"Suggest charts\"\n",
              "                style=\"display:none;\">\n",
              "\n",
              "<svg xmlns=\"http://www.w3.org/2000/svg\" height=\"24px\"viewBox=\"0 0 24 24\"\n",
              "     width=\"24px\">\n",
              "    <g>\n",
              "        <path d=\"M19 3H5c-1.1 0-2 .9-2 2v14c0 1.1.9 2 2 2h14c1.1 0 2-.9 2-2V5c0-1.1-.9-2-2-2zM9 17H7v-7h2v7zm4 0h-2V7h2v10zm4 0h-2v-4h2v4z\"/>\n",
              "    </g>\n",
              "</svg>\n",
              "      </button>\n",
              "\n",
              "<style>\n",
              "  .colab-df-quickchart {\n",
              "      --bg-color: #E8F0FE;\n",
              "      --fill-color: #1967D2;\n",
              "      --hover-bg-color: #E2EBFA;\n",
              "      --hover-fill-color: #174EA6;\n",
              "      --disabled-fill-color: #AAA;\n",
              "      --disabled-bg-color: #DDD;\n",
              "  }\n",
              "\n",
              "  [theme=dark] .colab-df-quickchart {\n",
              "      --bg-color: #3B4455;\n",
              "      --fill-color: #D2E3FC;\n",
              "      --hover-bg-color: #434B5C;\n",
              "      --hover-fill-color: #FFFFFF;\n",
              "      --disabled-bg-color: #3B4455;\n",
              "      --disabled-fill-color: #666;\n",
              "  }\n",
              "\n",
              "  .colab-df-quickchart {\n",
              "    background-color: var(--bg-color);\n",
              "    border: none;\n",
              "    border-radius: 50%;\n",
              "    cursor: pointer;\n",
              "    display: none;\n",
              "    fill: var(--fill-color);\n",
              "    height: 32px;\n",
              "    padding: 0;\n",
              "    width: 32px;\n",
              "  }\n",
              "\n",
              "  .colab-df-quickchart:hover {\n",
              "    background-color: var(--hover-bg-color);\n",
              "    box-shadow: 0 1px 2px rgba(60, 64, 67, 0.3), 0 1px 3px 1px rgba(60, 64, 67, 0.15);\n",
              "    fill: var(--button-hover-fill-color);\n",
              "  }\n",
              "\n",
              "  .colab-df-quickchart-complete:disabled,\n",
              "  .colab-df-quickchart-complete:disabled:hover {\n",
              "    background-color: var(--disabled-bg-color);\n",
              "    fill: var(--disabled-fill-color);\n",
              "    box-shadow: none;\n",
              "  }\n",
              "\n",
              "  .colab-df-spinner {\n",
              "    border: 2px solid var(--fill-color);\n",
              "    border-color: transparent;\n",
              "    border-bottom-color: var(--fill-color);\n",
              "    animation:\n",
              "      spin 1s steps(1) infinite;\n",
              "  }\n",
              "\n",
              "  @keyframes spin {\n",
              "    0% {\n",
              "      border-color: transparent;\n",
              "      border-bottom-color: var(--fill-color);\n",
              "      border-left-color: var(--fill-color);\n",
              "    }\n",
              "    20% {\n",
              "      border-color: transparent;\n",
              "      border-left-color: var(--fill-color);\n",
              "      border-top-color: var(--fill-color);\n",
              "    }\n",
              "    30% {\n",
              "      border-color: transparent;\n",
              "      border-left-color: var(--fill-color);\n",
              "      border-top-color: var(--fill-color);\n",
              "      border-right-color: var(--fill-color);\n",
              "    }\n",
              "    40% {\n",
              "      border-color: transparent;\n",
              "      border-right-color: var(--fill-color);\n",
              "      border-top-color: var(--fill-color);\n",
              "    }\n",
              "    60% {\n",
              "      border-color: transparent;\n",
              "      border-right-color: var(--fill-color);\n",
              "    }\n",
              "    80% {\n",
              "      border-color: transparent;\n",
              "      border-right-color: var(--fill-color);\n",
              "      border-bottom-color: var(--fill-color);\n",
              "    }\n",
              "    90% {\n",
              "      border-color: transparent;\n",
              "      border-bottom-color: var(--fill-color);\n",
              "    }\n",
              "  }\n",
              "</style>\n",
              "\n",
              "      <script>\n",
              "        async function quickchart(key) {\n",
              "          const quickchartButtonEl =\n",
              "            document.querySelector('#' + key + ' button');\n",
              "          quickchartButtonEl.disabled = true;  // To prevent multiple clicks.\n",
              "          quickchartButtonEl.classList.add('colab-df-spinner');\n",
              "          try {\n",
              "            const charts = await google.colab.kernel.invokeFunction(\n",
              "                'suggestCharts', [key], {});\n",
              "          } catch (error) {\n",
              "            console.error('Error during call to suggestCharts:', error);\n",
              "          }\n",
              "          quickchartButtonEl.classList.remove('colab-df-spinner');\n",
              "          quickchartButtonEl.classList.add('colab-df-quickchart-complete');\n",
              "        }\n",
              "        (() => {\n",
              "          let quickchartButtonEl =\n",
              "            document.querySelector('#df-9cfa7505-7cf4-4c6b-8064-87961b375ba8 button');\n",
              "          quickchartButtonEl.style.display =\n",
              "            google.colab.kernel.accessAllowed ? 'block' : 'none';\n",
              "        })();\n",
              "      </script>\n",
              "    </div>\n",
              "\n",
              "    </div>\n",
              "  </div>\n"
            ],
            "application/vnd.google.colaboratory.intrinsic+json": {
              "type": "dataframe",
              "variable_name": "df",
              "summary": "{\n  \"name\": \"df\",\n  \"rows\": 4465,\n  \"fields\": [\n    {\n      \"column\": \"statuses_count\",\n      \"properties\": {\n        \"dtype\": \"number\",\n        \"std\": 27995,\n        \"min\": 3,\n        \"max\": 399555,\n        \"num_unique_values\": 3422,\n        \"samples\": [\n          6716,\n          21537,\n          43671\n        ],\n        \"semantic_type\": \"\",\n        \"description\": \"\"\n      }\n    },\n    {\n      \"column\": \"followers_count\",\n      \"properties\": {\n        \"dtype\": \"number\",\n        \"std\": 15262,\n        \"min\": 0,\n        \"max\": 986837,\n        \"num_unique_values\": 1805,\n        \"samples\": [\n          10885,\n          281,\n          1592\n        ],\n        \"semantic_type\": \"\",\n        \"description\": \"\"\n      }\n    },\n    {\n      \"column\": \"location\",\n      \"properties\": {\n        \"dtype\": \"category\",\n        \"num_unique_values\": 1938,\n        \"samples\": [\n          \"Calibased\",\n          \"St Helier, Jersey\",\n          \"little Fish Mississippi\"\n        ],\n        \"semantic_type\": \"\",\n        \"description\": \"\"\n      }\n    },\n    {\n      \"column\": \"listed_count\",\n      \"properties\": {\n        \"dtype\": \"number\",\n        \"std\": 139,\n        \"min\": 0,\n        \"max\": 6166,\n        \"num_unique_values\": 179,\n        \"samples\": [\n          125,\n          14,\n          96\n        ],\n        \"semantic_type\": \"\",\n        \"description\": \"\"\n      }\n    },\n    {\n      \"column\": \"lang\",\n      \"properties\": {\n        \"dtype\": \"category\",\n        \"num_unique_values\": 25,\n        \"samples\": [\n          \"nl\",\n          \"id\",\n          \"it\"\n        ],\n        \"semantic_type\": \"\",\n        \"description\": \"\"\n      }\n    },\n    {\n      \"column\": \"friends_count\",\n      \"properties\": {\n        \"dtype\": \"number\",\n        \"std\": 2097,\n        \"min\": 0,\n        \"max\": 46310,\n        \"num_unique_values\": 1587,\n        \"samples\": [\n          196,\n          514,\n          5227\n        ],\n        \"semantic_type\": \"\",\n        \"description\": \"\"\n      }\n    },\n    {\n      \"column\": \"profile_background_tile\",\n      \"properties\": {\n        \"dtype\": \"number\",\n        \"std\": 0.0,\n        \"min\": 1.0,\n        \"max\": 1.0,\n        \"num_unique_values\": 1,\n        \"samples\": [\n          1.0\n        ],\n        \"semantic_type\": \"\",\n        \"description\": \"\"\n      }\n    },\n    {\n      \"column\": \"verified\",\n      \"properties\": {\n        \"dtype\": \"number\",\n        \"std\": 0.0,\n        \"min\": 1.0,\n        \"max\": 1.0,\n        \"num_unique_values\": 1,\n        \"samples\": [\n          1.0\n        ],\n        \"semantic_type\": \"\",\n        \"description\": \"\"\n      }\n    },\n    {\n      \"column\": \"profile_use_background_image\",\n      \"properties\": {\n        \"dtype\": \"number\",\n        \"std\": 0.0,\n        \"min\": 1.0,\n        \"max\": 1.0,\n        \"num_unique_values\": 1,\n        \"samples\": [\n          1.0\n        ],\n        \"semantic_type\": \"\",\n        \"description\": \"\"\n      }\n    },\n    {\n      \"column\": \"default_profile_image\",\n      \"properties\": {\n        \"dtype\": \"number\",\n        \"std\": 0.0,\n        \"min\": 1.0,\n        \"max\": 1.0,\n        \"num_unique_values\": 1,\n        \"samples\": [\n          1.0\n        ],\n        \"semantic_type\": \"\",\n        \"description\": \"\"\n      }\n    },\n    {\n      \"column\": \"label\",\n      \"properties\": {\n        \"dtype\": \"number\",\n        \"std\": 0,\n        \"min\": 0,\n        \"max\": 1,\n        \"num_unique_values\": 2,\n        \"samples\": [\n          0\n        ],\n        \"semantic_type\": \"\",\n        \"description\": \"\"\n      }\n    },\n    {\n      \"column\": \"favourites_count\",\n      \"properties\": {\n        \"dtype\": \"number\",\n        \"std\": 10389,\n        \"min\": 0,\n        \"max\": 313954,\n        \"num_unique_values\": 2434,\n        \"samples\": [\n          3373\n        ],\n        \"semantic_type\": \"\",\n        \"description\": \"\"\n      }\n    },\n    {\n      \"column\": \"protected\",\n      \"properties\": {\n        \"dtype\": \"number\",\n        \"std\": 0.0,\n        \"min\": 1.0,\n        \"max\": 1.0,\n        \"num_unique_values\": 1,\n        \"samples\": [\n          1.0\n        ],\n        \"semantic_type\": \"\",\n        \"description\": \"\"\n      }\n    },\n    {\n      \"column\": \"default_profile\",\n      \"properties\": {\n        \"dtype\": \"number\",\n        \"std\": 0.0,\n        \"min\": 1.0,\n        \"max\": 1.0,\n        \"num_unique_values\": 1,\n        \"samples\": [\n          1.0\n        ],\n        \"semantic_type\": \"\",\n        \"description\": \"\"\n      }\n    },\n    {\n      \"column\": \"geo_enabled\",\n      \"properties\": {\n        \"dtype\": \"number\",\n        \"std\": 0.0,\n        \"min\": 1.0,\n        \"max\": 1.0,\n        \"num_unique_values\": 1,\n        \"samples\": [\n          1.0\n        ],\n        \"semantic_type\": \"\",\n        \"description\": \"\"\n      }\n    },\n    {\n      \"column\": \"account_age_days\",\n      \"properties\": {\n        \"dtype\": \"number\",\n        \"std\": 649,\n        \"min\": 11,\n        \"max\": 3021,\n        \"num_unique_values\": 1874,\n        \"samples\": [\n          338\n        ],\n        \"semantic_type\": \"\",\n        \"description\": \"\"\n      }\n    }\n  ]\n}"
            }
          },
          "metadata": {},
          "execution_count": 589
        }
      ]
    },
    {
      "cell_type": "code",
      "source": [],
      "metadata": {
        "id": "KDJB5acDxJdn"
      },
      "execution_count": null,
      "outputs": []
    },
    {
      "cell_type": "markdown",
      "source": [
        "### Handling missing value and Making the data proper"
      ],
      "metadata": {
        "id": "SXL45h6T44UG"
      }
    },
    {
      "cell_type": "code",
      "source": [
        "df.info()"
      ],
      "metadata": {
        "colab": {
          "base_uri": "https://localhost:8080/"
        },
        "id": "XIkovrDj2jSP",
        "outputId": "fb9f77d8-202d-4931-dff9-84843bcb6976"
      },
      "execution_count": null,
      "outputs": [
        {
          "output_type": "stream",
          "name": "stdout",
          "text": [
            "<class 'pandas.core.frame.DataFrame'>\n",
            "RangeIndex: 4465 entries, 0 to 4464\n",
            "Data columns (total 16 columns):\n",
            " #   Column                        Non-Null Count  Dtype  \n",
            "---  ------                        --------------  -----  \n",
            " 0   statuses_count                4465 non-null   int64  \n",
            " 1   followers_count               4465 non-null   int64  \n",
            " 2   location                      3110 non-null   object \n",
            " 3   listed_count                  4465 non-null   int64  \n",
            " 4   lang                          4465 non-null   object \n",
            " 5   friends_count                 4465 non-null   int64  \n",
            " 6   profile_background_tile       1573 non-null   float64\n",
            " 7   verified                      11 non-null     float64\n",
            " 8   profile_use_background_image  4072 non-null   float64\n",
            " 9   default_profile_image         14 non-null     float64\n",
            " 10  label                         4465 non-null   int64  \n",
            " 11  favourites_count              4465 non-null   int64  \n",
            " 12  protected                     78 non-null     float64\n",
            " 13  default_profile               1177 non-null   float64\n",
            " 14  geo_enabled                   2173 non-null   float64\n",
            " 15  account_age_days              4465 non-null   int64  \n",
            "dtypes: float64(7), int64(7), object(2)\n",
            "memory usage: 558.3+ KB\n"
          ]
        }
      ]
    },
    {
      "cell_type": "code",
      "source": [
        "genuine_user['lang'].value_counts()\n",
        "\n",
        "spam_user['lang'].value_counts()"
      ],
      "metadata": {
        "colab": {
          "base_uri": "https://localhost:8080/"
        },
        "id": "kGAUVKo8_z2u",
        "outputId": "3495a4a0-3272-4a23-8ac4-b536508fb43c"
      },
      "execution_count": null,
      "outputs": [
        {
          "output_type": "execute_result",
          "data": {
            "text/plain": [
              "lang\n",
              "it    900\n",
              "en     91\n",
              "Name: count, dtype: int64"
            ],
            "text/html": [
              "<div>\n",
              "<style scoped>\n",
              "    .dataframe tbody tr th:only-of-type {\n",
              "        vertical-align: middle;\n",
              "    }\n",
              "\n",
              "    .dataframe tbody tr th {\n",
              "        vertical-align: top;\n",
              "    }\n",
              "\n",
              "    .dataframe thead th {\n",
              "        text-align: right;\n",
              "    }\n",
              "</style>\n",
              "<table border=\"1\" class=\"dataframe\">\n",
              "  <thead>\n",
              "    <tr style=\"text-align: right;\">\n",
              "      <th></th>\n",
              "      <th>count</th>\n",
              "    </tr>\n",
              "    <tr>\n",
              "      <th>lang</th>\n",
              "      <th></th>\n",
              "    </tr>\n",
              "  </thead>\n",
              "  <tbody>\n",
              "    <tr>\n",
              "      <th>it</th>\n",
              "      <td>900</td>\n",
              "    </tr>\n",
              "    <tr>\n",
              "      <th>en</th>\n",
              "      <td>91</td>\n",
              "    </tr>\n",
              "  </tbody>\n",
              "</table>\n",
              "</div><br><label><b>dtype:</b> int64</label>"
            ]
          },
          "metadata": {},
          "execution_count": 591
        }
      ]
    },
    {
      "cell_type": "code",
      "source": [
        "# Assuming your DataFrame is named 'df'\n",
        "# Convert to string and handle potential non-string values\n",
        "df['lang_clean'] = df['lang'].astype(str).str.lower()\n",
        "\n",
        "# Standardize by taking the first two letters (e.g., 'en-gb' -> 'en')\n",
        "df['lang_clean'] = df['lang_clean'].str.slice(0, 2)"
      ],
      "metadata": {
        "id": "OdX5PQE5BMcC"
      },
      "execution_count": null,
      "outputs": []
    },
    {
      "cell_type": "code",
      "source": [
        "# Get the counts of the cleaned languages\n",
        "lang_counts = df['lang_clean'].value_counts()\n",
        "\n",
        "# Identify languages that appear more than, say, 10 times\n",
        "top_langs = lang_counts[lang_counts > 10].index.tolist()\n",
        "\n",
        "# Group all other languages into an 'other' category\n",
        "df['lang_final'] = df['lang_clean'].apply(lambda x: x if x in top_langs else 'other')"
      ],
      "metadata": {
        "id": "jz1wwQSOBoas"
      },
      "execution_count": null,
      "outputs": []
    },
    {
      "cell_type": "code",
      "source": [
        "df['lang_final'].value_counts()"
      ],
      "metadata": {
        "colab": {
          "base_uri": "https://localhost:8080/"
        },
        "id": "Z8NfK_P7Br1X",
        "outputId": "97c78d48-ce17-404a-d192-8dfec7e4dce2"
      },
      "execution_count": null,
      "outputs": [
        {
          "output_type": "execute_result",
          "data": {
            "text/plain": [
              "lang_final\n",
              "en       3324\n",
              "it        900\n",
              "es        123\n",
              "other      35\n",
              "ja         32\n",
              "zh         20\n",
              "fr         18\n",
              "pt         13\n",
              "Name: count, dtype: int64"
            ],
            "text/html": [
              "<div>\n",
              "<style scoped>\n",
              "    .dataframe tbody tr th:only-of-type {\n",
              "        vertical-align: middle;\n",
              "    }\n",
              "\n",
              "    .dataframe tbody tr th {\n",
              "        vertical-align: top;\n",
              "    }\n",
              "\n",
              "    .dataframe thead th {\n",
              "        text-align: right;\n",
              "    }\n",
              "</style>\n",
              "<table border=\"1\" class=\"dataframe\">\n",
              "  <thead>\n",
              "    <tr style=\"text-align: right;\">\n",
              "      <th></th>\n",
              "      <th>count</th>\n",
              "    </tr>\n",
              "    <tr>\n",
              "      <th>lang_final</th>\n",
              "      <th></th>\n",
              "    </tr>\n",
              "  </thead>\n",
              "  <tbody>\n",
              "    <tr>\n",
              "      <th>en</th>\n",
              "      <td>3324</td>\n",
              "    </tr>\n",
              "    <tr>\n",
              "      <th>it</th>\n",
              "      <td>900</td>\n",
              "    </tr>\n",
              "    <tr>\n",
              "      <th>es</th>\n",
              "      <td>123</td>\n",
              "    </tr>\n",
              "    <tr>\n",
              "      <th>other</th>\n",
              "      <td>35</td>\n",
              "    </tr>\n",
              "    <tr>\n",
              "      <th>ja</th>\n",
              "      <td>32</td>\n",
              "    </tr>\n",
              "    <tr>\n",
              "      <th>zh</th>\n",
              "      <td>20</td>\n",
              "    </tr>\n",
              "    <tr>\n",
              "      <th>fr</th>\n",
              "      <td>18</td>\n",
              "    </tr>\n",
              "    <tr>\n",
              "      <th>pt</th>\n",
              "      <td>13</td>\n",
              "    </tr>\n",
              "  </tbody>\n",
              "</table>\n",
              "</div><br><label><b>dtype:</b> int64</label>"
            ]
          },
          "metadata": {},
          "execution_count": 594
        }
      ]
    },
    {
      "cell_type": "code",
      "source": [
        "# Apply one-hot encoding\n",
        "lang_dummies = pd.get_dummies(df['lang_final'], prefix='lang')\n",
        "\n",
        "# Join the new columns back to your original DataFrame\n",
        "df = pd.concat([df, lang_dummies], axis=1)\n",
        "\n",
        "# You can now drop the intermediate columns ('lang', 'lang_clean', 'lang_final')"
      ],
      "metadata": {
        "id": "oG02hbWjBzcZ"
      },
      "execution_count": null,
      "outputs": []
    },
    {
      "cell_type": "code",
      "source": [
        "# Create a list of the columns you want to remove\n",
        "columns_to_drop = ['lang', 'lang_clean', 'lang_final']\n",
        "\n",
        "# Drop them from your DataFrame\n",
        "df.drop(columns=columns_to_drop, axis=1, inplace=True)\n",
        "\n",
        "# Now your DataFrame only contains the final features for your model"
      ],
      "metadata": {
        "id": "Wagdez-MCMBi"
      },
      "execution_count": null,
      "outputs": []
    },
    {
      "cell_type": "code",
      "source": [
        "cols =['location']\n",
        "df.drop(cols,inplace=True,axis=1)\n",
        "# genuine_user['location'].value_counts()\n",
        "# print(genuine_user['location'].isna().sum())\n",
        "# spam_user['location'].value_counts()\n",
        "# print(spam_user['location'].isna().sum())"
      ],
      "metadata": {
        "id": "uGmwSsUW-pNH"
      },
      "execution_count": null,
      "outputs": []
    },
    {
      "cell_type": "code",
      "source": [
        "df['profile_background_tile'].value_counts()"
      ],
      "metadata": {
        "colab": {
          "base_uri": "https://localhost:8080/"
        },
        "id": "YGlTcL-F-WEI",
        "outputId": "0524ac11-dfc3-4b10-d015-390879718c1f"
      },
      "execution_count": null,
      "outputs": [
        {
          "output_type": "execute_result",
          "data": {
            "text/plain": [
              "profile_background_tile\n",
              "1.0    1573\n",
              "Name: count, dtype: int64"
            ],
            "text/html": [
              "<div>\n",
              "<style scoped>\n",
              "    .dataframe tbody tr th:only-of-type {\n",
              "        vertical-align: middle;\n",
              "    }\n",
              "\n",
              "    .dataframe tbody tr th {\n",
              "        vertical-align: top;\n",
              "    }\n",
              "\n",
              "    .dataframe thead th {\n",
              "        text-align: right;\n",
              "    }\n",
              "</style>\n",
              "<table border=\"1\" class=\"dataframe\">\n",
              "  <thead>\n",
              "    <tr style=\"text-align: right;\">\n",
              "      <th></th>\n",
              "      <th>count</th>\n",
              "    </tr>\n",
              "    <tr>\n",
              "      <th>profile_background_tile</th>\n",
              "      <th></th>\n",
              "    </tr>\n",
              "  </thead>\n",
              "  <tbody>\n",
              "    <tr>\n",
              "      <th>1.0</th>\n",
              "      <td>1573</td>\n",
              "    </tr>\n",
              "  </tbody>\n",
              "</table>\n",
              "</div><br><label><b>dtype:</b> int64</label>"
            ]
          },
          "metadata": {},
          "execution_count": 598
        }
      ]
    },
    {
      "cell_type": "code",
      "source": [
        "df['profile_background_tile'].fillna(False, inplace=True)\n",
        "df['profile_background_tile'] = df['profile_background_tile'].replace({1.0:True})\n",
        "df['profile_background_tile'] = df['profile_background_tile'].astype('bool')"
      ],
      "metadata": {
        "colab": {
          "base_uri": "https://localhost:8080/"
        },
        "id": "mK04Bp40-WAg",
        "outputId": "3eb80963-2378-4d6b-9185-071916d66eb6"
      },
      "execution_count": null,
      "outputs": [
        {
          "output_type": "stream",
          "name": "stderr",
          "text": [
            "/tmp/ipython-input-1612344698.py:1: FutureWarning: A value is trying to be set on a copy of a DataFrame or Series through chained assignment using an inplace method.\n",
            "The behavior will change in pandas 3.0. This inplace method will never work because the intermediate object on which we are setting values always behaves as a copy.\n",
            "\n",
            "For example, when doing 'df[col].method(value, inplace=True)', try using 'df.method({col: value}, inplace=True)' or df[col] = df[col].method(value) instead, to perform the operation inplace on the original object.\n",
            "\n",
            "\n",
            "  df['profile_background_tile'].fillna(False, inplace=True)\n",
            "/tmp/ipython-input-1612344698.py:1: FutureWarning: Setting an item of incompatible dtype is deprecated and will raise an error in a future version of pandas. Value 'False' has dtype incompatible with float64, please explicitly cast to a compatible dtype first.\n",
            "  df['profile_background_tile'].fillna(False, inplace=True)\n",
            "/tmp/ipython-input-1612344698.py:2: FutureWarning: Downcasting behavior in `replace` is deprecated and will be removed in a future version. To retain the old behavior, explicitly call `result.infer_objects(copy=False)`. To opt-in to the future behavior, set `pd.set_option('future.no_silent_downcasting', True)`\n",
            "  df['profile_background_tile'] = df['profile_background_tile'].replace({1.0:True})\n"
          ]
        }
      ]
    },
    {
      "cell_type": "code",
      "source": [
        "df['verified'].value_counts()"
      ],
      "metadata": {
        "colab": {
          "base_uri": "https://localhost:8080/"
        },
        "id": "bMbRSEml-LKV",
        "outputId": "664df0cb-f914-4e13-aa28-848c25e40b3f"
      },
      "execution_count": null,
      "outputs": [
        {
          "output_type": "execute_result",
          "data": {
            "text/plain": [
              "verified\n",
              "1.0    11\n",
              "Name: count, dtype: int64"
            ],
            "text/html": [
              "<div>\n",
              "<style scoped>\n",
              "    .dataframe tbody tr th:only-of-type {\n",
              "        vertical-align: middle;\n",
              "    }\n",
              "\n",
              "    .dataframe tbody tr th {\n",
              "        vertical-align: top;\n",
              "    }\n",
              "\n",
              "    .dataframe thead th {\n",
              "        text-align: right;\n",
              "    }\n",
              "</style>\n",
              "<table border=\"1\" class=\"dataframe\">\n",
              "  <thead>\n",
              "    <tr style=\"text-align: right;\">\n",
              "      <th></th>\n",
              "      <th>count</th>\n",
              "    </tr>\n",
              "    <tr>\n",
              "      <th>verified</th>\n",
              "      <th></th>\n",
              "    </tr>\n",
              "  </thead>\n",
              "  <tbody>\n",
              "    <tr>\n",
              "      <th>1.0</th>\n",
              "      <td>11</td>\n",
              "    </tr>\n",
              "  </tbody>\n",
              "</table>\n",
              "</div><br><label><b>dtype:</b> int64</label>"
            ]
          },
          "metadata": {},
          "execution_count": 600
        }
      ]
    },
    {
      "cell_type": "code",
      "source": [
        "df['verified'].fillna(False, inplace=True)\n",
        "df['verified'] = df['verified'].replace({1.0:True})\n",
        "df['verified'] = df['verified'].astype('bool')"
      ],
      "metadata": {
        "colab": {
          "base_uri": "https://localhost:8080/"
        },
        "id": "vDRHQ9fb-N5u",
        "outputId": "89efec53-eb1b-4b42-f88a-5ee7a550d424"
      },
      "execution_count": null,
      "outputs": [
        {
          "output_type": "stream",
          "name": "stderr",
          "text": [
            "/tmp/ipython-input-4034412216.py:1: FutureWarning: A value is trying to be set on a copy of a DataFrame or Series through chained assignment using an inplace method.\n",
            "The behavior will change in pandas 3.0. This inplace method will never work because the intermediate object on which we are setting values always behaves as a copy.\n",
            "\n",
            "For example, when doing 'df[col].method(value, inplace=True)', try using 'df.method({col: value}, inplace=True)' or df[col] = df[col].method(value) instead, to perform the operation inplace on the original object.\n",
            "\n",
            "\n",
            "  df['verified'].fillna(False, inplace=True)\n",
            "/tmp/ipython-input-4034412216.py:1: FutureWarning: Setting an item of incompatible dtype is deprecated and will raise an error in a future version of pandas. Value 'False' has dtype incompatible with float64, please explicitly cast to a compatible dtype first.\n",
            "  df['verified'].fillna(False, inplace=True)\n",
            "/tmp/ipython-input-4034412216.py:2: FutureWarning: Downcasting behavior in `replace` is deprecated and will be removed in a future version. To retain the old behavior, explicitly call `result.infer_objects(copy=False)`. To opt-in to the future behavior, set `pd.set_option('future.no_silent_downcasting', True)`\n",
            "  df['verified'] = df['verified'].replace({1.0:True})\n"
          ]
        }
      ]
    },
    {
      "cell_type": "code",
      "source": [
        "df['profile_use_background_image'].value_counts()"
      ],
      "metadata": {
        "colab": {
          "base_uri": "https://localhost:8080/"
        },
        "id": "Hx949FMt9949",
        "outputId": "6874abf2-1f6d-485a-f95b-094f3ec9c79d"
      },
      "execution_count": null,
      "outputs": [
        {
          "output_type": "execute_result",
          "data": {
            "text/plain": [
              "profile_use_background_image\n",
              "1.0    4072\n",
              "Name: count, dtype: int64"
            ],
            "text/html": [
              "<div>\n",
              "<style scoped>\n",
              "    .dataframe tbody tr th:only-of-type {\n",
              "        vertical-align: middle;\n",
              "    }\n",
              "\n",
              "    .dataframe tbody tr th {\n",
              "        vertical-align: top;\n",
              "    }\n",
              "\n",
              "    .dataframe thead th {\n",
              "        text-align: right;\n",
              "    }\n",
              "</style>\n",
              "<table border=\"1\" class=\"dataframe\">\n",
              "  <thead>\n",
              "    <tr style=\"text-align: right;\">\n",
              "      <th></th>\n",
              "      <th>count</th>\n",
              "    </tr>\n",
              "    <tr>\n",
              "      <th>profile_use_background_image</th>\n",
              "      <th></th>\n",
              "    </tr>\n",
              "  </thead>\n",
              "  <tbody>\n",
              "    <tr>\n",
              "      <th>1.0</th>\n",
              "      <td>4072</td>\n",
              "    </tr>\n",
              "  </tbody>\n",
              "</table>\n",
              "</div><br><label><b>dtype:</b> int64</label>"
            ]
          },
          "metadata": {},
          "execution_count": 602
        }
      ]
    },
    {
      "cell_type": "code",
      "source": [
        "df['profile_use_background_image'].fillna(False, inplace=True)\n",
        "df['profile_use_background_image'] = df['profile_use_background_image'].replace({1.0:True})\n",
        "df['profile_use_background_image'] = df['profile_use_background_image'].astype('bool')"
      ],
      "metadata": {
        "colab": {
          "base_uri": "https://localhost:8080/"
        },
        "id": "DbuH0st0-AAW",
        "outputId": "8f2b6c6c-d69f-4abe-c07c-e5baed622207"
      },
      "execution_count": null,
      "outputs": [
        {
          "output_type": "stream",
          "name": "stderr",
          "text": [
            "/tmp/ipython-input-4281473537.py:1: FutureWarning: A value is trying to be set on a copy of a DataFrame or Series through chained assignment using an inplace method.\n",
            "The behavior will change in pandas 3.0. This inplace method will never work because the intermediate object on which we are setting values always behaves as a copy.\n",
            "\n",
            "For example, when doing 'df[col].method(value, inplace=True)', try using 'df.method({col: value}, inplace=True)' or df[col] = df[col].method(value) instead, to perform the operation inplace on the original object.\n",
            "\n",
            "\n",
            "  df['profile_use_background_image'].fillna(False, inplace=True)\n",
            "/tmp/ipython-input-4281473537.py:1: FutureWarning: Setting an item of incompatible dtype is deprecated and will raise an error in a future version of pandas. Value 'False' has dtype incompatible with float64, please explicitly cast to a compatible dtype first.\n",
            "  df['profile_use_background_image'].fillna(False, inplace=True)\n",
            "/tmp/ipython-input-4281473537.py:2: FutureWarning: Downcasting behavior in `replace` is deprecated and will be removed in a future version. To retain the old behavior, explicitly call `result.infer_objects(copy=False)`. To opt-in to the future behavior, set `pd.set_option('future.no_silent_downcasting', True)`\n",
            "  df['profile_use_background_image'] = df['profile_use_background_image'].replace({1.0:True})\n"
          ]
        }
      ]
    },
    {
      "cell_type": "code",
      "source": [
        "df['default_profile_image'].value_counts()"
      ],
      "metadata": {
        "colab": {
          "base_uri": "https://localhost:8080/"
        },
        "id": "wkEc8CUa9lb3",
        "outputId": "bf8a2573-cb9c-4c70-bf32-fb6c2c9ddf3e"
      },
      "execution_count": null,
      "outputs": [
        {
          "output_type": "execute_result",
          "data": {
            "text/plain": [
              "default_profile_image\n",
              "1.0    14\n",
              "Name: count, dtype: int64"
            ],
            "text/html": [
              "<div>\n",
              "<style scoped>\n",
              "    .dataframe tbody tr th:only-of-type {\n",
              "        vertical-align: middle;\n",
              "    }\n",
              "\n",
              "    .dataframe tbody tr th {\n",
              "        vertical-align: top;\n",
              "    }\n",
              "\n",
              "    .dataframe thead th {\n",
              "        text-align: right;\n",
              "    }\n",
              "</style>\n",
              "<table border=\"1\" class=\"dataframe\">\n",
              "  <thead>\n",
              "    <tr style=\"text-align: right;\">\n",
              "      <th></th>\n",
              "      <th>count</th>\n",
              "    </tr>\n",
              "    <tr>\n",
              "      <th>default_profile_image</th>\n",
              "      <th></th>\n",
              "    </tr>\n",
              "  </thead>\n",
              "  <tbody>\n",
              "    <tr>\n",
              "      <th>1.0</th>\n",
              "      <td>14</td>\n",
              "    </tr>\n",
              "  </tbody>\n",
              "</table>\n",
              "</div><br><label><b>dtype:</b> int64</label>"
            ]
          },
          "metadata": {},
          "execution_count": 604
        }
      ]
    },
    {
      "cell_type": "code",
      "source": [
        "df['default_profile_image'].fillna(False, inplace=True)\n",
        "df['default_profile_image'] = df['default_profile_image'].replace({1.0:True})\n",
        "df['default_profile_image'] = df['default_profile_image'].astype('bool')"
      ],
      "metadata": {
        "colab": {
          "base_uri": "https://localhost:8080/"
        },
        "id": "Hki1Y-mK9phj",
        "outputId": "43432005-f057-41db-8c63-3cfe6f280b04"
      },
      "execution_count": null,
      "outputs": [
        {
          "output_type": "stream",
          "name": "stderr",
          "text": [
            "/tmp/ipython-input-851475080.py:1: FutureWarning: A value is trying to be set on a copy of a DataFrame or Series through chained assignment using an inplace method.\n",
            "The behavior will change in pandas 3.0. This inplace method will never work because the intermediate object on which we are setting values always behaves as a copy.\n",
            "\n",
            "For example, when doing 'df[col].method(value, inplace=True)', try using 'df.method({col: value}, inplace=True)' or df[col] = df[col].method(value) instead, to perform the operation inplace on the original object.\n",
            "\n",
            "\n",
            "  df['default_profile_image'].fillna(False, inplace=True)\n",
            "/tmp/ipython-input-851475080.py:1: FutureWarning: Setting an item of incompatible dtype is deprecated and will raise an error in a future version of pandas. Value 'False' has dtype incompatible with float64, please explicitly cast to a compatible dtype first.\n",
            "  df['default_profile_image'].fillna(False, inplace=True)\n",
            "/tmp/ipython-input-851475080.py:2: FutureWarning: Downcasting behavior in `replace` is deprecated and will be removed in a future version. To retain the old behavior, explicitly call `result.infer_objects(copy=False)`. To opt-in to the future behavior, set `pd.set_option('future.no_silent_downcasting', True)`\n",
            "  df['default_profile_image'] = df['default_profile_image'].replace({1.0:True})\n"
          ]
        }
      ]
    },
    {
      "cell_type": "code",
      "source": [
        "df['geo_enabled'].value_counts()"
      ],
      "metadata": {
        "colab": {
          "base_uri": "https://localhost:8080/"
        },
        "id": "bv13IyE_2fnb",
        "outputId": "90d38f4d-eaa5-4914-b887-e62abaafa718"
      },
      "execution_count": null,
      "outputs": [
        {
          "output_type": "execute_result",
          "data": {
            "text/plain": [
              "geo_enabled\n",
              "1.0    2173\n",
              "Name: count, dtype: int64"
            ],
            "text/html": [
              "<div>\n",
              "<style scoped>\n",
              "    .dataframe tbody tr th:only-of-type {\n",
              "        vertical-align: middle;\n",
              "    }\n",
              "\n",
              "    .dataframe tbody tr th {\n",
              "        vertical-align: top;\n",
              "    }\n",
              "\n",
              "    .dataframe thead th {\n",
              "        text-align: right;\n",
              "    }\n",
              "</style>\n",
              "<table border=\"1\" class=\"dataframe\">\n",
              "  <thead>\n",
              "    <tr style=\"text-align: right;\">\n",
              "      <th></th>\n",
              "      <th>count</th>\n",
              "    </tr>\n",
              "    <tr>\n",
              "      <th>geo_enabled</th>\n",
              "      <th></th>\n",
              "    </tr>\n",
              "  </thead>\n",
              "  <tbody>\n",
              "    <tr>\n",
              "      <th>1.0</th>\n",
              "      <td>2173</td>\n",
              "    </tr>\n",
              "  </tbody>\n",
              "</table>\n",
              "</div><br><label><b>dtype:</b> int64</label>"
            ]
          },
          "metadata": {},
          "execution_count": 606
        }
      ]
    },
    {
      "cell_type": "code",
      "source": [
        "df['geo_enabled'].fillna(False, inplace=True)\n",
        "df['geo_enabled'] = df['geo_enabled'].replace({1.0:True})\n",
        "df['geo_enabled'] = df['geo_enabled'].astype('bool')"
      ],
      "metadata": {
        "colab": {
          "base_uri": "https://localhost:8080/"
        },
        "id": "1SIr1OQz8ZKY",
        "outputId": "604eb2ef-4726-4fa7-b9c2-23d916877581"
      },
      "execution_count": null,
      "outputs": [
        {
          "output_type": "stream",
          "name": "stderr",
          "text": [
            "/tmp/ipython-input-381385734.py:1: FutureWarning: A value is trying to be set on a copy of a DataFrame or Series through chained assignment using an inplace method.\n",
            "The behavior will change in pandas 3.0. This inplace method will never work because the intermediate object on which we are setting values always behaves as a copy.\n",
            "\n",
            "For example, when doing 'df[col].method(value, inplace=True)', try using 'df.method({col: value}, inplace=True)' or df[col] = df[col].method(value) instead, to perform the operation inplace on the original object.\n",
            "\n",
            "\n",
            "  df['geo_enabled'].fillna(False, inplace=True)\n",
            "/tmp/ipython-input-381385734.py:1: FutureWarning: Setting an item of incompatible dtype is deprecated and will raise an error in a future version of pandas. Value 'False' has dtype incompatible with float64, please explicitly cast to a compatible dtype first.\n",
            "  df['geo_enabled'].fillna(False, inplace=True)\n",
            "/tmp/ipython-input-381385734.py:2: FutureWarning: Downcasting behavior in `replace` is deprecated and will be removed in a future version. To retain the old behavior, explicitly call `result.infer_objects(copy=False)`. To opt-in to the future behavior, set `pd.set_option('future.no_silent_downcasting', True)`\n",
            "  df['geo_enabled'] = df['geo_enabled'].replace({1.0:True})\n"
          ]
        }
      ]
    },
    {
      "cell_type": "code",
      "source": [
        "df['default_profile'].value_counts()"
      ],
      "metadata": {
        "colab": {
          "base_uri": "https://localhost:8080/"
        },
        "id": "wAo3UxmP83qe",
        "outputId": "45d6370a-f1f1-48f5-feea-88a84d62c500"
      },
      "execution_count": null,
      "outputs": [
        {
          "output_type": "execute_result",
          "data": {
            "text/plain": [
              "default_profile\n",
              "1.0    1177\n",
              "Name: count, dtype: int64"
            ],
            "text/html": [
              "<div>\n",
              "<style scoped>\n",
              "    .dataframe tbody tr th:only-of-type {\n",
              "        vertical-align: middle;\n",
              "    }\n",
              "\n",
              "    .dataframe tbody tr th {\n",
              "        vertical-align: top;\n",
              "    }\n",
              "\n",
              "    .dataframe thead th {\n",
              "        text-align: right;\n",
              "    }\n",
              "</style>\n",
              "<table border=\"1\" class=\"dataframe\">\n",
              "  <thead>\n",
              "    <tr style=\"text-align: right;\">\n",
              "      <th></th>\n",
              "      <th>count</th>\n",
              "    </tr>\n",
              "    <tr>\n",
              "      <th>default_profile</th>\n",
              "      <th></th>\n",
              "    </tr>\n",
              "  </thead>\n",
              "  <tbody>\n",
              "    <tr>\n",
              "      <th>1.0</th>\n",
              "      <td>1177</td>\n",
              "    </tr>\n",
              "  </tbody>\n",
              "</table>\n",
              "</div><br><label><b>dtype:</b> int64</label>"
            ]
          },
          "metadata": {},
          "execution_count": 608
        }
      ]
    },
    {
      "cell_type": "code",
      "source": [
        "df['default_profile'].fillna(False, inplace=True)\n",
        "df['default_profile'] = df['default_profile'].replace({1.0:True})\n",
        "df['default_profile'] = df['default_profile'].astype('bool')"
      ],
      "metadata": {
        "colab": {
          "base_uri": "https://localhost:8080/"
        },
        "id": "pScog5DZ8-Ib",
        "outputId": "21b96d1b-77f4-4b4e-fa34-432ecd698c94"
      },
      "execution_count": null,
      "outputs": [
        {
          "output_type": "stream",
          "name": "stderr",
          "text": [
            "/tmp/ipython-input-1171609634.py:1: FutureWarning: A value is trying to be set on a copy of a DataFrame or Series through chained assignment using an inplace method.\n",
            "The behavior will change in pandas 3.0. This inplace method will never work because the intermediate object on which we are setting values always behaves as a copy.\n",
            "\n",
            "For example, when doing 'df[col].method(value, inplace=True)', try using 'df.method({col: value}, inplace=True)' or df[col] = df[col].method(value) instead, to perform the operation inplace on the original object.\n",
            "\n",
            "\n",
            "  df['default_profile'].fillna(False, inplace=True)\n",
            "/tmp/ipython-input-1171609634.py:1: FutureWarning: Setting an item of incompatible dtype is deprecated and will raise an error in a future version of pandas. Value 'False' has dtype incompatible with float64, please explicitly cast to a compatible dtype first.\n",
            "  df['default_profile'].fillna(False, inplace=True)\n",
            "/tmp/ipython-input-1171609634.py:2: FutureWarning: Downcasting behavior in `replace` is deprecated and will be removed in a future version. To retain the old behavior, explicitly call `result.infer_objects(copy=False)`. To opt-in to the future behavior, set `pd.set_option('future.no_silent_downcasting', True)`\n",
            "  df['default_profile'] = df['default_profile'].replace({1.0:True})\n"
          ]
        }
      ]
    },
    {
      "cell_type": "code",
      "source": [
        "df['protected'].value_counts()"
      ],
      "metadata": {
        "colab": {
          "base_uri": "https://localhost:8080/"
        },
        "id": "z5--faMt9Mpq",
        "outputId": "c6d2c763-d9c6-4034-bef3-3cc372f35600"
      },
      "execution_count": null,
      "outputs": [
        {
          "output_type": "execute_result",
          "data": {
            "text/plain": [
              "protected\n",
              "1.0    78\n",
              "Name: count, dtype: int64"
            ],
            "text/html": [
              "<div>\n",
              "<style scoped>\n",
              "    .dataframe tbody tr th:only-of-type {\n",
              "        vertical-align: middle;\n",
              "    }\n",
              "\n",
              "    .dataframe tbody tr th {\n",
              "        vertical-align: top;\n",
              "    }\n",
              "\n",
              "    .dataframe thead th {\n",
              "        text-align: right;\n",
              "    }\n",
              "</style>\n",
              "<table border=\"1\" class=\"dataframe\">\n",
              "  <thead>\n",
              "    <tr style=\"text-align: right;\">\n",
              "      <th></th>\n",
              "      <th>count</th>\n",
              "    </tr>\n",
              "    <tr>\n",
              "      <th>protected</th>\n",
              "      <th></th>\n",
              "    </tr>\n",
              "  </thead>\n",
              "  <tbody>\n",
              "    <tr>\n",
              "      <th>1.0</th>\n",
              "      <td>78</td>\n",
              "    </tr>\n",
              "  </tbody>\n",
              "</table>\n",
              "</div><br><label><b>dtype:</b> int64</label>"
            ]
          },
          "metadata": {},
          "execution_count": 610
        }
      ]
    },
    {
      "cell_type": "code",
      "source": [
        "df['protected'].fillna(False, inplace=True)\n",
        "df['protected'] = df['protected'].replace({1.0:True})\n",
        "df['protected'] = df['protected'].astype('bool')"
      ],
      "metadata": {
        "colab": {
          "base_uri": "https://localhost:8080/"
        },
        "id": "e28YukYk9LXX",
        "outputId": "6346426b-aadc-4260-f8a7-2051f58d1be3"
      },
      "execution_count": null,
      "outputs": [
        {
          "output_type": "stream",
          "name": "stderr",
          "text": [
            "/tmp/ipython-input-1142615297.py:1: FutureWarning: A value is trying to be set on a copy of a DataFrame or Series through chained assignment using an inplace method.\n",
            "The behavior will change in pandas 3.0. This inplace method will never work because the intermediate object on which we are setting values always behaves as a copy.\n",
            "\n",
            "For example, when doing 'df[col].method(value, inplace=True)', try using 'df.method({col: value}, inplace=True)' or df[col] = df[col].method(value) instead, to perform the operation inplace on the original object.\n",
            "\n",
            "\n",
            "  df['protected'].fillna(False, inplace=True)\n",
            "/tmp/ipython-input-1142615297.py:1: FutureWarning: Setting an item of incompatible dtype is deprecated and will raise an error in a future version of pandas. Value 'False' has dtype incompatible with float64, please explicitly cast to a compatible dtype first.\n",
            "  df['protected'].fillna(False, inplace=True)\n",
            "/tmp/ipython-input-1142615297.py:2: FutureWarning: Downcasting behavior in `replace` is deprecated and will be removed in a future version. To retain the old behavior, explicitly call `result.infer_objects(copy=False)`. To opt-in to the future behavior, set `pd.set_option('future.no_silent_downcasting', True)`\n",
            "  df['protected'] = df['protected'].replace({1.0:True})\n"
          ]
        }
      ]
    },
    {
      "cell_type": "code",
      "metadata": {
        "colab": {
          "base_uri": "https://localhost:8080/"
        },
        "id": "e6b2e2ef",
        "outputId": "ccb140bb-3c47-46f7-ef36-e7ed5192eede"
      },
      "source": [
        "display(df_clean.isnull().sum())"
      ],
      "execution_count": null,
      "outputs": [
        {
          "output_type": "display_data",
          "data": {
            "text/plain": [
              "statuses_count                           0\n",
              "profile_sidebar_border_color             0\n",
              "profile_banner_url                    1223\n",
              "url                                   3177\n",
              "name                                     1\n",
              "followers_count                          0\n",
              "location                              1355\n",
              "listed_count                             0\n",
              "id                                       0\n",
              "created_at                               0\n",
              "updated                                  0\n",
              "test_set_1                               0\n",
              "crawled_at                               0\n",
              "lang                                     0\n",
              "friends_count                            0\n",
              "follow_request_sent                   4465\n",
              "following                             4465\n",
              "time_zone                             1087\n",
              "profile_background_tile               2892\n",
              "profile_image_url_https                  0\n",
              "contributors_enabled                  4465\n",
              "verified                              4454\n",
              "profile_sidebar_fill_color               0\n",
              "is_translator                         4464\n",
              "timestamp                                0\n",
              "utc_offset                            1087\n",
              "profile_use_background_image           393\n",
              "default_profile_image                 4451\n",
              "profile_background_image_url_https       0\n",
              "profile_image_url                        0\n",
              "profile_link_color                       0\n",
              "profile_text_color                       0\n",
              "label                                    0\n",
              "profile_background_image_url             0\n",
              "favourites_count                         0\n",
              "notifications                         4465\n",
              "description                            427\n",
              "screen_name                              0\n",
              "protected                             4387\n",
              "default_profile                       3288\n",
              "profile_background_color                 0\n",
              "geo_enabled                           2292\n",
              "dtype: int64"
            ],
            "text/html": [
              "<div>\n",
              "<style scoped>\n",
              "    .dataframe tbody tr th:only-of-type {\n",
              "        vertical-align: middle;\n",
              "    }\n",
              "\n",
              "    .dataframe tbody tr th {\n",
              "        vertical-align: top;\n",
              "    }\n",
              "\n",
              "    .dataframe thead th {\n",
              "        text-align: right;\n",
              "    }\n",
              "</style>\n",
              "<table border=\"1\" class=\"dataframe\">\n",
              "  <thead>\n",
              "    <tr style=\"text-align: right;\">\n",
              "      <th></th>\n",
              "      <th>0</th>\n",
              "    </tr>\n",
              "  </thead>\n",
              "  <tbody>\n",
              "    <tr>\n",
              "      <th>statuses_count</th>\n",
              "      <td>0</td>\n",
              "    </tr>\n",
              "    <tr>\n",
              "      <th>profile_sidebar_border_color</th>\n",
              "      <td>0</td>\n",
              "    </tr>\n",
              "    <tr>\n",
              "      <th>profile_banner_url</th>\n",
              "      <td>1223</td>\n",
              "    </tr>\n",
              "    <tr>\n",
              "      <th>url</th>\n",
              "      <td>3177</td>\n",
              "    </tr>\n",
              "    <tr>\n",
              "      <th>name</th>\n",
              "      <td>1</td>\n",
              "    </tr>\n",
              "    <tr>\n",
              "      <th>followers_count</th>\n",
              "      <td>0</td>\n",
              "    </tr>\n",
              "    <tr>\n",
              "      <th>location</th>\n",
              "      <td>1355</td>\n",
              "    </tr>\n",
              "    <tr>\n",
              "      <th>listed_count</th>\n",
              "      <td>0</td>\n",
              "    </tr>\n",
              "    <tr>\n",
              "      <th>id</th>\n",
              "      <td>0</td>\n",
              "    </tr>\n",
              "    <tr>\n",
              "      <th>created_at</th>\n",
              "      <td>0</td>\n",
              "    </tr>\n",
              "    <tr>\n",
              "      <th>updated</th>\n",
              "      <td>0</td>\n",
              "    </tr>\n",
              "    <tr>\n",
              "      <th>test_set_1</th>\n",
              "      <td>0</td>\n",
              "    </tr>\n",
              "    <tr>\n",
              "      <th>crawled_at</th>\n",
              "      <td>0</td>\n",
              "    </tr>\n",
              "    <tr>\n",
              "      <th>lang</th>\n",
              "      <td>0</td>\n",
              "    </tr>\n",
              "    <tr>\n",
              "      <th>friends_count</th>\n",
              "      <td>0</td>\n",
              "    </tr>\n",
              "    <tr>\n",
              "      <th>follow_request_sent</th>\n",
              "      <td>4465</td>\n",
              "    </tr>\n",
              "    <tr>\n",
              "      <th>following</th>\n",
              "      <td>4465</td>\n",
              "    </tr>\n",
              "    <tr>\n",
              "      <th>time_zone</th>\n",
              "      <td>1087</td>\n",
              "    </tr>\n",
              "    <tr>\n",
              "      <th>profile_background_tile</th>\n",
              "      <td>2892</td>\n",
              "    </tr>\n",
              "    <tr>\n",
              "      <th>profile_image_url_https</th>\n",
              "      <td>0</td>\n",
              "    </tr>\n",
              "    <tr>\n",
              "      <th>contributors_enabled</th>\n",
              "      <td>4465</td>\n",
              "    </tr>\n",
              "    <tr>\n",
              "      <th>verified</th>\n",
              "      <td>4454</td>\n",
              "    </tr>\n",
              "    <tr>\n",
              "      <th>profile_sidebar_fill_color</th>\n",
              "      <td>0</td>\n",
              "    </tr>\n",
              "    <tr>\n",
              "      <th>is_translator</th>\n",
              "      <td>4464</td>\n",
              "    </tr>\n",
              "    <tr>\n",
              "      <th>timestamp</th>\n",
              "      <td>0</td>\n",
              "    </tr>\n",
              "    <tr>\n",
              "      <th>utc_offset</th>\n",
              "      <td>1087</td>\n",
              "    </tr>\n",
              "    <tr>\n",
              "      <th>profile_use_background_image</th>\n",
              "      <td>393</td>\n",
              "    </tr>\n",
              "    <tr>\n",
              "      <th>default_profile_image</th>\n",
              "      <td>4451</td>\n",
              "    </tr>\n",
              "    <tr>\n",
              "      <th>profile_background_image_url_https</th>\n",
              "      <td>0</td>\n",
              "    </tr>\n",
              "    <tr>\n",
              "      <th>profile_image_url</th>\n",
              "      <td>0</td>\n",
              "    </tr>\n",
              "    <tr>\n",
              "      <th>profile_link_color</th>\n",
              "      <td>0</td>\n",
              "    </tr>\n",
              "    <tr>\n",
              "      <th>profile_text_color</th>\n",
              "      <td>0</td>\n",
              "    </tr>\n",
              "    <tr>\n",
              "      <th>label</th>\n",
              "      <td>0</td>\n",
              "    </tr>\n",
              "    <tr>\n",
              "      <th>profile_background_image_url</th>\n",
              "      <td>0</td>\n",
              "    </tr>\n",
              "    <tr>\n",
              "      <th>favourites_count</th>\n",
              "      <td>0</td>\n",
              "    </tr>\n",
              "    <tr>\n",
              "      <th>notifications</th>\n",
              "      <td>4465</td>\n",
              "    </tr>\n",
              "    <tr>\n",
              "      <th>description</th>\n",
              "      <td>427</td>\n",
              "    </tr>\n",
              "    <tr>\n",
              "      <th>screen_name</th>\n",
              "      <td>0</td>\n",
              "    </tr>\n",
              "    <tr>\n",
              "      <th>protected</th>\n",
              "      <td>4387</td>\n",
              "    </tr>\n",
              "    <tr>\n",
              "      <th>default_profile</th>\n",
              "      <td>3288</td>\n",
              "    </tr>\n",
              "    <tr>\n",
              "      <th>profile_background_color</th>\n",
              "      <td>0</td>\n",
              "    </tr>\n",
              "    <tr>\n",
              "      <th>geo_enabled</th>\n",
              "      <td>2292</td>\n",
              "    </tr>\n",
              "  </tbody>\n",
              "</table>\n",
              "</div><br><label><b>dtype:</b> int64</label>"
            ]
          },
          "metadata": {}
        }
      ]
    },
    {
      "cell_type": "code",
      "source": [
        "df.info()"
      ],
      "metadata": {
        "colab": {
          "base_uri": "https://localhost:8080/"
        },
        "id": "TgRKUjJYHu4y",
        "outputId": "07845415-2b15-4370-a84d-25b52f39ab5c"
      },
      "execution_count": null,
      "outputs": [
        {
          "output_type": "stream",
          "name": "stdout",
          "text": [
            "<class 'pandas.core.frame.DataFrame'>\n",
            "RangeIndex: 4465 entries, 0 to 4464\n",
            "Data columns (total 22 columns):\n",
            " #   Column                        Non-Null Count  Dtype\n",
            "---  ------                        --------------  -----\n",
            " 0   statuses_count                4465 non-null   int64\n",
            " 1   followers_count               4465 non-null   int64\n",
            " 2   listed_count                  4465 non-null   int64\n",
            " 3   friends_count                 4465 non-null   int64\n",
            " 4   profile_background_tile       4465 non-null   bool \n",
            " 5   verified                      4465 non-null   bool \n",
            " 6   profile_use_background_image  4465 non-null   bool \n",
            " 7   default_profile_image         4465 non-null   bool \n",
            " 8   label                         4465 non-null   int64\n",
            " 9   favourites_count              4465 non-null   int64\n",
            " 10  protected                     4465 non-null   bool \n",
            " 11  default_profile               4465 non-null   bool \n",
            " 12  geo_enabled                   4465 non-null   bool \n",
            " 13  account_age_days              4465 non-null   int64\n",
            " 14  lang_en                       4465 non-null   bool \n",
            " 15  lang_es                       4465 non-null   bool \n",
            " 16  lang_fr                       4465 non-null   bool \n",
            " 17  lang_it                       4465 non-null   bool \n",
            " 18  lang_ja                       4465 non-null   bool \n",
            " 19  lang_other                    4465 non-null   bool \n",
            " 20  lang_pt                       4465 non-null   bool \n",
            " 21  lang_zh                       4465 non-null   bool \n",
            "dtypes: bool(15), int64(7)\n",
            "memory usage: 309.7 KB\n"
          ]
        }
      ]
    },
    {
      "cell_type": "code",
      "source": [
        "# df['account_age_days'].describe()\n",
        "df['followers_count'].describe()\n",
        "# df['statuses_count'].describe()\n",
        "# df['friends_count'].describe()\n",
        "# df['favourites_count'].describe()\n",
        "# df['listed_count'].describe()"
      ],
      "metadata": {
        "colab": {
          "base_uri": "https://localhost:8080/"
        },
        "id": "_QmkWT9xJu25",
        "outputId": "fd9c12f0-8ab3-4ee7-d25d-b5bda340c4de"
      },
      "execution_count": null,
      "outputs": [
        {
          "output_type": "execute_result",
          "data": {
            "text/plain": [
              "count      4465.000000\n",
              "mean       1480.154087\n",
              "std       15262.107520\n",
              "min           0.000000\n",
              "25%         110.000000\n",
              "50%         324.000000\n",
              "75%         961.000000\n",
              "max      986837.000000\n",
              "Name: followers_count, dtype: float64"
            ],
            "text/html": [
              "<div>\n",
              "<style scoped>\n",
              "    .dataframe tbody tr th:only-of-type {\n",
              "        vertical-align: middle;\n",
              "    }\n",
              "\n",
              "    .dataframe tbody tr th {\n",
              "        vertical-align: top;\n",
              "    }\n",
              "\n",
              "    .dataframe thead th {\n",
              "        text-align: right;\n",
              "    }\n",
              "</style>\n",
              "<table border=\"1\" class=\"dataframe\">\n",
              "  <thead>\n",
              "    <tr style=\"text-align: right;\">\n",
              "      <th></th>\n",
              "      <th>followers_count</th>\n",
              "    </tr>\n",
              "  </thead>\n",
              "  <tbody>\n",
              "    <tr>\n",
              "      <th>count</th>\n",
              "      <td>4465.000000</td>\n",
              "    </tr>\n",
              "    <tr>\n",
              "      <th>mean</th>\n",
              "      <td>1480.154087</td>\n",
              "    </tr>\n",
              "    <tr>\n",
              "      <th>std</th>\n",
              "      <td>15262.107520</td>\n",
              "    </tr>\n",
              "    <tr>\n",
              "      <th>min</th>\n",
              "      <td>0.000000</td>\n",
              "    </tr>\n",
              "    <tr>\n",
              "      <th>25%</th>\n",
              "      <td>110.000000</td>\n",
              "    </tr>\n",
              "    <tr>\n",
              "      <th>50%</th>\n",
              "      <td>324.000000</td>\n",
              "    </tr>\n",
              "    <tr>\n",
              "      <th>75%</th>\n",
              "      <td>961.000000</td>\n",
              "    </tr>\n",
              "    <tr>\n",
              "      <th>max</th>\n",
              "      <td>986837.000000</td>\n",
              "    </tr>\n",
              "  </tbody>\n",
              "</table>\n",
              "</div><br><label><b>dtype:</b> float64</label>"
            ]
          },
          "metadata": {},
          "execution_count": 614
        }
      ]
    },
    {
      "cell_type": "code",
      "source": [
        "import numpy as np\n",
        "skewed_cols = ['followers_count', 'statuses_count', 'friends_count', 'favourites_count', 'listed_count','account_age_days']\n",
        "\n",
        "# Apply the log transformation\n",
        "for col in skewed_cols:\n",
        "    df[col] = np.log1p(df[col])"
      ],
      "metadata": {
        "id": "M4jNBfFzG556"
      },
      "execution_count": null,
      "outputs": []
    },
    {
      "cell_type": "code",
      "source": [
        "df['account_age_days'].describe()"
      ],
      "metadata": {
        "colab": {
          "base_uri": "https://localhost:8080/"
        },
        "id": "6djxdlMsHDuC",
        "outputId": "4728def7-88fb-4d83-bd61-44fedbac1cad"
      },
      "execution_count": null,
      "outputs": [
        {
          "output_type": "execute_result",
          "data": {
            "text/plain": [
              "count    4465.000000\n",
              "mean        6.793417\n",
              "std         0.799403\n",
              "min         2.484907\n",
              "25%         6.573680\n",
              "50%         6.824374\n",
              "75%         7.367709\n",
              "max         8.013674\n",
              "Name: account_age_days, dtype: float64"
            ],
            "text/html": [
              "<div>\n",
              "<style scoped>\n",
              "    .dataframe tbody tr th:only-of-type {\n",
              "        vertical-align: middle;\n",
              "    }\n",
              "\n",
              "    .dataframe tbody tr th {\n",
              "        vertical-align: top;\n",
              "    }\n",
              "\n",
              "    .dataframe thead th {\n",
              "        text-align: right;\n",
              "    }\n",
              "</style>\n",
              "<table border=\"1\" class=\"dataframe\">\n",
              "  <thead>\n",
              "    <tr style=\"text-align: right;\">\n",
              "      <th></th>\n",
              "      <th>account_age_days</th>\n",
              "    </tr>\n",
              "  </thead>\n",
              "  <tbody>\n",
              "    <tr>\n",
              "      <th>count</th>\n",
              "      <td>4465.000000</td>\n",
              "    </tr>\n",
              "    <tr>\n",
              "      <th>mean</th>\n",
              "      <td>6.793417</td>\n",
              "    </tr>\n",
              "    <tr>\n",
              "      <th>std</th>\n",
              "      <td>0.799403</td>\n",
              "    </tr>\n",
              "    <tr>\n",
              "      <th>min</th>\n",
              "      <td>2.484907</td>\n",
              "    </tr>\n",
              "    <tr>\n",
              "      <th>25%</th>\n",
              "      <td>6.573680</td>\n",
              "    </tr>\n",
              "    <tr>\n",
              "      <th>50%</th>\n",
              "      <td>6.824374</td>\n",
              "    </tr>\n",
              "    <tr>\n",
              "      <th>75%</th>\n",
              "      <td>7.367709</td>\n",
              "    </tr>\n",
              "    <tr>\n",
              "      <th>max</th>\n",
              "      <td>8.013674</td>\n",
              "    </tr>\n",
              "  </tbody>\n",
              "</table>\n",
              "</div><br><label><b>dtype:</b> float64</label>"
            ]
          },
          "metadata": {},
          "execution_count": 616
        }
      ]
    },
    {
      "cell_type": "code",
      "source": [
        "df.info()"
      ],
      "metadata": {
        "colab": {
          "base_uri": "https://localhost:8080/"
        },
        "id": "kKm-7G9tK-C9",
        "outputId": "40cca7ba-a843-423c-e313-1e6348eaba99"
      },
      "execution_count": null,
      "outputs": [
        {
          "output_type": "stream",
          "name": "stdout",
          "text": [
            "<class 'pandas.core.frame.DataFrame'>\n",
            "RangeIndex: 4465 entries, 0 to 4464\n",
            "Data columns (total 22 columns):\n",
            " #   Column                        Non-Null Count  Dtype  \n",
            "---  ------                        --------------  -----  \n",
            " 0   statuses_count                4465 non-null   float64\n",
            " 1   followers_count               4465 non-null   float64\n",
            " 2   listed_count                  4465 non-null   float64\n",
            " 3   friends_count                 4465 non-null   float64\n",
            " 4   profile_background_tile       4465 non-null   bool   \n",
            " 5   verified                      4465 non-null   bool   \n",
            " 6   profile_use_background_image  4465 non-null   bool   \n",
            " 7   default_profile_image         4465 non-null   bool   \n",
            " 8   label                         4465 non-null   int64  \n",
            " 9   favourites_count              4465 non-null   float64\n",
            " 10  protected                     4465 non-null   bool   \n",
            " 11  default_profile               4465 non-null   bool   \n",
            " 12  geo_enabled                   4465 non-null   bool   \n",
            " 13  account_age_days              4465 non-null   float64\n",
            " 14  lang_en                       4465 non-null   bool   \n",
            " 15  lang_es                       4465 non-null   bool   \n",
            " 16  lang_fr                       4465 non-null   bool   \n",
            " 17  lang_it                       4465 non-null   bool   \n",
            " 18  lang_ja                       4465 non-null   bool   \n",
            " 19  lang_other                    4465 non-null   bool   \n",
            " 20  lang_pt                       4465 non-null   bool   \n",
            " 21  lang_zh                       4465 non-null   bool   \n",
            "dtypes: bool(15), float64(6), int64(1)\n",
            "memory usage: 309.7 KB\n"
          ]
        }
      ]
    },
    {
      "cell_type": "code",
      "source": [
        "# Drop one of the language columns to fix the dummy variable trap\n",
        "df.drop('lang_en', axis=1, inplace=True)"
      ],
      "metadata": {
        "id": "0PJPrAYyMG20"
      },
      "execution_count": null,
      "outputs": []
    },
    {
      "cell_type": "code",
      "source": [
        "# Option B: Create a follower-to-friend ratio\n",
        "# Add a small number to the denominator to avoid division by zero\n",
        "df['follower_friend_ratio'] = df['followers_count'] / (df['friends_count'] + 1)\n",
        "\n",
        "# Now, drop the original, highly correlated columns\n",
        "df.drop(['followers_count', 'friends_count'], axis=1, inplace=True)"
      ],
      "metadata": {
        "id": "jaMCfEftMGem"
      },
      "execution_count": null,
      "outputs": []
    },
    {
      "cell_type": "markdown",
      "metadata": {
        "id": "1e175057"
      },
      "source": [
        "## Split Data into Training and Testing Sets\n",
        "\n",
        "Split the dataset into features (X) and the target variable (y), and then further split these into training and testing sets."
      ]
    },
    {
      "cell_type": "code",
      "metadata": {
        "colab": {
          "base_uri": "https://localhost:8080/"
        },
        "id": "751d04d9",
        "outputId": "cf61040a-9438-4830-fef0-6d030d7348e6"
      },
      "source": [
        "from sklearn.model_selection import train_test_split\n",
        "\n",
        "# Define features (X) and target (y)\n",
        "X = df.drop('label', axis=1)\n",
        "y = df['label']\n",
        "\n",
        "# Split data into training and testing sets\n",
        "X_train, X_test, y_train, y_test = train_test_split(X, y, test_size=0.2, random_state=42, stratify=y)\n",
        "\n",
        "print(\"Shape of X_train:\", X_train.shape)\n",
        "print(\"Shape of X_test:\", X_test.shape)\n",
        "print(\"Shape of y_train:\", y_train.shape)\n",
        "print(\"Shape of y_test:\", y_test.shape)"
      ],
      "execution_count": null,
      "outputs": [
        {
          "output_type": "stream",
          "name": "stdout",
          "text": [
            "Shape of X_train: (3572, 19)\n",
            "Shape of X_test: (893, 19)\n",
            "Shape of y_train: (3572,)\n",
            "Shape of y_test: (893,)\n"
          ]
        }
      ]
    },
    {
      "cell_type": "code",
      "source": [
        "from sklearn.preprocessing import StandardScaler\n",
        "\n",
        "scaler = StandardScaler()\n",
        "X_train_scaled = scaler.fit_transform(X_train)\n",
        "X_test_scaled = scaler.transform(X_test)"
      ],
      "metadata": {
        "id": "m-yDXMF3JJKC"
      },
      "execution_count": null,
      "outputs": []
    },
    {
      "cell_type": "markdown",
      "source": [
        "# Random Forest model"
      ],
      "metadata": {
        "id": "MkcGEUvLj2GV"
      }
    },
    {
      "cell_type": "markdown",
      "source": [
        "## Train the Random Forest Model\n",
        "\n",
        "Train a Random Forest Classifier model on the training data."
      ],
      "metadata": {
        "id": "tq4yNlTLkBLv"
      }
    },
    {
      "cell_type": "code",
      "source": [
        "from sklearn.ensemble import RandomForestClassifier\n",
        "\n",
        "# Initialize the Random Forest Classifier model\n",
        "rf_model = RandomForestClassifier(random_state=42)\n",
        "\n",
        "# Train the model\n",
        "rf_model.fit(X_train_scaled, y_train)\n",
        "\n",
        "print(\"Random Forest model training complete.\")"
      ],
      "metadata": {
        "colab": {
          "base_uri": "https://localhost:8080/"
        },
        "id": "icNST1xbj7KO",
        "outputId": "80410ad5-a16e-4a68-e245-e363f27b385e"
      },
      "execution_count": null,
      "outputs": [
        {
          "output_type": "stream",
          "name": "stdout",
          "text": [
            "Random Forest model training complete.\n"
          ]
        }
      ]
    },
    {
      "cell_type": "markdown",
      "source": [
        "## Evaluation of Random Forest"
      ],
      "metadata": {
        "id": "GPXCTdg0kF2U"
      }
    },
    {
      "cell_type": "code",
      "source": [
        "from sklearn.metrics import accuracy_score, precision_score, recall_score, f1_score, confusion_matrix\n",
        "import matplotlib.pyplot as plt\n",
        "import seaborn as sns\n",
        "\n",
        "# Make predictions on the test data using the Random Forest model\n",
        "y_pred_rf = rf_model.predict(X_test_scaled)\n",
        "\n",
        "# Calculate evaluation metrics for the Random Forest model\n",
        "accuracy_rf = accuracy_score(y_test, y_pred_rf)\n",
        "precision_rf = precision_score(y_test, y_pred_rf)\n",
        "recall_rf = recall_score(y_test, y_pred_rf)\n",
        "f1_rf = f1_score(y_test, y_pred_rf)\n",
        "\n",
        "# Print the metrics\n",
        "print(f\"Random Forest Model Performance:\")\n",
        "print(f\"Accuracy: {accuracy_rf:.4f}\")\n",
        "print(f\"Precision: {precision_rf:.4f}\")\n",
        "print(f\"Recall: {recall_rf:.4f}\")\n",
        "print(f\"F1-Score: {f1_rf:.4f}\")\n",
        "\n",
        "# Display the confusion matrix for the Random Forest model\n",
        "cm_rf = confusion_matrix(y_test, y_pred_rf)\n",
        "plt.figure(figsize=(6, 4))\n",
        "sns.heatmap(cm_rf, annot=True, fmt='d', cmap='Blues', xticklabels=['Genuine', 'Spam'], yticklabels=['Genuine', 'Spam'])\n",
        "plt.xlabel('Predicted')\n",
        "plt.ylabel('Actual')\n",
        "plt.title('Random Forest Confusion Matrix')\n",
        "plt.show()"
      ],
      "metadata": {
        "colab": {
          "base_uri": "https://localhost:8080/"
        },
        "id": "PDvrddTqkFA_",
        "outputId": "dc5fa117-619b-4bbb-e533-d49f5431f6ac"
      },
      "execution_count": null,
      "outputs": [
        {
          "output_type": "stream",
          "name": "stdout",
          "text": [
            "Random Forest Model Performance:\n",
            "Accuracy: 0.9966\n",
            "Precision: 1.0000\n",
            "Recall: 0.9848\n",
            "F1-Score: 0.9924\n"
          ]
        },
        {
          "output_type": "display_data",
          "data": {
            "text/plain": [
              "<Figure size 600x400 with 2 Axes>"
            ],
            "image/png": "[encoded data removed]"
          },
          "metadata": {}
        }
      ]
    },
    {
      "cell_type": "code",
      "source": [
        "y_pred_test = rf_model.predict(X_test_scaled)\n",
        "y_pred_train = rf_model.predict(X_train_scaled)"
      ],
      "metadata": {
        "id": "gpfRkYMgEYlK"
      },
      "execution_count": null,
      "outputs": []
    },
    {
      "cell_type": "code",
      "source": [
        "from sklearn.metrics import classification_report\n",
        "\n",
        "print(\"--- Test Set Performance ---\")\n",
        "print(f\"Accuracy: {accuracy_score(y_test, y_pred_test):.4f}\")\n",
        "print(classification_report(y_test, y_pred_test, target_names=['Genuine', 'Spam']))\n",
        "\n",
        "print(\"\\n--- Training Set Performance ---\")\n",
        "print(f\"Accuracy: {accuracy_score(y_train, y_pred_train):.4f}\")\n",
        "print(classification_report(y_train, y_pred_train, target_names=['Genuine', 'Spam']))"
      ],
      "metadata": {
        "id": "CZW5UmQqPg-r",
        "outputId": "aa3a1842-a5c6-4620-e981-d5ba301e42dd",
        "colab": {
          "base_uri": "https://localhost:8080/"
        }
      },
      "execution_count": null,
      "outputs": [
        {
          "output_type": "stream",
          "name": "stdout",
          "text": [
            "--- Test Set Performance ---\n",
            "Accuracy: 0.9966\n",
            "              precision    recall  f1-score   support\n",
            "\n",
            "     Genuine       1.00      1.00      1.00       695\n",
            "        Spam       1.00      0.98      0.99       198\n",
            "\n",
            "    accuracy                           1.00       893\n",
            "   macro avg       1.00      0.99      1.00       893\n",
            "weighted avg       1.00      1.00      1.00       893\n",
            "\n",
            "\n",
            "--- Training Set Performance ---\n",
            "Accuracy: 1.0000\n",
            "              precision    recall  f1-score   support\n",
            "\n",
            "     Genuine       1.00      1.00      1.00      2779\n",
            "        Spam       1.00      1.00      1.00       793\n",
            "\n",
            "    accuracy                           1.00      3572\n",
            "   macro avg       1.00      1.00      1.00      3572\n",
            "weighted avg       1.00      1.00      1.00      3572\n",
            "\n"
          ]
        }
      ]
    },
    {
      "cell_type": "markdown",
      "source": [
        "# DecisionTree"
      ],
      "metadata": {
        "id": "M-aH2PmNWtG3"
      }
    },
    {
      "cell_type": "code",
      "source": [
        "from sklearn.tree import DecisionTreeClassifier\n",
        "\n",
        "# Enhanced Decision Tree with regularization for high-dimensional data\n",
        "dt_model = DecisionTreeClassifier(\n",
        "    criterion='gini',\n",
        "    max_depth=10,            # Prevent overfitting\n",
        "    min_samples_split=30,\n",
        "    min_samples_leaf=12,\n",
        "    max_features='sqrt',\n",
        "    class_weight='balanced',\n",
        "    min_impurity_decrease=1e-4,\n",
        "    random_state=42\n",
        ")\n",
        "print(f\"Decision Tree configured with max_depth={dt_model.max_depth}, balanced classes, and sqrt feature selection.\")"
      ],
      "metadata": {
        "colab": {
          "base_uri": "https://localhost:8080/"
        },
        "id": "XB-33UaHWscJ",
        "outputId": "26981325-a63e-4418-b1da-b68dd892e8e3"
      },
      "execution_count": null,
      "outputs": [
        {
          "output_type": "stream",
          "name": "stdout",
          "text": [
            "Decision Tree configured with max_depth=10, balanced classes, and sqrt feature selection.\n"
          ]
        }
      ]
    },
    {
      "cell_type": "code",
      "source": [
        "import time\n",
        "\n",
        "# Train Decision Tree with timing and tree statistics\n",
        "print(f\"Training Decision Tree on {X_train.shape[0]} samples with {X_train.shape[1]} features...\")\n",
        "start_time = time.time()\n",
        "dt_model.fit(X_train_scaled, y_train)\n",
        "training_time = time.time() - start_time\n",
        "\n",
        "print(f\"✓ Decision Tree model trained successfully in {training_time:.2f} seconds\")\n",
        "print(f\"Tree depth: {dt_model.tree_.max_depth} (max allowed: {dt_model.max_depth})\")\n",
        "print(f\"Number of leaves: {dt_model.tree_.n_leaves}\")\n",
        "print(f\"Features used in tree: {dt_model.tree_.n_features} out of {X_train.shape[1]} total features\")"
      ],
      "metadata": {
        "colab": {
          "base_uri": "https://localhost:8080/"
        },
        "id": "d5_M4BbKW5up",
        "outputId": "71487f70-f847-42e5-8c60-f70c7eeaea41"
      },
      "execution_count": null,
      "outputs": [
        {
          "output_type": "stream",
          "name": "stdout",
          "text": [
            "Training Decision Tree on 3572 samples with 19 features...\n",
            "✓ Decision Tree model trained successfully in 0.01 seconds\n",
            "Tree depth: 6 (max allowed: 10)\n",
            "Number of leaves: 13\n",
            "Features used in tree: 19 out of 19 total features\n"
          ]
        }
      ]
    },
    {
      "cell_type": "code",
      "source": [
        "from sklearn.metrics import accuracy_score, precision_score, recall_score, f1_score, confusion_matrix, classification_report\n",
        "\n",
        "# Make predictions on the test set\n",
        "y_pred_dt = dt_model.predict(X_test_scaled)\n",
        "\n",
        "# Calculate evaluation metrics\n",
        "accuracy_dt = accuracy_score(y_test, y_pred_dt)\n",
        "precision_dt = precision_score(y_test, y_pred_dt)\n",
        "recall_dt = recall_score(y_test, y_pred_dt)\n",
        "f1_dt = f1_score(y_test, y_pred_dt)\n",
        "conf_matrix_dt = confusion_matrix(y_test, y_pred_dt)\n",
        "class_report_dt = classification_report(y_test, y_pred_dt)\n",
        "\n",
        "\n",
        "print(f\"Decision Tree Accuracy: {accuracy_dt:.4f}\")\n",
        "print(f\"Decision Tree Precision: {precision_dt:.4f}\")\n",
        "print(f\"Decision Tree Recall: {recall_dt:.4f}\")\n",
        "print(f\"Decision Tree F1-score: {f1_dt:.4f}\")\n",
        "\n",
        "print(\"Decision Tree Confusion Matrix:\")\n",
        "print(conf_matrix_dt)\n",
        "\n",
        "print(\"Decision Tree Classification Report:\")\n",
        "print(class_report_dt)"
      ],
      "metadata": {
        "colab": {
          "base_uri": "https://localhost:8080/"
        },
        "id": "cSyWTjKnW8ON",
        "outputId": "18044525-e523-46aa-95f3-9d577db882a3"
      },
      "execution_count": null,
      "outputs": [
        {
          "output_type": "stream",
          "name": "stdout",
          "text": [
            "Decision Tree Accuracy: 0.8656\n",
            "Decision Tree Precision: 0.6283\n",
            "Decision Tree Recall: 0.9646\n",
            "Decision Tree F1-score: 0.7610\n",
            "Decision Tree Confusion Matrix:\n",
            "[[582 113]\n",
            " [  7 191]]\n",
            "Decision Tree Classification Report:\n",
            "              precision    recall  f1-score   support\n",
            "\n",
            "           0       0.99      0.84      0.91       695\n",
            "           1       0.63      0.96      0.76       198\n",
            "\n",
            "    accuracy                           0.87       893\n",
            "   macro avg       0.81      0.90      0.83       893\n",
            "weighted avg       0.91      0.87      0.87       893\n",
            "\n"
          ]
        }
      ]
    },
    {
      "cell_type": "code",
      "source": [],
      "metadata": {
        "id": "QPigfZ1HXi0J"
      },
      "execution_count": null,
      "outputs": []
    },
    {
      "cell_type": "code",
      "source": [
        "# Grid Search CV for Decision Tree hyperparameter optimization\n",
        "print(\"🔍 Starting Grid Search CV for Decision Tree...\")\n",
        "print(\"Parameter grid: max_depth=[8,10,12,15,18,20], min_samples_split=[15,20,25,30], min_samples_leaf=[8,10,12,15]\")\n",
        "\n",
        "# Define parameter grid for Decision Tree\n",
        "dt_param_grid = {\n",
        "    'max_depth': [8, 10, 12, 15, 18, 20],\n",
        "    'min_samples_split': [15, 20, 25, 30],\n",
        "    'min_samples_leaf': [8, 10, 12, 15]\n",
        "}\n",
        "\n",
        "# Create Decision Tree base model for Grid Search\n",
        "dt_base = DecisionTreeClassifier(\n",
        "    criterion='gini',\n",
        "    max_features='sqrt',\n",
        "    class_weight='balanced',\n",
        "    min_impurity_decrease=1e-4,\n",
        "    random_state=42\n",
        ")\n",
        "\n",
        "# Grid Search with 5-fold cross-validation, optimizing F1-score\n",
        "dt_grid_search = GridSearchCV(\n",
        "    estimator=dt_base,\n",
        "    param_grid=dt_param_grid,\n",
        "    cv=5,\n",
        "    scoring='f1',\n",
        "    n_jobs=-1,\n",
        "    verbose=1,\n",
        "    refit=True\n",
        ")\n",
        "\n",
        "print(f\"Fitting Grid Search on {X_train_scaled.shape[0]} samples...\")\n",
        "start_time = time.time()\n",
        "\n",
        "# Fit Grid Search\n",
        "dt_grid_search.fit(X_train_scaled, y_train)\n",
        "\n",
        "grid_time = time.time() - start_time\n",
        "print(f\"✓ Grid Search completed in {grid_time:.2f} seconds\")\n",
        "print(f\"Best F1 Score (CV): {dt_grid_search.best_score_:.4f}\")\n",
        "print(f\"Best Parameters: {dt_grid_search.best_params_}\")\n",
        "\n",
        "# Get the best Decision Tree model\n",
        "best_dt_model = dt_grid_search.best_estimator_\n",
        "print(f\"Best Decision Tree depth: {best_dt_model.tree_.max_depth} (max allowed: {best_dt_model.max_depth})\")\n",
        "print(f\"Best Decision Tree leaves: {best_dt_model.tree_.n_leaves}\")"
      ],
      "metadata": {
        "colab": {
          "base_uri": "https://localhost:8080/"
        },
        "id": "G-hXvRXeX9ip",
        "outputId": "6d63f8c6-b1d7-48ce-da24-1a6f95d952f8"
      },
      "execution_count": null,
      "outputs": [
        {
          "output_type": "stream",
          "name": "stdout",
          "text": [
            "🔍 Starting Grid Search CV for Decision Tree...\n",
            "Parameter grid: max_depth=[8,10,12,15,18,20], min_samples_split=[15,20,25,30], min_samples_leaf=[8,10,12,15]\n",
            "Fitting Grid Search on 3572 samples...\n",
            "Fitting 5 folds for each of 96 candidates, totalling 480 fits\n",
            "✓ Grid Search completed in 4.51 seconds\n",
            "Best F1 Score (CV): 0.9203\n",
            "Best Parameters: {'max_depth': 8, 'min_samples_leaf': 8, 'min_samples_split': 30}\n",
            "Best Decision Tree depth: 8 (max allowed: 8)\n",
            "Best Decision Tree leaves: 27\n"
          ]
        }
      ]
    },
    {
      "cell_type": "markdown",
      "metadata": {
        "id": "fd79e5aa"
      },
      "source": [
        "# Train the Logistic Regression Model\n",
        "\n",
        "Train the Logistic Regression model on the training data."
      ]
    },
    {
      "cell_type": "code",
      "source": [
        "from sklearn.linear_model import LogisticRegression\n",
        "\n",
        "# Initialize the Logistic Regression model\n",
        "model = LogisticRegression(random_state=42, solver='liblinear') # Using 'liblinear' solver for potentially better performance on smaller datasets\n",
        "\n",
        "# Train the model\n",
        "model.fit(X_train_scaled, y_train)\n",
        "\n",
        "print(\"Logistic Regression model training complete.\")"
      ],
      "metadata": {
        "colab": {
          "base_uri": "https://localhost:8080/"
        },
        "id": "sua5spIUjYpV",
        "outputId": "8aad0f41-3c92-45be-f336-aca8bf239326"
      },
      "execution_count": null,
      "outputs": [
        {
          "output_type": "stream",
          "name": "stdout",
          "text": [
            "Logistic Regression model training complete.\n"
          ]
        }
      ]
    },
    {
      "cell_type": "markdown",
      "source": [
        "### Evaluate the Model\n",
        "\n",
        "Evaluate the performance of the trained Logistic Regression model on the test data using relevant metrics."
      ],
      "metadata": {
        "id": "joXdk9e7jmSA"
      }
    },
    {
      "cell_type": "code",
      "source": [
        "from sklearn.metrics import accuracy_score, precision_score, recall_score, f1_score, confusion_matrix\n",
        "import matplotlib.pyplot as plt\n",
        "import seaborn as sns\n",
        "\n",
        "# Make predictions on the test data\n",
        "y_pred = model.predict(X_test_scaled)\n",
        "\n",
        "# Calculate evaluation metrics\n",
        "accuracy = accuracy_score(y_test, y_pred)\n",
        "precision = precision_score(y_test, y_pred)\n",
        "recall = recall_score(y_test, y_pred)\n",
        "f1 = f1_score(y_test, y_pred)\n",
        "\n",
        "# Print the metrics\n",
        "print(f\"Accuracy: {accuracy:.4f}\")\n",
        "print(f\"Precision: {precision:.4f}\")\n",
        "print(f\"Recall: {recall:.4f}\")\n",
        "print(f\"F1-Score: {f1:.4f}\")\n",
        "\n",
        "# Display the confusion matrix\n",
        "cm = confusion_matrix(y_test, y_pred)\n",
        "plt.figure(figsize=(6, 4))\n",
        "sns.heatmap(cm, annot=True, fmt='d', cmap='Blues', xticklabels=['Genuine', 'Spam'], yticklabels=['Genuine', 'Spam'])\n",
        "plt.xlabel('Predicted')\n",
        "plt.ylabel('Actual')\n",
        "plt.title('Confusion Matrix')\n",
        "plt.show()"
      ],
      "metadata": {
        "colab": {
          "base_uri": "https://localhost:8080/",
          "height": 484
        },
        "id": "eeR33nGJjlF3",
        "outputId": "eb79123b-13dd-479f-cfa2-ae0971b7ef02"
      },
      "execution_count": null,
      "outputs": [
        {
          "output_type": "stream",
          "name": "stdout",
          "text": [
            "Accuracy: 0.9933\n",
            "Precision: 0.9848\n",
            "Recall: 0.9848\n",
            "F1-Score: 0.9848\n"
          ]
        },
        {
          "output_type": "display_data",
          "data": {
            "text/plain": [
              "<Figure size 600x400 with 2 Axes>"
            ],
            "image/png": "[encoded data removed]"
          },
          "metadata": {}
        }
      ]
    },
    {
      "cell_type": "code",
      "source": [
        "from statsmodels.stats.outliers_influence import variance_inflation_factor\n",
        "\n",
        "# Create a new DataFrame with your features (X)\n",
        "# Make sure X contains only the final numerical features used in the model\n",
        "features_df = df.drop('label', axis=1)\n",
        "\n",
        "# Select only numeric and boolean columns for VIF calculation\n",
        "numeric_and_bool_features_df = features_df.select_dtypes(include=['number', 'bool']).copy()\n",
        "\n",
        "# Convert boolean columns to integers (0s and 1s)\n",
        "for col in numeric_and_bool_features_df.select_dtypes(include=['bool']).columns:\n",
        "    numeric_and_bool_features_df[col] = numeric_and_bool_features_df[col].astype(int)\n",
        "\n",
        "# Calculate VIF for each feature\n",
        "vif_data = pd.DataFrame()\n",
        "vif_data[\"feature\"] = numeric_and_bool_features_df.columns\n",
        "vif_data[\"VIF\"] = [variance_inflation_factor(numeric_and_bool_features_df.values, i) for i in range(len(numeric_and_bool_features_df.columns))]\n",
        "\n",
        "print(vif_data.sort_values(by=\"VIF\", ascending=False))"
      ],
      "metadata": {
        "id": "AbOfiOx7L_8g",
        "colab": {
          "base_uri": "https://localhost:8080/"
        },
        "outputId": "6980b185-150c-44d5-8374-80721d4077d9"
      },
      "execution_count": null,
      "outputs": [
        {
          "output_type": "stream",
          "name": "stdout",
          "text": [
            "                         feature        VIF\n",
            "0                 statuses_count  50.772196\n",
            "10              account_age_days  34.047887\n",
            "4   profile_use_background_image  13.044325\n",
            "6               favourites_count  12.973143\n",
            "18         follower_friend_ratio  11.121034\n",
            "13                       lang_it   2.980151\n",
            "1                   listed_count   2.928738\n",
            "9                    geo_enabled   2.770323\n",
            "2        profile_background_tile   2.164598\n",
            "8                default_profile   2.072678\n",
            "11                       lang_es   1.042142\n",
            "3                       verified   1.031669\n",
            "7                      protected   1.030684\n",
            "14                       lang_ja   1.016105\n",
            "5          default_profile_image   1.013445\n",
            "15                    lang_other   1.010780\n",
            "17                       lang_zh   1.008207\n",
            "12                       lang_fr   1.008068\n",
            "16                       lang_pt   1.006619\n"
          ]
        }
      ]
    },
    {
      "cell_type": "code",
      "source": [
        "# Add a small number (e.g., 1) to account_age_days to avoid division by zero for very new accounts\n",
        "df['statuses_per_day'] = df['statuses_count'] / (df['account_age_days'] + 1)\n",
        "df['favourites_per_day'] = df['favourites_count'] / (df['account_age_days'] + 1)"
      ],
      "metadata": {
        "id": "SgXYjcJ2xjf2"
      },
      "execution_count": null,
      "outputs": []
    },
    {
      "cell_type": "code",
      "source": [
        "# Drop the original columns\n",
        "df.drop(['statuses_count', 'account_age_days', 'favourites_count'], axis=1, inplace=True)"
      ],
      "metadata": {
        "id": "2aezlcKeMNkP"
      },
      "execution_count": null,
      "outputs": []
    },
    {
      "cell_type": "code",
      "source": [
        "from sklearn.model_selection import train_test_split\n",
        "\n",
        "# Define features (X) and target (y)\n",
        "X = df.drop('label', axis=1)\n",
        "y = df['label']\n",
        "\n",
        "# Split data into training and testing sets\n",
        "X_train, X_test, y_train, y_test = train_test_split(X, y, test_size=0.2, random_state=42, stratify=y)\n",
        "\n",
        "print(\"Shape of X_train:\", X_train.shape)\n",
        "print(\"Shape of X_test:\", X_test.shape)\n",
        "print(\"Shape of y_train:\", y_train.shape)\n",
        "print(\"Shape of y_test:\", y_test.shape)"
      ],
      "metadata": {
        "id": "tO9LYx_35syk"
      },
      "execution_count": null,
      "outputs": []
    },
    {
      "cell_type": "code",
      "source": [
        "from sklearn.linear_model import LogisticRegression\n",
        "\n",
        "# Initialize the Logistic Regression model\n",
        "model1 = LogisticRegression(random_state=42, solver='liblinear') # Using 'liblinear' solver for potentially better performance on smaller datasets\n",
        "\n",
        "# Train the model\n",
        "model1.fit(X_train_scaled, y_train)\n",
        "\n",
        "print(\"Logistic Regression model training complete.\")"
      ],
      "metadata": {
        "colab": {
          "base_uri": "https://localhost:8080/"
        },
        "id": "PNsKjqXwFA61",
        "outputId": "d7a87b9c-94af-49a7-a0e1-b4ef17c4806e"
      },
      "execution_count": null,
      "outputs": [
        {
          "output_type": "stream",
          "name": "stdout",
          "text": [
            "Logistic Regression model training complete.\n"
          ]
        }
      ]
    },
    {
      "cell_type": "code",
      "source": [
        "from sklearn.metrics import accuracy_score, precision_score, recall_score, f1_score, confusion_matrix\n",
        "import matplotlib.pyplot as plt\n",
        "import seaborn as sns\n",
        "\n",
        "# Make predictions on the test data\n",
        "y_pred = model1.predict(X_test_scaled)\n",
        "\n",
        "# Calculate evaluation metrics\n",
        "accuracy = accuracy_score(y_test, y_pred)\n",
        "precision = precision_score(y_test, y_pred)\n",
        "recall = recall_score(y_test, y_pred)\n",
        "f1 = f1_score(y_test, y_pred)\n",
        "\n",
        "# Print the metrics\n",
        "print(f\"Accuracy: {accuracy:.4f}\")\n",
        "print(f\"Precision: {precision:.4f}\")\n",
        "print(f\"Recall: {recall:.4f}\")\n",
        "print(f\"F1-Score: {f1:.4f}\")\n",
        "\n",
        "# Display the confusion matrix\n",
        "cm = confusion_matrix(y_test, y_pred)\n",
        "plt.figure(figsize=(6, 4))\n",
        "sns.heatmap(cm, annot=True, fmt='d', cmap='Blues', xticklabels=['Genuine', 'Spam'], yticklabels=['Genuine', 'Spam'])\n",
        "plt.xlabel('Predicted')\n",
        "plt.ylabel('Actual')\n",
        "plt.title('Confusion Matrix')\n",
        "plt.show()"
      ],
      "metadata": {
        "colab": {
          "base_uri": "https://localhost:8080/",
          "height": 484
        },
        "id": "mIdWJzFEMjb_",
        "outputId": "0bf754d9-45bc-4a63-f195-3872b4acd6f1"
      },
      "execution_count": null,
      "outputs": [
        {
          "output_type": "stream",
          "name": "stdout",
          "text": [
            "Accuracy: 0.9933\n",
            "Precision: 0.9848\n",
            "Recall: 0.9848\n",
            "F1-Score: 0.9848\n"
          ]
        },
        {
          "output_type": "display_data",
          "data": {
            "text/plain": [
              "<Figure size 600x400 with 2 Axes>"
            ],
            "image/png": "[encoded data removed]"
          },
          "metadata": {}
        }
      ]
    },
    {
      "cell_type": "code",
      "source": [
        "from statsmodels.stats.outliers_influence import variance_inflation_factor\n",
        "\n",
        "# Create a new DataFrame with your features (X)\n",
        "# Make sure X contains only the final numerical features used in the model\n",
        "features_df = df.drop('label', axis=1)\n",
        "\n",
        "# Select only numeric and boolean columns for VIF calculation\n",
        "numeric_and_bool_features_df = features_df.select_dtypes(include=['number', 'bool']).copy()\n",
        "\n",
        "# Convert boolean columns to integers (0s and 1s)\n",
        "for col in numeric_and_bool_features_df.select_dtypes(include=['bool']).columns:\n",
        "    numeric_and_bool_features_df[col] = numeric_and_bool_features_df[col].astype(int)\n",
        "\n",
        "# Calculate VIF for each feature\n",
        "vif_data = pd.DataFrame()\n",
        "vif_data[\"feature\"] = numeric_and_bool_features_df.columns\n",
        "vif_data[\"VIF\"] = [variance_inflation_factor(numeric_and_bool_features_df.values, i) for i in range(len(numeric_and_bool_features_df.columns))]\n",
        "\n",
        "print(vif_data.sort_values(by=\"VIF\", ascending=False))"
      ],
      "metadata": {
        "colab": {
          "base_uri": "https://localhost:8080/"
        },
        "id": "iSuX5b7ZMqEu",
        "outputId": "752631aa-58d4-4658-dd30-a6c9b56ef759"
      },
      "execution_count": null,
      "outputs": [
        {
          "output_type": "stream",
          "name": "stdout",
          "text": [
            "                         feature        VIF\n",
            "16              statuses_per_day  32.745946\n",
            "17            favourites_per_day  12.546670\n",
            "15         follower_friend_ratio  11.237059\n",
            "3   profile_use_background_image   9.898260\n",
            "0                   listed_count   2.678817\n",
            "10                       lang_it   2.651379\n",
            "7                    geo_enabled   2.638329\n",
            "1        profile_background_tile   2.152311\n",
            "6                default_profile   2.094357\n",
            "8                        lang_es   1.042804\n",
            "5                      protected   1.031836\n",
            "2                       verified   1.031109\n",
            "11                       lang_ja   1.017851\n",
            "4          default_profile_image   1.014773\n",
            "12                    lang_other   1.011783\n",
            "9                        lang_fr   1.008459\n",
            "13                       lang_pt   1.006762\n",
            "14                       lang_zh   1.005862\n"
          ]
        }
      ]
    },
    {
      "cell_type": "code",
      "source": [
        "# Remove the feature with the highest remaining VIF score\n",
        "df.drop('statuses_per_day', axis=1, inplace=True)"
      ],
      "metadata": {
        "id": "BOL5aiueNL6s"
      },
      "execution_count": null,
      "outputs": []
    },
    {
      "cell_type": "code",
      "source": [
        "from sklearn.model_selection import train_test_split\n",
        "\n",
        "# Define features (X) and target (y)\n",
        "X = df.drop('label', axis=1)\n",
        "y = df['label']\n",
        "\n",
        "# Split data into training and testing sets\n",
        "X_train, X_test, y_train, y_test = train_test_split(X, y, test_size=0.2, random_state=42, stratify=y)\n",
        "\n",
        "print(\"Shape of X_train:\", X_train.shape)\n",
        "print(\"Shape of X_test:\", X_test.shape)\n",
        "print(\"Shape of y_train:\", y_train.shape)\n",
        "print(\"Shape of y_test:\", y_test.shape)"
      ],
      "metadata": {
        "colab": {
          "base_uri": "https://localhost:8080/"
        },
        "id": "Zmk_qPu3NPWY",
        "outputId": "02e4c9dc-7538-4a1c-878f-f5bd40863f2c"
      },
      "execution_count": null,
      "outputs": [
        {
          "output_type": "stream",
          "name": "stdout",
          "text": [
            "Shape of X_train: (3572, 17)\n",
            "Shape of X_test: (893, 17)\n",
            "Shape of y_train: (3572,)\n",
            "Shape of y_test: (893,)\n"
          ]
        }
      ]
    },
    {
      "cell_type": "code",
      "source": [
        "from sklearn.linear_model import LogisticRegression\n",
        "\n",
        "# Initialize the Logistic Regression model\n",
        "model2 = LogisticRegression(random_state=42, solver='liblinear') # Using 'liblinear' solver for potentially better performance on smaller datasets\n",
        "\n",
        "# Train the model\n",
        "model2.fit(X_train_scaled, y_train)\n",
        "\n",
        "print(\"Logistic Regression model training complete.\")"
      ],
      "metadata": {
        "colab": {
          "base_uri": "https://localhost:8080/"
        },
        "id": "6gjgOLb7NSnP",
        "outputId": "95300915-f196-417d-9666-245d72a2c7f7"
      },
      "execution_count": null,
      "outputs": [
        {
          "output_type": "stream",
          "name": "stdout",
          "text": [
            "Logistic Regression model training complete.\n"
          ]
        }
      ]
    },
    {
      "cell_type": "code",
      "source": [
        "from sklearn.metrics import accuracy_score, precision_score, recall_score, f1_score, confusion_matrix\n",
        "import matplotlib.pyplot as plt\n",
        "import seaborn as sns\n",
        "\n",
        "# Make predictions on the test data\n",
        "y_pred = model2.predict(X_test_scaled)\n",
        "\n",
        "# Calculate evaluation metrics\n",
        "accuracy = accuracy_score(y_test, y_pred)\n",
        "precision = precision_score(y_test, y_pred)\n",
        "recall = recall_score(y_test, y_pred)\n",
        "f1 = f1_score(y_test, y_pred)\n",
        "\n",
        "# Print the metrics\n",
        "print(f\"Accuracy: {accuracy:.4f}\")\n",
        "print(f\"Precision: {precision:.4f}\")\n",
        "print(f\"Recall: {recall:.4f}\")\n",
        "print(f\"F1-Score: {f1:.4f}\")\n",
        "\n",
        "# Display the confusion matrix\n",
        "cm = confusion_matrix(y_test, y_pred)\n",
        "plt.figure(figsize=(6, 4))\n",
        "sns.heatmap(cm, annot=True, fmt='d', cmap='Blues', xticklabels=['Genuine', 'Spam'], yticklabels=['Genuine', 'Spam'])\n",
        "plt.xlabel('Predicted')\n",
        "plt.ylabel('Actual')\n",
        "plt.title('Confusion Matrix')\n",
        "plt.show()"
      ],
      "metadata": {
        "colab": {
          "base_uri": "https://localhost:8080/",
          "height": 484
        },
        "id": "fk4BR-FENUsC",
        "outputId": "c2a697e0-d995-4792-b1c3-2502ce5385fc"
      },
      "execution_count": null,
      "outputs": [
        {
          "output_type": "stream",
          "name": "stdout",
          "text": [
            "Accuracy: 0.9933\n",
            "Precision: 0.9848\n",
            "Recall: 0.9848\n",
            "F1-Score: 0.9848\n"
          ]
        },
        {
          "output_type": "display_data",
          "data": {
            "text/plain": [
              "<Figure size 600x400 with 2 Axes>"
            ],
            "image/png": "[encoded data removed]"
          },
          "metadata": {}
        }
      ]
    },
    {
      "cell_type": "code",
      "source": [
        "y_pred_test = model2.predict(X_test_scaled)\n",
        "y_pred_train = model2.predict(X_train_scaled)"
      ],
      "metadata": {
        "id": "KK6hQNSfO4wx"
      },
      "execution_count": null,
      "outputs": []
    },
    {
      "cell_type": "code",
      "source": [
        "from sklearn.metrics import classification_report\n",
        "\n",
        "print(\"--- Test Set Performance ---\")\n",
        "print(f\"Accuracy: {accuracy_score(y_test, y_pred_test):.4f}\")\n",
        "print(classification_report(y_test, y_pred_test, target_names=['Genuine', 'Spam']))\n",
        "\n",
        "print(\"\\n--- Training Set Performance ---\")\n",
        "print(f\"Accuracy: {accuracy_score(y_train, y_pred_train):.4f}\")\n",
        "print(classification_report(y_train, y_pred_train, target_names=['Genuine', 'Spam']))"
      ],
      "metadata": {
        "colab": {
          "base_uri": "https://localhost:8080/"
        },
        "id": "nDmiktGGO7lD",
        "outputId": "05602a35-d446-4c57-89c0-b477f178a72b"
      },
      "execution_count": null,
      "outputs": [
        {
          "output_type": "stream",
          "name": "stdout",
          "text": [
            "--- Test Set Performance ---\n",
            "Accuracy: 0.9933\n",
            "              precision    recall  f1-score   support\n",
            "\n",
            "     Genuine       1.00      1.00      1.00       695\n",
            "        Spam       0.98      0.98      0.98       198\n",
            "\n",
            "    accuracy                           0.99       893\n",
            "   macro avg       0.99      0.99      0.99       893\n",
            "weighted avg       0.99      0.99      0.99       893\n",
            "\n",
            "\n",
            "--- Training Set Performance ---\n",
            "Accuracy: 0.9952\n",
            "              precision    recall  f1-score   support\n",
            "\n",
            "     Genuine       1.00      1.00      1.00      2779\n",
            "        Spam       0.99      0.99      0.99       793\n",
            "\n",
            "    accuracy                           1.00      3572\n",
            "   macro avg       0.99      0.99      0.99      3572\n",
            "weighted avg       1.00      1.00      1.00      3572\n",
            "\n"
          ]
        }
      ]
    },
    {
      "cell_type": "code",
      "source": [
        "from statsmodels.stats.outliers_influence import variance_inflation_factor\n",
        "\n",
        "# Create a new DataFrame with your features (X)\n",
        "# Make sure X contains only the final numerical features used in the model\n",
        "features_df = df.drop('label', axis=1)\n",
        "\n",
        "# Select only numeric and boolean columns for VIF calculation\n",
        "numeric_and_bool_features_df = features_df.select_dtypes(include=['number', 'bool']).copy()\n",
        "\n",
        "# Convert boolean columns to integers (0s and 1s)\n",
        "for col in numeric_and_bool_features_df.select_dtypes(include=['bool']).columns:\n",
        "    numeric_and_bool_features_df[col] = numeric_and_bool_features_df[col].astype(int)\n",
        "\n",
        "# Calculate VIF for each feature\n",
        "vif_data = pd.DataFrame()\n",
        "vif_data[\"feature\"] = numeric_and_bool_features_df.columns\n",
        "vif_data[\"VIF\"] = [variance_inflation_factor(numeric_and_bool_features_df.values, i) for i in range(len(numeric_and_bool_features_df.columns))]\n",
        "\n",
        "print(vif_data.sort_values(by=\"VIF\", ascending=False))"
      ],
      "metadata": {
        "colab": {
          "base_uri": "https://localhost:8080/"
        },
        "id": "NhK2tMkxNbSu",
        "outputId": "dd4e78f1-8248-432f-fda0-fdcf550e059c"
      },
      "execution_count": null,
      "outputs": [
        {
          "output_type": "stream",
          "name": "stdout",
          "text": [
            "                         feature       VIF\n",
            "3   profile_use_background_image  8.876643\n",
            "15         follower_friend_ratio  8.347153\n",
            "16            favourites_per_day  6.677965\n",
            "7                    geo_enabled  2.608717\n",
            "0                   listed_count  2.473395\n",
            "10                       lang_it  2.323790\n",
            "1        profile_background_tile  2.138113\n",
            "6                default_profile  2.082960\n",
            "8                        lang_es  1.042461\n",
            "5                      protected  1.031836\n",
            "2                       verified  1.029192\n",
            "11                       lang_ja  1.013550\n",
            "4          default_profile_image  1.011668\n",
            "12                    lang_other  1.009779\n",
            "9                        lang_fr  1.006161\n",
            "14                       lang_zh  1.005753\n",
            "13                       lang_pt  1.005024\n"
          ]
        }
      ]
    },
    {
      "cell_type": "code",
      "source": [
        "from sklearn.model_selection import GridSearchCV\n",
        "\n",
        "# Grid Search CV for Random Forest hyperparameter optimization\n",
        "print(\"🔍 Starting Grid Search CV for Random Forest...\")\n",
        "print(\"Parameter grid: max_depth=[6,8,10,12,14,16], n_estimators=[100,200], min_samples_split=[15,20,25]\")\n",
        "\n",
        "# Define parameter grid for Random Forest\n",
        "rf_param_grid = {\n",
        "    'max_depth': [6, 8, 10, 12, 14, 16],\n",
        "    'n_estimators': [100, 200],\n",
        "    'min_samples_split': [15, 20, 25]\n",
        "}\n",
        "\n",
        "# Create Random Forest base model for Grid Search\n",
        "rf_base = RandomForestClassifier(\n",
        "    criterion='gini',\n",
        "    min_samples_leaf=8,\n",
        "    max_features='sqrt',\n",
        "    bootstrap=True,\n",
        "    class_weight='balanced_subsample',\n",
        "    oob_score=True,\n",
        "    n_jobs=-1,\n",
        "    random_state=42,\n",
        "    max_samples=0.85\n",
        ")\n",
        "\n",
        "# Grid Search with 5-fold cross-validation, optimizing F1-score\n",
        "rf_grid_search = GridSearchCV(\n",
        "    estimator=rf_base,\n",
        "    param_grid=rf_param_grid,\n",
        "    cv=5,\n",
        "    scoring='f1',\n",
        "    n_jobs=-1,\n",
        "    verbose=1,\n",
        "    refit=True\n",
        ")\n",
        "\n",
        "print(f\"Fitting Grid Search on {X_train_scaled.shape[0]} samples...\")\n",
        "start_time = time.time()\n",
        "\n",
        "# Fit Grid Search\n",
        "rf_grid_search.fit(X_train_scaled, y_train)\n",
        "\n",
        "grid_time = time.time() - start_time\n",
        "print(f\"✓ Grid Search completed in {grid_time:.2f} seconds\")\n",
        "print(f\"Best F1 Score (CV): {rf_grid_search.best_score_:.4f}\")\n",
        "print(f\"Best Parameters: {rf_grid_search.best_params_}\")\n",
        "\n",
        "# Get the best Random Forest model\n",
        "best_rf_model = rf_grid_search.best_estimator_\n",
        "print(f\"Best Random Forest OOB Score: {best_rf_model.oob_score_:.4f}\")"
      ],
      "metadata": {
        "colab": {
          "base_uri": "https://localhost:8080/"
        },
        "id": "4D7AQI2nzaTP",
        "outputId": "a3940438-7946-4d7a-e418-3d799897dd09"
      },
      "execution_count": null,
      "outputs": [
        {
          "output_type": "stream",
          "name": "stdout",
          "text": [
            "🔍 Starting Grid Search CV for Random Forest...\n",
            "Parameter grid: max_depth=[6,8,10,12,14,16], n_estimators=[100,200], min_samples_split=[15,20,25]\n",
            "Fitting Grid Search on 3572 samples...\n",
            "Fitting 5 folds for each of 36 candidates, totalling 180 fits\n",
            "✓ Grid Search completed in 75.34 seconds\n",
            "Best F1 Score (CV): 0.9818\n",
            "Best Parameters: {'max_depth': 12, 'min_samples_split': 20, 'n_estimators': 100}\n",
            "Best Random Forest OOB Score: 0.9902\n"
          ]
        }
      ]
    },
    {
      "cell_type": "markdown",
      "source": [
        "# KNN"
      ],
      "metadata": {
        "id": "nneQBdM9WBYX"
      }
    },
    {
      "cell_type": "code",
      "source": [
        "from sklearn.neighbors import KNeighborsClassifier\n",
        "\n",
        "# Enhanced KNN with optimized hyperparameters for high-dimensional feature space\n",
        "knn_model = KNeighborsClassifier(\n",
        "    n_neighbors=11,          # Larger k → smoother decision boundary\n",
        "    weights='distance',      # Weighted voting helps minority class\n",
        "    algorithm='ball_tree',   # Efficient for high dimension\n",
        "    leaf_size=40,            # Tradeoff speed/accuracy\n",
        "    metric='minkowski',\n",
        "    p=2,\n",
        "    n_jobs=-1\n",
        ")\n",
        "print(f\"KNN configured with {knn_model.n_neighbors} neighbors, distance weighting, and ball_tree algorithm.\")"
      ],
      "metadata": {
        "colab": {
          "base_uri": "https://localhost:8080/"
        },
        "id": "TDMEarcEWASB",
        "outputId": "4684a35c-004a-42f7-9834-be80b4147a1a"
      },
      "execution_count": null,
      "outputs": [
        {
          "output_type": "stream",
          "name": "stdout",
          "text": [
            "KNN configured with 11 neighbors, distance weighting, and ball_tree algorithm.\n"
          ]
        }
      ]
    },
    {
      "cell_type": "code",
      "source": [
        "import time\n",
        "\n",
        "# Train KNN with timing\n",
        "print(f\"Training KNN on {X_train.shape[0]} samples with {X_train.shape[1]} features...\")\n",
        "start_time = time.time()\n",
        "knn_model.fit(X_train_scaled, y_train)\n",
        "training_time = time.time() - start_time\n",
        "\n",
        "print(f\"✓ KNN model trained successfully in {training_time:.2f} seconds\")\n",
        "print(f\"Model details: {knn_model.n_neighbors} neighbors, {knn_model.weights} weighting, {knn_model.algorithm} algorithm\")"
      ],
      "metadata": {
        "colab": {
          "base_uri": "https://localhost:8080/"
        },
        "id": "cUqLzFitWR3B",
        "outputId": "2555f163-ee07-4ebb-da65-3a28181a749f"
      },
      "execution_count": null,
      "outputs": [
        {
          "output_type": "stream",
          "name": "stdout",
          "text": [
            "Training KNN on 3572 samples with 17 features...\n",
            "✓ KNN model trained successfully in 0.00 seconds\n",
            "Model details: 11 neighbors, distance weighting, ball_tree algorithm\n"
          ]
        }
      ]
    },
    {
      "cell_type": "code",
      "source": [
        "from sklearn.metrics import accuracy_score, precision_score, recall_score, f1_score, confusion_matrix, classification_report\n",
        "\n",
        "# Test the k-NN model\n",
        "y_pred_knn = knn_model.predict(X_test_scaled)\n",
        "\n",
        "# Get all the metrics - hope it's better than logistic regression!\n",
        "accuracy_knn = accuracy_score(y_test, y_pred_knn)\n",
        "precision_knn = precision_score(y_test, y_pred_knn)\n",
        "recall_knn = recall_score(y_test, y_pred_knn)\n",
        "f1_knn = f1_score(y_test, y_pred_knn)\n",
        "conf_matrix_knn = confusion_matrix(y_test, y_pred_knn)\n",
        "class_report_knn = classification_report(y_test, y_pred_knn)\n",
        "\n",
        "\n",
        "print(f\"k-NN Accuracy: {accuracy_knn:.4f}\")\n",
        "print(f\"k-NN Precision: {precision_knn:.4f}\")\n",
        "print(f\"k-NN Recall: {recall_knn:.4f}\")\n",
        "print(f\"k-NN F1-score: {f1_knn:.4f}\")\n",
        "\n",
        "print(\"k-NN Confusion Matrix:\")\n",
        "print(conf_matrix_knn)\n",
        "\n",
        "print(\"k-NN Classification Report:\")\n",
        "print(class_report_knn)"
      ],
      "metadata": {
        "colab": {
          "base_uri": "https://localhost:8080/"
        },
        "id": "7tS2sj7MWZpE",
        "outputId": "5935086f-81c8-42b1-99e7-22f9befec99c"
      },
      "execution_count": null,
      "outputs": [
        {
          "output_type": "stream",
          "name": "stdout",
          "text": [
            "k-NN Accuracy: 0.9910\n",
            "k-NN Precision: 0.9948\n",
            "k-NN Recall: 0.9646\n",
            "k-NN F1-score: 0.9795\n",
            "k-NN Confusion Matrix:\n",
            "[[694   1]\n",
            " [  7 191]]\n",
            "k-NN Classification Report:\n",
            "              precision    recall  f1-score   support\n",
            "\n",
            "           0       0.99      1.00      0.99       695\n",
            "           1       0.99      0.96      0.98       198\n",
            "\n",
            "    accuracy                           0.99       893\n",
            "   macro avg       0.99      0.98      0.99       893\n",
            "weighted avg       0.99      0.99      0.99       893\n",
            "\n"
          ]
        }
      ]
    },
    {
      "cell_type": "markdown",
      "source": [
        "# CatBoost"
      ],
      "metadata": {
        "id": "mQsESflA4z5Q"
      }
    },
    {
      "cell_type": "code",
      "source": [
        "# First, ensure the catboost library is installed\n",
        "!pip install catboost -q\n",
        "\n",
        "from catboost import CatBoostClassifier\n",
        "from sklearn.metrics import accuracy_score, precision_score, recall_score, f1_score, confusion_matrix\n",
        "import matplotlib.pyplot as plt\n",
        "import seaborn as sns\n",
        "\n",
        "# Initialize the CatBoost Classifier model\n",
        "# verbose=0 prevents it from printing training logs for each iteration.\n",
        "# auto_class_weights='Balanced' is useful for imbalanced datasets.\n",
        "cat_model = CatBoostClassifier(random_state=42, verbose=0, auto_class_weights='Balanced')\n",
        "\n",
        "# Train the model\n",
        "print(\"Training CatBoost model...\")\n",
        "cat_model.fit(X_train_scaled, y_train)\n",
        "print(\"CatBoost model training complete.\")\n",
        "\n",
        "# Make predictions on the test data\n",
        "y_pred_cat = cat_model.predict(X_test_scaled)\n",
        "\n",
        "# Calculate evaluation metrics\n",
        "accuracy_cat = accuracy_score(y_test, y_pred_cat)\n",
        "precision_cat = precision_score(y_test, y_pred_cat)\n",
        "recall_cat = recall_score(y_test, y_pred_cat)\n",
        "f1_cat = f1_score(y_test, y_pred_cat)\n",
        "\n",
        "# Print the metrics\n",
        "print(\"\\n--- CatBoost Model Performance ---\")\n",
        "print(f\"Accuracy: {accuracy_cat:.4f}\")\n",
        "print(f\"Precision: {precision_cat:.4f}\")\n",
        "print(f\"Recall: {recall_cat:.4f}\")\n",
        "print(f\"F1-Score: {f1_cat:.4f}\")\n",
        "\n",
        "# Display the confusion matrix\n",
        "print(\"\\nConfusion Matrix:\")\n",
        "cm_cat = confusion_matrix(y_test, y_pred_cat)\n",
        "plt.figure(figsize=(6, 4))\n",
        "sns.heatmap(cm_cat, annot=True, fmt='d', cmap='Blues', xticklabels=['Genuine', 'Spam'], yticklabels=['Genuine', 'Spam'])\n",
        "plt.xlabel('Predicted')\n",
        "plt.ylabel('Actual')\n",
        "plt.title('CatBoost Confusion Matrix')\n",
        "plt.show()\n"
      ],
      "metadata": {
        "colab": {
          "base_uri": "https://localhost:8080/",
          "height": 595
        },
        "id": "EmTNxNge488D",
        "outputId": "e569ce25-2a64-473a-ab1e-739cbcae12cc"
      },
      "execution_count": null,
      "outputs": [
        {
          "output_type": "stream",
          "name": "stdout",
          "text": [
            "Training CatBoost model...\n",
            "CatBoost model training complete.\n",
            "\n",
            "--- CatBoost Model Performance ---\n",
            "Accuracy: 0.9966\n",
            "Precision: 1.0000\n",
            "Recall: 0.9848\n",
            "F1-Score: 0.9924\n",
            "\n",
            "Confusion Matrix:\n"
          ]
        },
        {
          "output_type": "display_data",
          "data": {
            "text/plain": [
              "<Figure size 600x400 with 2 Axes>"
            ],
            "image/png": "[encoded data removed]"
          },
          "metadata": {}
        }
      ]
    },
    {
      "cell_type": "code",
      "source": [],
      "metadata": {
        "id": "pH6-rN7q6HOI"
      },
      "execution_count": null,
      "outputs": []
    }
  ]
}